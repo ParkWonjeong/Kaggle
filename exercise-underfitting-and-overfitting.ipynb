{
 "cells": [
  {
   "cell_type": "markdown",
   "id": "8da6a916",
   "metadata": {
    "papermill": {
     "duration": 0.00362,
     "end_time": "2024-11-06T06:32:26.971877",
     "exception": false,
     "start_time": "2024-11-06T06:32:26.968257",
     "status": "completed"
    },
    "tags": []
   },
   "source": [
    "**This notebook is an exercise in the [Introduction to Machine Learning](https://www.kaggle.com/learn/intro-to-machine-learning) course.  You can reference the tutorial at [this link](https://www.kaggle.com/dansbecker/underfitting-and-overfitting).**\n",
    "\n",
    "---\n"
   ]
  },
  {
   "cell_type": "markdown",
   "id": "f1624971",
   "metadata": {
    "papermill": {
     "duration": 0.002928,
     "end_time": "2024-11-06T06:32:26.978540",
     "exception": false,
     "start_time": "2024-11-06T06:32:26.975612",
     "status": "completed"
    },
    "tags": []
   },
   "source": [
    "## Recap\n",
    "You've built your first model, and now it's time to optimize the size of the tree to make better predictions. Run this cell to set up your coding environment where the previous step left off."
   ]
  },
  {
   "cell_type": "code",
   "execution_count": 1,
   "id": "20bfa2cd",
   "metadata": {
    "execution": {
     "iopub.execute_input": "2024-11-06T06:32:26.986337Z",
     "iopub.status.busy": "2024-11-06T06:32:26.985868Z",
     "iopub.status.idle": "2024-11-06T06:32:29.146370Z",
     "shell.execute_reply": "2024-11-06T06:32:29.145280Z"
    },
    "papermill": {
     "duration": 2.168492,
     "end_time": "2024-11-06T06:32:29.150104",
     "exception": false,
     "start_time": "2024-11-06T06:32:26.981612",
     "status": "completed"
    },
    "tags": []
   },
   "outputs": [
    {
     "name": "stdout",
     "output_type": "stream",
     "text": [
      "Validation MAE: 29,653\n",
      "\n",
      "Setup complete\n"
     ]
    }
   ],
   "source": [
    "# Code you have previously used to load data\n",
    "import pandas as pd\n",
    "from sklearn.metrics import mean_absolute_error\n",
    "from sklearn.model_selection import train_test_split\n",
    "from sklearn.tree import DecisionTreeRegressor\n",
    "\n",
    "\n",
    "# Path of the file to read\n",
    "iowa_file_path = '../input/home-data-for-ml-course/train.csv'\n",
    "\n",
    "home_data = pd.read_csv(iowa_file_path)\n",
    "# Create target object and call it y\n",
    "y = home_data.SalePrice\n",
    "# Create X\n",
    "features = ['LotArea', 'YearBuilt', '1stFlrSF', '2ndFlrSF', 'FullBath', 'BedroomAbvGr', 'TotRmsAbvGrd']\n",
    "X = home_data[features]\n",
    "\n",
    "# Split into validation and training data\n",
    "train_X, val_X, train_y, val_y = train_test_split(X, y, random_state=1)\n",
    "\n",
    "# Specify Model\n",
    "iowa_model = DecisionTreeRegressor(random_state=1)\n",
    "# Fit Model\n",
    "iowa_model.fit(train_X, train_y)\n",
    "\n",
    "# Make validation predictions and calculate mean absolute error\n",
    "val_predictions = iowa_model.predict(val_X)\n",
    "val_mae = mean_absolute_error(val_predictions, val_y)\n",
    "print(\"Validation MAE: {:,.0f}\".format(val_mae))\n",
    "\n",
    "# Set up code checking\n",
    "from learntools.core import binder\n",
    "binder.bind(globals())\n",
    "from learntools.machine_learning.ex5 import *\n",
    "print(\"\\nSetup complete\")"
   ]
  },
  {
   "cell_type": "markdown",
   "id": "47845132",
   "metadata": {
    "papermill": {
     "duration": 0.005088,
     "end_time": "2024-11-06T06:32:29.160142",
     "exception": false,
     "start_time": "2024-11-06T06:32:29.155054",
     "status": "completed"
    },
    "tags": []
   },
   "source": [
    "# Exercises\n",
    "You could write the function `get_mae` yourself. For now, we'll supply it. This is the same function you read about in the previous lesson. Just run the cell below."
   ]
  },
  {
   "cell_type": "code",
   "execution_count": 2,
   "id": "2f6063e9",
   "metadata": {
    "execution": {
     "iopub.execute_input": "2024-11-06T06:32:29.170002Z",
     "iopub.status.busy": "2024-11-06T06:32:29.168879Z",
     "iopub.status.idle": "2024-11-06T06:32:29.175341Z",
     "shell.execute_reply": "2024-11-06T06:32:29.174363Z"
    },
    "papermill": {
     "duration": 0.014002,
     "end_time": "2024-11-06T06:32:29.177805",
     "exception": false,
     "start_time": "2024-11-06T06:32:29.163803",
     "status": "completed"
    },
    "tags": []
   },
   "outputs": [],
   "source": [
    "def get_mae(max_leaf_nodes, train_X, val_X, train_y, val_y):\n",
    "    model = DecisionTreeRegressor(max_leaf_nodes=max_leaf_nodes, random_state = 0)\n",
    "    model.fit(train_X, train_y)\n",
    "    preds_val = model.predict(val_X)\n",
    "    mae = mean_absolute_error(val_y, preds_val)\n",
    "    return(mae)"
   ]
  },
  {
   "cell_type": "markdown",
   "id": "507215cc",
   "metadata": {
    "papermill": {
     "duration": 0.003162,
     "end_time": "2024-11-06T06:32:29.184503",
     "exception": false,
     "start_time": "2024-11-06T06:32:29.181341",
     "status": "completed"
    },
    "tags": []
   },
   "source": [
    "## Step 1: Compare Different Tree Sizes\n",
    "Write a loop that tries the following values for *max_leaf_nodes* from a set of possible values.\n",
    "\n",
    "Call the *get_mae* function on each value of max_leaf_nodes. Store the output in some way that allows you to select the value of `max_leaf_nodes` that gives the most accurate model on your data."
   ]
  },
  {
   "cell_type": "code",
   "execution_count": 3,
   "id": "38c5f1a5",
   "metadata": {
    "execution": {
     "iopub.execute_input": "2024-11-06T06:32:29.193315Z",
     "iopub.status.busy": "2024-11-06T06:32:29.192908Z",
     "iopub.status.idle": "2024-11-06T06:32:29.248025Z",
     "shell.execute_reply": "2024-11-06T06:32:29.246696Z"
    },
    "papermill": {
     "duration": 0.06268,
     "end_time": "2024-11-06T06:32:29.250502",
     "exception": false,
     "start_time": "2024-11-06T06:32:29.187822",
     "status": "completed"
    },
    "tags": []
   },
   "outputs": [
    {
     "name": "stdout",
     "output_type": "stream",
     "text": [
      "Max leaf nodes: 5 \t\t Mean absolute error: 35044\n",
      "Max leaf nodes: 25 \t\t Mean absolute error: 29016\n",
      "Max leaf nodes: 50 \t\t Mean absolute error: 27405\n",
      "Max leaf nodes: 100 \t\t Mean absolute error: 27282\n",
      "Max leaf nodes: 250 \t\t Mean absolute error: 27893\n",
      "Max leaf nodes: 500 \t\t Mean absolute error: 29454\n"
     ]
    },
    {
     "data": {
      "application/javascript": [
       "parent.postMessage({\"jupyterEvent\": \"custom.exercise_interaction\", \"data\": {\"outcomeType\": 1, \"valueTowardsCompletion\": 0.5, \"interactionType\": 1, \"questionType\": 1, \"questionId\": \"1_BestTreeSize\", \"learnToolsVersion\": \"0.3.4\", \"failureMessage\": \"\", \"exceptionClass\": \"\", \"trace\": \"\"}}, \"*\")"
      ],
      "text/plain": [
       "<IPython.core.display.Javascript object>"
      ]
     },
     "metadata": {},
     "output_type": "display_data"
    },
    {
     "data": {
      "text/markdown": [
       "<span style=\"color:#33cc33\">Correct</span>"
      ],
      "text/plain": [
       "Correct"
      ]
     },
     "metadata": {},
     "output_type": "display_data"
    }
   ],
   "source": [
    "candidate_max_leaf_nodes = [5, 25, 50, 100, 250, 500]\n",
    "# Write loop to find the ideal tree size from candidate_max_leaf_nodes\n",
    "mae_array = []\n",
    "for max_leaf_nodes in candidate_max_leaf_nodes:\n",
    "    my_mae = get_mae(max_leaf_nodes, train_X, val_X, train_y, val_y)\n",
    "    print(\"Max leaf nodes: %d \\t\\t Mean absolute error: %d\" %(max_leaf_nodes, my_mae))\n",
    "    mae_array.append(my_mae)\n",
    "\n",
    "# Store the best value of max_leaf_nodes (it will be either 5, 25, 50, 100, 250 or 500)\n",
    "best_tree_size = candidate_max_leaf_nodes[mae_array.index(min(mae_array))]\n",
    "\n",
    "# Check your answer\n",
    "step_1.check()"
   ]
  },
  {
   "cell_type": "code",
   "execution_count": 4,
   "id": "12968d08",
   "metadata": {
    "execution": {
     "iopub.execute_input": "2024-11-06T06:32:29.259401Z",
     "iopub.status.busy": "2024-11-06T06:32:29.259036Z",
     "iopub.status.idle": "2024-11-06T06:32:29.263805Z",
     "shell.execute_reply": "2024-11-06T06:32:29.262705Z"
    },
    "papermill": {
     "duration": 0.01176,
     "end_time": "2024-11-06T06:32:29.266003",
     "exception": false,
     "start_time": "2024-11-06T06:32:29.254243",
     "status": "completed"
    },
    "tags": []
   },
   "outputs": [],
   "source": [
    "# The lines below will show you a hint or the solution.\n",
    "# step_1.hint() \n",
    "# step_1.solution()"
   ]
  },
  {
   "cell_type": "markdown",
   "id": "72c2149e",
   "metadata": {
    "papermill": {
     "duration": 0.003627,
     "end_time": "2024-11-06T06:32:29.273506",
     "exception": false,
     "start_time": "2024-11-06T06:32:29.269879",
     "status": "completed"
    },
    "tags": []
   },
   "source": [
    "## Step 2: Fit Model Using All Data\n",
    "You know the best tree size. If you were going to deploy this model in practice, you would make it even more accurate by using all of the data and keeping that tree size.  That is, you don't need to hold out the validation data now that you've made all your modeling decisions."
   ]
  },
  {
   "cell_type": "code",
   "execution_count": 5,
   "id": "313e61a3",
   "metadata": {
    "execution": {
     "iopub.execute_input": "2024-11-06T06:32:29.282402Z",
     "iopub.status.busy": "2024-11-06T06:32:29.282038Z",
     "iopub.status.idle": "2024-11-06T06:32:29.302105Z",
     "shell.execute_reply": "2024-11-06T06:32:29.300964Z"
    },
    "papermill": {
     "duration": 0.027366,
     "end_time": "2024-11-06T06:32:29.304574",
     "exception": false,
     "start_time": "2024-11-06T06:32:29.277208",
     "status": "completed"
    },
    "tags": []
   },
   "outputs": [
    {
     "data": {
      "application/javascript": [
       "parent.postMessage({\"jupyterEvent\": \"custom.exercise_interaction\", \"data\": {\"outcomeType\": 1, \"valueTowardsCompletion\": 0.5, \"interactionType\": 1, \"questionType\": 2, \"questionId\": \"2_FitModelWithAllData\", \"learnToolsVersion\": \"0.3.4\", \"failureMessage\": \"\", \"exceptionClass\": \"\", \"trace\": \"\"}}, \"*\")"
      ],
      "text/plain": [
       "<IPython.core.display.Javascript object>"
      ]
     },
     "metadata": {},
     "output_type": "display_data"
    },
    {
     "data": {
      "text/markdown": [
       "<span style=\"color:#33cc33\">Correct</span>"
      ],
      "text/plain": [
       "Correct"
      ]
     },
     "metadata": {},
     "output_type": "display_data"
    }
   ],
   "source": [
    "# Fill in argument to make optimal size and uncomment\n",
    "final_model = DecisionTreeRegressor(max_leaf_nodes=100, random_state = 0)\n",
    "\n",
    "# fit the final model and uncomment the next two lines\n",
    "final_model.fit(X, y)\n",
    "\n",
    "# Check your answer\n",
    "step_2.check()"
   ]
  },
  {
   "cell_type": "code",
   "execution_count": 6,
   "id": "4d18a91b",
   "metadata": {
    "execution": {
     "iopub.execute_input": "2024-11-06T06:32:29.318645Z",
     "iopub.status.busy": "2024-11-06T06:32:29.317383Z",
     "iopub.status.idle": "2024-11-06T06:32:29.322436Z",
     "shell.execute_reply": "2024-11-06T06:32:29.321329Z"
    },
    "papermill": {
     "duration": 0.015258,
     "end_time": "2024-11-06T06:32:29.325059",
     "exception": false,
     "start_time": "2024-11-06T06:32:29.309801",
     "status": "completed"
    },
    "tags": []
   },
   "outputs": [],
   "source": [
    "# step_2.hint()\n",
    "# step_2.solution()"
   ]
  },
  {
   "cell_type": "markdown",
   "id": "b55ce966",
   "metadata": {
    "papermill": {
     "duration": 0.004504,
     "end_time": "2024-11-06T06:32:29.333960",
     "exception": false,
     "start_time": "2024-11-06T06:32:29.329456",
     "status": "completed"
    },
    "tags": []
   },
   "source": [
    "You've tuned this model and improved your results. But we are still using Decision Tree models, which are not very sophisticated by modern machine learning standards. In the next step you will learn to use Random Forests to improve your models even more.\n",
    "\n",
    "# Keep Going\n",
    "\n",
    "You are ready for **[Random Forests](https://www.kaggle.com/dansbecker/random-forests).**\n"
   ]
  },
  {
   "cell_type": "markdown",
   "id": "d29b09ea",
   "metadata": {
    "papermill": {
     "duration": 0.003726,
     "end_time": "2024-11-06T06:32:29.342494",
     "exception": false,
     "start_time": "2024-11-06T06:32:29.338768",
     "status": "completed"
    },
    "tags": []
   },
   "source": [
    "---\n",
    "\n",
    "\n",
    "\n",
    "\n",
    "*Have questions or comments? Visit the [course discussion forum](https://www.kaggle.com/learn/intro-to-machine-learning/discussion) to chat with other learners.*"
   ]
  }
 ],
 "metadata": {
  "kaggle": {
   "accelerator": "none",
   "dataSources": [
    {
     "databundleVersionId": 111096,
     "sourceId": 10211,
     "sourceType": "competition"
    },
    {
     "datasetId": 11167,
     "sourceId": 15520,
     "sourceType": "datasetVersion"
    },
    {
     "datasetId": 2709,
     "sourceId": 38454,
     "sourceType": "datasetVersion"
    }
   ],
   "isGpuEnabled": false,
   "isInternetEnabled": false,
   "language": "python",
   "sourceType": "notebook"
  },
  "kernelspec": {
   "display_name": "Python 3",
   "language": "python",
   "name": "python3"
  },
  "language_info": {
   "codemirror_mode": {
    "name": "ipython",
    "version": 3
   },
   "file_extension": ".py",
   "mimetype": "text/x-python",
   "name": "python",
   "nbconvert_exporter": "python",
   "pygments_lexer": "ipython3",
   "version": "3.10.14"
  },
  "papermill": {
   "default_parameters": {},
   "duration": 5.460638,
   "end_time": "2024-11-06T06:32:29.871359",
   "environment_variables": {},
   "exception": null,
   "input_path": "__notebook__.ipynb",
   "output_path": "__notebook__.ipynb",
   "parameters": {},
   "start_time": "2024-11-06T06:32:24.410721",
   "version": "2.6.0"
  }
 },
 "nbformat": 4,
 "nbformat_minor": 5
}
