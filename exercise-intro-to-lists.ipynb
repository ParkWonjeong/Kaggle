{
 "cells": [
  {
   "cell_type": "markdown",
   "id": "c9d22516",
   "metadata": {
    "papermill": {
     "duration": 0.006702,
     "end_time": "2024-03-15T04:33:38.530483",
     "exception": false,
     "start_time": "2024-03-15T04:33:38.523781",
     "status": "completed"
    },
    "tags": []
   },
   "source": [
    "**This notebook is an exercise in the [Intro to Programming](https://www.kaggle.com/learn/intro-to-programming) course.  You can reference the tutorial at [this link](https://www.kaggle.com/alexisbcook/intro-to-lists).**\n",
    "\n",
    "---\n"
   ]
  },
  {
   "cell_type": "markdown",
   "id": "1c08cc46",
   "metadata": {
    "papermill": {
     "duration": 0.005724,
     "end_time": "2024-03-15T04:33:38.542276",
     "exception": false,
     "start_time": "2024-03-15T04:33:38.536552",
     "status": "completed"
    },
    "tags": []
   },
   "source": [
    "In the tutorial, you learned how to define and modify Python lists.  In this exercise, you will use your new knowledge to solve several problems.\n",
    "\n",
    "# Set up the notebook\n",
    "\n",
    "Run the next code cell without changes to set up the notebook."
   ]
  },
  {
   "cell_type": "code",
   "execution_count": 1,
   "id": "8fdeb4e7",
   "metadata": {
    "execution": {
     "iopub.execute_input": "2024-03-15T04:33:38.555987Z",
     "iopub.status.busy": "2024-03-15T04:33:38.555283Z",
     "iopub.status.idle": "2024-03-15T04:33:39.399945Z",
     "shell.execute_reply": "2024-03-15T04:33:39.399146Z"
    },
    "papermill": {
     "duration": 0.854165,
     "end_time": "2024-03-15T04:33:39.402291",
     "exception": false,
     "start_time": "2024-03-15T04:33:38.548126",
     "status": "completed"
    },
    "tags": []
   },
   "outputs": [
    {
     "name": "stdout",
     "output_type": "stream",
     "text": [
      "Setup complete.\n"
     ]
    }
   ],
   "source": [
    "from learntools.core import binder\n",
    "binder.bind(globals())\n",
    "from learntools.intro_to_programming.ex5 import *\n",
    "print('Setup complete.')"
   ]
  },
  {
   "cell_type": "markdown",
   "id": "976eed2e",
   "metadata": {
    "papermill": {
     "duration": 0.005578,
     "end_time": "2024-03-15T04:33:39.413877",
     "exception": false,
     "start_time": "2024-03-15T04:33:39.408299",
     "status": "completed"
    },
    "tags": []
   },
   "source": [
    "# Question 1\n",
    "\n",
    "You own a restaurant with five food dishes, organized in the Python list `menu` below.  One day, you decide to:\n",
    "- remove bean soup (`'bean soup'`) from the menu, and\n",
    "- add roasted beet salad (`'roasted beet salad'`) to the menu.\n",
    "\n",
    "Implement this change to the list below.  While completing this task, \n",
    "- do not change the line that creates the `menu` list.  \n",
    "- your answer should use `.remove()` and `.append()`.  "
   ]
  },
  {
   "cell_type": "code",
   "execution_count": 2,
   "id": "5c0ac34c",
   "metadata": {
    "execution": {
     "iopub.execute_input": "2024-03-15T04:33:39.426910Z",
     "iopub.status.busy": "2024-03-15T04:33:39.426429Z",
     "iopub.status.idle": "2024-03-15T04:33:39.436165Z",
     "shell.execute_reply": "2024-03-15T04:33:39.435069Z"
    },
    "papermill": {
     "duration": 0.01866,
     "end_time": "2024-03-15T04:33:39.438199",
     "exception": false,
     "start_time": "2024-03-15T04:33:39.419539",
     "status": "completed"
    },
    "tags": []
   },
   "outputs": [
    {
     "data": {
      "application/javascript": [
       "parent.postMessage({\"jupyterEvent\": \"custom.exercise_interaction\", \"data\": {\"outcomeType\": 1, \"valueTowardsCompletion\": 0.2, \"interactionType\": 1, \"questionType\": 2, \"questionId\": \"1_FoodMenu\", \"learnToolsVersion\": \"0.3.4\", \"failureMessage\": \"\", \"exceptionClass\": \"\", \"trace\": \"\"}}, \"*\")"
      ],
      "text/plain": [
       "<IPython.core.display.Javascript object>"
      ]
     },
     "metadata": {},
     "output_type": "display_data"
    },
    {
     "data": {
      "text/markdown": [
       "<span style=\"color:#33cc33\">Correct</span>"
      ],
      "text/plain": [
       "Correct"
      ]
     },
     "metadata": {},
     "output_type": "display_data"
    }
   ],
   "source": [
    "# Do not change: Initial menu for your restaurant\n",
    "menu = ['stewed meat with onions', 'bean soup', 'risotto with trout and shrimp',\n",
    "       'fish soup with cream and onion', 'gyro']\n",
    "\n",
    "# TODO: remove 'bean soup', and add 'roasted beet salad' to the end of the menu\n",
    "menu.remove('bean soup')\n",
    "menu.append('roasted beet salad')\n",
    "\n",
    "# Do not change: Check your answer\n",
    "q1.check()"
   ]
  },
  {
   "cell_type": "code",
   "execution_count": 3,
   "id": "8c38ff78",
   "metadata": {
    "execution": {
     "iopub.execute_input": "2024-03-15T04:33:39.452404Z",
     "iopub.status.busy": "2024-03-15T04:33:39.451993Z",
     "iopub.status.idle": "2024-03-15T04:33:39.456464Z",
     "shell.execute_reply": "2024-03-15T04:33:39.455480Z"
    },
    "papermill": {
     "duration": 0.013841,
     "end_time": "2024-03-15T04:33:39.458388",
     "exception": false,
     "start_time": "2024-03-15T04:33:39.444547",
     "status": "completed"
    },
    "tags": []
   },
   "outputs": [],
   "source": [
    "# Uncomment to see a hint\n",
    "#q1.hint()\n",
    "\n",
    "# Uncomment to see the solution\n",
    "#q1.solution()"
   ]
  },
  {
   "cell_type": "markdown",
   "id": "06c1b65a",
   "metadata": {
    "papermill": {
     "duration": 0.00609,
     "end_time": "2024-03-15T04:33:39.470966",
     "exception": false,
     "start_time": "2024-03-15T04:33:39.464876",
     "status": "completed"
    },
    "tags": []
   },
   "source": [
    "# Question 2\n",
    "\n",
    "The list `num_customers` contains the number of customers who came into your restaurant every day over the last month (which lasted thirty days).  Fill in values for each of the following:\n",
    "- `avg_first_seven` - average number of customers who visited in the first seven days\n",
    "- `avg_last_seven` - average number of customers who visited in the last seven days\n",
    "- `max_month` - number of customers on the day that got the most customers in the last month\n",
    "- `min_month` - number of customers on the day that got the least customers in the last month\n",
    "\n",
    "Answer this question by writing code.  For instance, if you have to find the minimum value in a list, use `min()` instead of scanning for the smallest value and directly filling in a number."
   ]
  },
  {
   "cell_type": "code",
   "execution_count": 4,
   "id": "daa7bf24",
   "metadata": {
    "execution": {
     "iopub.execute_input": "2024-03-15T04:33:39.485889Z",
     "iopub.status.busy": "2024-03-15T04:33:39.485158Z",
     "iopub.status.idle": "2024-03-15T04:33:39.494913Z",
     "shell.execute_reply": "2024-03-15T04:33:39.493872Z"
    },
    "papermill": {
     "duration": 0.020194,
     "end_time": "2024-03-15T04:33:39.497387",
     "exception": false,
     "start_time": "2024-03-15T04:33:39.477193",
     "status": "completed"
    },
    "tags": []
   },
   "outputs": [
    {
     "data": {
      "application/javascript": [
       "parent.postMessage({\"jupyterEvent\": \"custom.exercise_interaction\", \"data\": {\"outcomeType\": 1, \"valueTowardsCompletion\": 0.2, \"interactionType\": 1, \"questionType\": 1, \"questionId\": \"2_NumCustomers\", \"learnToolsVersion\": \"0.3.4\", \"failureMessage\": \"\", \"exceptionClass\": \"\", \"trace\": \"\"}}, \"*\")"
      ],
      "text/plain": [
       "<IPython.core.display.Javascript object>"
      ]
     },
     "metadata": {},
     "output_type": "display_data"
    },
    {
     "data": {
      "text/markdown": [
       "<span style=\"color:#33cc33\">Correct</span>"
      ],
      "text/plain": [
       "Correct"
      ]
     },
     "metadata": {},
     "output_type": "display_data"
    }
   ],
   "source": [
    "# Do not change: Number of customers each day for the last month\n",
    "num_customers = [137, 147, 135, 128, 170, 174, 165, 146, 126, 159,\n",
    "                 141, 148, 132, 147, 168, 153, 170, 161, 148, 152,\n",
    "                 141, 151, 131, 149, 164, 163, 143, 143, 166, 171]\n",
    "\n",
    "# TODO: Fill in values for the variables below\n",
    "avg_first_seven = sum(num_customers[:7]) / 7 \n",
    "avg_last_seven = sum(num_customers[-7:]) / 7 \n",
    "max_month = max(num_customers)\n",
    "min_month = min(num_customers)\n",
    "\n",
    "# Do not change: Check your answer\n",
    "q2.check()"
   ]
  },
  {
   "cell_type": "code",
   "execution_count": 5,
   "id": "e18f80bf",
   "metadata": {
    "execution": {
     "iopub.execute_input": "2024-03-15T04:33:39.512541Z",
     "iopub.status.busy": "2024-03-15T04:33:39.512127Z",
     "iopub.status.idle": "2024-03-15T04:33:39.516488Z",
     "shell.execute_reply": "2024-03-15T04:33:39.515548Z"
    },
    "papermill": {
     "duration": 0.014653,
     "end_time": "2024-03-15T04:33:39.518824",
     "exception": false,
     "start_time": "2024-03-15T04:33:39.504171",
     "status": "completed"
    },
    "tags": []
   },
   "outputs": [],
   "source": [
    "# Uncomment to see a hint\n",
    "# q2.hint()\n",
    "\n",
    "# Uncomment to see the solution\n",
    "#q2.solution()"
   ]
  },
  {
   "cell_type": "markdown",
   "id": "53d63abc",
   "metadata": {
    "papermill": {
     "duration": 0.006375,
     "end_time": "2024-03-15T04:33:39.531911",
     "exception": false,
     "start_time": "2024-03-15T04:33:39.525536",
     "status": "completed"
    },
    "tags": []
   },
   "source": [
    "# Question 3\n",
    "\n",
    "In the tutorial, we gave an example of a Python string with information that was better as a list."
   ]
  },
  {
   "cell_type": "code",
   "execution_count": 6,
   "id": "8270cc06",
   "metadata": {
    "execution": {
     "iopub.execute_input": "2024-03-15T04:33:39.547589Z",
     "iopub.status.busy": "2024-03-15T04:33:39.547203Z",
     "iopub.status.idle": "2024-03-15T04:33:39.552403Z",
     "shell.execute_reply": "2024-03-15T04:33:39.551150Z"
    },
    "papermill": {
     "duration": 0.015221,
     "end_time": "2024-03-15T04:33:39.554647",
     "exception": false,
     "start_time": "2024-03-15T04:33:39.539426",
     "status": "completed"
    },
    "tags": []
   },
   "outputs": [],
   "source": [
    "flowers = \"pink primrose,hard-leaved pocket orchid,canterbury bells,sweet pea,english marigold,tiger lily,moon orchid,bird of paradise,monkshood,globe thistle\""
   ]
  },
  {
   "cell_type": "markdown",
   "id": "0d955a03",
   "metadata": {
    "papermill": {
     "duration": 0.006144,
     "end_time": "2024-03-15T04:33:39.567657",
     "exception": false,
     "start_time": "2024-03-15T04:33:39.561513",
     "status": "completed"
    },
    "tags": []
   },
   "source": [
    "You can actually use Python to quickly turn this string into a list with `.split()`.  In the parentheses, we need to provide the character should be used to mark the end of one list item and the beginning of another, and enclose it in quotation marks.  In this case, that character is a comma."
   ]
  },
  {
   "cell_type": "code",
   "execution_count": 7,
   "id": "d10a428a",
   "metadata": {
    "execution": {
     "iopub.execute_input": "2024-03-15T04:33:39.582473Z",
     "iopub.status.busy": "2024-03-15T04:33:39.582072Z",
     "iopub.status.idle": "2024-03-15T04:33:39.586824Z",
     "shell.execute_reply": "2024-03-15T04:33:39.585793Z"
    },
    "papermill": {
     "duration": 0.015269,
     "end_time": "2024-03-15T04:33:39.589427",
     "exception": false,
     "start_time": "2024-03-15T04:33:39.574158",
     "status": "completed"
    },
    "tags": []
   },
   "outputs": [
    {
     "name": "stdout",
     "output_type": "stream",
     "text": [
      "['pink primrose', 'hard-leaved pocket orchid', 'canterbury bells', 'sweet pea', 'english marigold', 'tiger lily', 'moon orchid', 'bird of paradise', 'monkshood', 'globe thistle']\n"
     ]
    }
   ],
   "source": [
    " print(flowers.split(\",\"))"
   ]
  },
  {
   "cell_type": "markdown",
   "id": "ab0b7340",
   "metadata": {
    "papermill": {
     "duration": 0.006501,
     "end_time": "2024-03-15T04:33:39.602496",
     "exception": false,
     "start_time": "2024-03-15T04:33:39.595995",
     "status": "completed"
    },
    "tags": []
   },
   "source": [
    "Now it is your turn to try this out!  Create two Python lists:\n",
    "- `letters` should be a Python list where each entry is an uppercase letter of the English alphabet.  For instance, the first two entries should be `\"A\"` and `\"B\"`, and the final two entries should be `\"Y\"` and `\"Z\"`.  Use the string `alphabet` to create this list.\n",
    "- `address` should be a Python list where each row in `address` is a different item in the list.  Currently, each row in `address` is separated by a comma. "
   ]
  },
  {
   "cell_type": "code",
   "execution_count": 8,
   "id": "c0e42ee2",
   "metadata": {
    "execution": {
     "iopub.execute_input": "2024-03-15T04:33:39.617746Z",
     "iopub.status.busy": "2024-03-15T04:33:39.617388Z",
     "iopub.status.idle": "2024-03-15T04:33:39.625370Z",
     "shell.execute_reply": "2024-03-15T04:33:39.624614Z"
    },
    "papermill": {
     "duration": 0.018157,
     "end_time": "2024-03-15T04:33:39.627445",
     "exception": false,
     "start_time": "2024-03-15T04:33:39.609288",
     "status": "completed"
    },
    "tags": []
   },
   "outputs": [
    {
     "data": {
      "application/javascript": [
       "parent.postMessage({\"jupyterEvent\": \"custom.exercise_interaction\", \"data\": {\"outcomeType\": 1, \"valueTowardsCompletion\": 0.2, \"interactionType\": 1, \"questionType\": 1, \"questionId\": \"3_SplitString\", \"learnToolsVersion\": \"0.3.4\", \"failureMessage\": \"\", \"exceptionClass\": \"\", \"trace\": \"\"}}, \"*\")"
      ],
      "text/plain": [
       "<IPython.core.display.Javascript object>"
      ]
     },
     "metadata": {},
     "output_type": "display_data"
    },
    {
     "data": {
      "text/markdown": [
       "<span style=\"color:#33cc33\">Correct</span>"
      ],
      "text/plain": [
       "Correct"
      ]
     },
     "metadata": {},
     "output_type": "display_data"
    }
   ],
   "source": [
    "# DO not change: Define two Python strings\n",
    "alphabet = \"A.B.C.D.E.F.G.H.I.J.K.L.M.N.O.P.Q.R.S.T.U.V.W.X.Y.Z\"\n",
    "address = \"Mr. H. Potter,The cupboard under the Stairs,4 Privet Drive,Little Whinging,Surrey\"\n",
    "\n",
    "# TODO: Convert strings into Python lists\n",
    "letters = alphabet.split(\".\")\n",
    "formatted_address = address.split(\",\")\n",
    "\n",
    "# Do not change: Check your answer\n",
    "q3.check()"
   ]
  },
  {
   "cell_type": "code",
   "execution_count": 9,
   "id": "897955e4",
   "metadata": {
    "execution": {
     "iopub.execute_input": "2024-03-15T04:33:39.642632Z",
     "iopub.status.busy": "2024-03-15T04:33:39.642258Z",
     "iopub.status.idle": "2024-03-15T04:33:39.646787Z",
     "shell.execute_reply": "2024-03-15T04:33:39.645770Z"
    },
    "papermill": {
     "duration": 0.014675,
     "end_time": "2024-03-15T04:33:39.648927",
     "exception": false,
     "start_time": "2024-03-15T04:33:39.634252",
     "status": "completed"
    },
    "tags": []
   },
   "outputs": [],
   "source": [
    "# Uncomment to see a hint\n",
    "#q3.hint()\n",
    "\n",
    "# Uncomment to see the solution\n",
    "#q3.solution()"
   ]
  },
  {
   "cell_type": "markdown",
   "id": "96ba014a",
   "metadata": {
    "papermill": {
     "duration": 0.006977,
     "end_time": "2024-03-15T04:33:39.663249",
     "exception": false,
     "start_time": "2024-03-15T04:33:39.656272",
     "status": "completed"
    },
    "tags": []
   },
   "source": [
    "# Question 4\n",
    "\n",
    "In the Python course, you'll learn all about **list comprehensions**, which allow you to create a list based on the values in another list.  In this question, you'll get a brief preview of how they work.\n",
    "\n",
    "Say we're working with the list below."
   ]
  },
  {
   "cell_type": "code",
   "execution_count": 10,
   "id": "a387b378",
   "metadata": {
    "execution": {
     "iopub.execute_input": "2024-03-15T04:33:39.680630Z",
     "iopub.status.busy": "2024-03-15T04:33:39.680271Z",
     "iopub.status.idle": "2024-03-15T04:33:39.684495Z",
     "shell.execute_reply": "2024-03-15T04:33:39.683351Z"
    },
    "papermill": {
     "duration": 0.016388,
     "end_time": "2024-03-15T04:33:39.686627",
     "exception": false,
     "start_time": "2024-03-15T04:33:39.670239",
     "status": "completed"
    },
    "tags": []
   },
   "outputs": [],
   "source": [
    "test_ratings = [1, 2, 3, 4, 5]"
   ]
  },
  {
   "cell_type": "markdown",
   "id": "337f9231",
   "metadata": {
    "papermill": {
     "duration": 0.006756,
     "end_time": "2024-03-15T04:33:39.700526",
     "exception": false,
     "start_time": "2024-03-15T04:33:39.693770",
     "status": "completed"
    },
    "tags": []
   },
   "source": [
    "Then we can use this list (`test_ratings`) to create a new list (`test_liked`) where each item has been turned into a boolean, depending on whether or not the item is greater than or equal to four."
   ]
  },
  {
   "cell_type": "code",
   "execution_count": 11,
   "id": "a21f958e",
   "metadata": {
    "execution": {
     "iopub.execute_input": "2024-03-15T04:33:39.716631Z",
     "iopub.status.busy": "2024-03-15T04:33:39.716240Z",
     "iopub.status.idle": "2024-03-15T04:33:39.721838Z",
     "shell.execute_reply": "2024-03-15T04:33:39.720624Z"
    },
    "papermill": {
     "duration": 0.016611,
     "end_time": "2024-03-15T04:33:39.724164",
     "exception": false,
     "start_time": "2024-03-15T04:33:39.707553",
     "status": "completed"
    },
    "tags": []
   },
   "outputs": [
    {
     "name": "stdout",
     "output_type": "stream",
     "text": [
      "[False, False, False, True, True]\n"
     ]
    }
   ],
   "source": [
    "test_liked = [i>=4 for i in test_ratings]\n",
    "print(test_liked)"
   ]
  },
  {
   "cell_type": "markdown",
   "id": "317d4edb",
   "metadata": {
    "papermill": {
     "duration": 0.006674,
     "end_time": "2024-03-15T04:33:39.737889",
     "exception": false,
     "start_time": "2024-03-15T04:33:39.731215",
     "status": "completed"
    },
    "tags": []
   },
   "source": [
    "In this question, you'll use this list comprehension to define a function `percentage_liked()` that takes one argument as input:\n",
    "- `ratings`: list of ratings that people gave to a movie, where each rating is a number between 1-5, inclusive\n",
    "\n",
    "We say someone liked the movie, if they gave a rating of either 4 or 5.  Your function should return the percentage of people who liked the movie.\n",
    "\n",
    "For instance, if we supply a value of `[1, 2, 3, 4, 5, 4, 5, 1]`, then 50% (4/8) of the people liked the movie, and the function should return `0.5`.\n",
    "\n",
    "Part of the function has already been completed for you.  You need only use `list_liked` to calculate `percentage_liked`."
   ]
  },
  {
   "cell_type": "code",
   "execution_count": 12,
   "id": "291a568e",
   "metadata": {
    "execution": {
     "iopub.execute_input": "2024-03-15T04:33:39.753526Z",
     "iopub.status.busy": "2024-03-15T04:33:39.753153Z",
     "iopub.status.idle": "2024-03-15T04:33:39.762688Z",
     "shell.execute_reply": "2024-03-15T04:33:39.761611Z"
    },
    "papermill": {
     "duration": 0.020055,
     "end_time": "2024-03-15T04:33:39.764947",
     "exception": false,
     "start_time": "2024-03-15T04:33:39.744892",
     "status": "completed"
    },
    "tags": []
   },
   "outputs": [
    {
     "data": {
      "application/javascript": [
       "parent.postMessage({\"jupyterEvent\": \"custom.exercise_interaction\", \"data\": {\"outcomeType\": 1, \"valueTowardsCompletion\": 0.2, \"interactionType\": 1, \"questionType\": 2, \"questionId\": \"4_PercentageLiked\", \"learnToolsVersion\": \"0.3.4\", \"failureMessage\": \"\", \"exceptionClass\": \"\", \"trace\": \"\"}}, \"*\")"
      ],
      "text/plain": [
       "<IPython.core.display.Javascript object>"
      ]
     },
     "metadata": {},
     "output_type": "display_data"
    },
    {
     "data": {
      "text/markdown": [
       "<span style=\"color:#33cc33\">Correct</span>"
      ],
      "text/plain": [
       "Correct"
      ]
     },
     "metadata": {},
     "output_type": "display_data"
    }
   ],
   "source": [
    "\n",
    "def percentage_liked(ratings):\n",
    "    list_liked = [i>=4 for i in ratings]\n",
    "    # TODO: Complete the function\n",
    "    percentage_liked = sum(list_liked) / len(list_liked)\n",
    "    return percentage_liked\n",
    "\n",
    "# Do not change: should return 0.5\n",
    "percentage_liked([1, 2, 3, 4, 5, 4, 5, 1])\n",
    "\n",
    "# Do not change: Check your answer\n",
    "q4.check()"
   ]
  },
  {
   "cell_type": "code",
   "execution_count": 13,
   "id": "b009bb9c",
   "metadata": {
    "execution": {
     "iopub.execute_input": "2024-03-15T04:33:39.781673Z",
     "iopub.status.busy": "2024-03-15T04:33:39.781309Z",
     "iopub.status.idle": "2024-03-15T04:33:39.784660Z",
     "shell.execute_reply": "2024-03-15T04:33:39.783901Z"
    },
    "papermill": {
     "duration": 0.014158,
     "end_time": "2024-03-15T04:33:39.786700",
     "exception": false,
     "start_time": "2024-03-15T04:33:39.772542",
     "status": "completed"
    },
    "tags": []
   },
   "outputs": [],
   "source": [
    "# Uncomment to see a hint\n",
    "#q4.hint()\n",
    "\n",
    "# Uncomment to see the solution\n",
    "#q4.solution()"
   ]
  },
  {
   "cell_type": "markdown",
   "id": "3413963a",
   "metadata": {
    "papermill": {
     "duration": 0.007032,
     "end_time": "2024-03-15T04:33:39.800990",
     "exception": false,
     "start_time": "2024-03-15T04:33:39.793958",
     "status": "completed"
    },
    "tags": []
   },
   "source": [
    "# 🌶️ Question 5\n",
    " \n",
    "Say you're doing analytics for a website.  You need to write a function that returns the percentage growth in the total number of users relative to a specified number of years ago.\n",
    "\n",
    "Your function `percentage_growth()` should take two arguments as input:\n",
    "- `num_users` = Python list with the total number of users each year.  So `num_users[0]` is the total number of users in the first year, `num_users[1]` is the total number of users in the second year, and so on.  The final entry in the list gives the total number of users in the most recently completed year.\n",
    "- `yrs_ago` = number of years to go back in time when calculating the growth percentage\n",
    "\n",
    "For instance, say `num_users = [920344, 1043553, 1204334, 1458996, 1503323, 1593432, 1623463, 1843064, 1930992, 2001078]`.\n",
    "- if `yrs_ago = 1`, we want the function to return a value of about `0.036`. This corresponds to a percentage growth of approximately 3.6%, calculated as (2001078 - 1930992)/1930992.\n",
    "- if `years_ago = 7`, we would want to return approximately `0.66`.  This corresponds to a percentage growth of approximately 66%, calculated as (2001078 - 1204334)/1204334.\n",
    "\n",
    "Your coworker sent you a draft of a function, but it doesn't seem to be doing the correct calculation.  Can you figure out what has gone wrong and make the needed changes?"
   ]
  },
  {
   "cell_type": "code",
   "execution_count": 14,
   "id": "6ab433b3",
   "metadata": {
    "execution": {
     "iopub.execute_input": "2024-03-15T04:33:39.817869Z",
     "iopub.status.busy": "2024-03-15T04:33:39.817265Z",
     "iopub.status.idle": "2024-03-15T04:33:39.826910Z",
     "shell.execute_reply": "2024-03-15T04:33:39.825924Z"
    },
    "papermill": {
     "duration": 0.02061,
     "end_time": "2024-03-15T04:33:39.829058",
     "exception": false,
     "start_time": "2024-03-15T04:33:39.808448",
     "status": "completed"
    },
    "tags": []
   },
   "outputs": [
    {
     "name": "stdout",
     "output_type": "stream",
     "text": [
      "0.03629533421163837\n",
      "0.6615639847417742\n"
     ]
    },
    {
     "data": {
      "application/javascript": [
       "parent.postMessage({\"jupyterEvent\": \"custom.exercise_interaction\", \"data\": {\"outcomeType\": 1, \"valueTowardsCompletion\": 0.2, \"interactionType\": 1, \"questionType\": 2, \"questionId\": \"5_WebsiteAnalytics\", \"learnToolsVersion\": \"0.3.4\", \"failureMessage\": \"\", \"exceptionClass\": \"\", \"trace\": \"\"}}, \"*\")"
      ],
      "text/plain": [
       "<IPython.core.display.Javascript object>"
      ]
     },
     "metadata": {},
     "output_type": "display_data"
    },
    {
     "data": {
      "text/markdown": [
       "<span style=\"color:#33cc33\">Correct</span>"
      ],
      "text/plain": [
       "Correct"
      ]
     },
     "metadata": {},
     "output_type": "display_data"
    }
   ],
   "source": [
    "# TODO: Edit the function\n",
    "def percentage_growth(num_users, yrs_ago):\n",
    "    growth = (num_users[len(num_users)-1] - num_users[len(num_users)-yrs_ago-1])/num_users[len(num_users)-yrs_ago-1]\n",
    "    return growth\n",
    "\n",
    "# Do not change: Variable for calculating some test examples\n",
    "num_users_test = [920344, 1043553, 1204334, 1458996, 1503323, 1593432, 1623463, 1843064, 1930992, 2001078]\n",
    "\n",
    "# Do not change: Should return .036\n",
    "print(percentage_growth(num_users_test, 1))\n",
    "\n",
    "# Do not change: Should return 0.66\n",
    "print(percentage_growth(num_users_test, 7))\n",
    "\n",
    "# Do not change: Check your answer\n",
    "q5.check()"
   ]
  },
  {
   "cell_type": "code",
   "execution_count": 15,
   "id": "3028c9ec",
   "metadata": {
    "execution": {
     "iopub.execute_input": "2024-03-15T04:33:39.845963Z",
     "iopub.status.busy": "2024-03-15T04:33:39.845562Z",
     "iopub.status.idle": "2024-03-15T04:33:39.850251Z",
     "shell.execute_reply": "2024-03-15T04:33:39.849153Z"
    },
    "papermill": {
     "duration": 0.015654,
     "end_time": "2024-03-15T04:33:39.852260",
     "exception": false,
     "start_time": "2024-03-15T04:33:39.836606",
     "status": "completed"
    },
    "tags": []
   },
   "outputs": [],
   "source": [
    "# Uncomment to see a hint\n",
    "#q5.hint()\n",
    "\n",
    "# Uncomment to see the solution\n",
    "#q5.solution()"
   ]
  },
  {
   "cell_type": "markdown",
   "id": "c851c192",
   "metadata": {
    "papermill": {
     "duration": 0.007282,
     "end_time": "2024-03-15T04:33:39.867036",
     "exception": false,
     "start_time": "2024-03-15T04:33:39.859754",
     "status": "completed"
    },
    "tags": []
   },
   "source": [
    "# Congratulations!\n",
    "\n",
    "Congratulations for finishing the Intro to Programming course!  You should be proud of your very first steps with learning programming.  As next steps, we recommend taking:\n",
    "- the **[Python course](http://www.kaggle.com/learn/python)**, and \n",
    "- the **[Intro to Machine Learning course](https://www.kaggle.com/learn/intro-to-machine-learning)**."
   ]
  },
  {
   "cell_type": "markdown",
   "id": "c9e81cad",
   "metadata": {
    "papermill": {
     "duration": 0.007358,
     "end_time": "2024-03-15T04:33:39.881922",
     "exception": false,
     "start_time": "2024-03-15T04:33:39.874564",
     "status": "completed"
    },
    "tags": []
   },
   "source": [
    "---\n",
    "\n",
    "\n",
    "\n",
    "\n",
    "*Have questions or comments? Visit the [course discussion forum](https://www.kaggle.com/learn/intro-to-programming/discussion) to chat with other learners.*"
   ]
  }
 ],
 "metadata": {
  "kaggle": {
   "accelerator": "none",
   "dataSources": [],
   "isGpuEnabled": false,
   "isInternetEnabled": false,
   "language": "python",
   "sourceType": "notebook"
  },
  "kernelspec": {
   "display_name": "Python 3",
   "language": "python",
   "name": "python3"
  },
  "language_info": {
   "codemirror_mode": {
    "name": "ipython",
    "version": 3
   },
   "file_extension": ".py",
   "mimetype": "text/x-python",
   "name": "python",
   "nbconvert_exporter": "python",
   "pygments_lexer": "ipython3",
   "version": "3.10.13"
  },
  "papermill": {
   "default_parameters": {},
   "duration": 4.415719,
   "end_time": "2024-03-15T04:33:40.308951",
   "environment_variables": {},
   "exception": null,
   "input_path": "__notebook__.ipynb",
   "output_path": "__notebook__.ipynb",
   "parameters": {},
   "start_time": "2024-03-15T04:33:35.893232",
   "version": "2.5.0"
  }
 },
 "nbformat": 4,
 "nbformat_minor": 5
}
