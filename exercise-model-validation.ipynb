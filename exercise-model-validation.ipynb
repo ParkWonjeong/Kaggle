{
 "cells": [
  {
   "cell_type": "markdown",
   "id": "b98734c6",
   "metadata": {
    "papermill": {
     "duration": 0.006903,
     "end_time": "2024-11-05T12:34:25.371367",
     "exception": false,
     "start_time": "2024-11-05T12:34:25.364464",
     "status": "completed"
    },
    "tags": []
   },
   "source": [
    "**This notebook is an exercise in the [Introduction to Machine Learning](https://www.kaggle.com/learn/intro-to-machine-learning) course.  You can reference the tutorial at [this link](https://www.kaggle.com/dansbecker/model-validation).**\n",
    "\n",
    "---\n"
   ]
  },
  {
   "cell_type": "markdown",
   "id": "951b5ed7",
   "metadata": {
    "papermill": {
     "duration": 0.006014,
     "end_time": "2024-11-05T12:34:25.383954",
     "exception": false,
     "start_time": "2024-11-05T12:34:25.377940",
     "status": "completed"
    },
    "tags": []
   },
   "source": [
    "## Recap\n",
    "You've built a model. In this exercise you will test how good your model is.\n",
    "\n",
    "Run the cell below to set up your coding environment where the previous exercise left off."
   ]
  },
  {
   "cell_type": "code",
   "execution_count": 1,
   "id": "89553623",
   "metadata": {
    "execution": {
     "iopub.execute_input": "2024-11-05T12:34:25.398950Z",
     "iopub.status.busy": "2024-11-05T12:34:25.397812Z",
     "iopub.status.idle": "2024-11-05T12:34:28.273660Z",
     "shell.execute_reply": "2024-11-05T12:34:28.272457Z"
    },
    "papermill": {
     "duration": 2.886155,
     "end_time": "2024-11-05T12:34:28.276377",
     "exception": false,
     "start_time": "2024-11-05T12:34:25.390222",
     "status": "completed"
    },
    "tags": []
   },
   "outputs": [
    {
     "name": "stdout",
     "output_type": "stream",
     "text": [
      "First in-sample predictions: [208500. 181500. 223500. 140000. 250000.]\n",
      "Actual target values for those homes: [208500, 181500, 223500, 140000, 250000]\n",
      "Setup Complete\n"
     ]
    }
   ],
   "source": [
    "# Code you have previously used to load data\n",
    "import pandas as pd\n",
    "from sklearn.tree import DecisionTreeRegressor\n",
    "\n",
    "# Path of the file to read\n",
    "iowa_file_path = '../input/home-data-for-ml-course/train.csv'\n",
    "\n",
    "home_data = pd.read_csv(iowa_file_path)\n",
    "y = home_data.SalePrice\n",
    "feature_columns = ['LotArea', 'YearBuilt', '1stFlrSF', '2ndFlrSF', 'FullBath', 'BedroomAbvGr', 'TotRmsAbvGrd']\n",
    "X = home_data[feature_columns]\n",
    "\n",
    "# Specify Model\n",
    "iowa_model = DecisionTreeRegressor()\n",
    "# Fit Model\n",
    "iowa_model.fit(X, y)\n",
    "\n",
    "print(\"First in-sample predictions:\", iowa_model.predict(X.head()))\n",
    "print(\"Actual target values for those homes:\", y.head().tolist())\n",
    "\n",
    "# Set up code checking\n",
    "from learntools.core import binder\n",
    "binder.bind(globals())\n",
    "from learntools.machine_learning.ex4 import *\n",
    "print(\"Setup Complete\")"
   ]
  },
  {
   "cell_type": "markdown",
   "id": "a5e8e2e0",
   "metadata": {
    "papermill": {
     "duration": 0.00629,
     "end_time": "2024-11-05T12:34:28.289187",
     "exception": false,
     "start_time": "2024-11-05T12:34:28.282897",
     "status": "completed"
    },
    "tags": []
   },
   "source": [
    "# Exercises\n",
    "\n",
    "## Step 1: Split Your Data\n",
    "Use the `train_test_split` function to split up your data.\n",
    "\n",
    "Give it the argument `random_state=1` so the `check` functions know what to expect when verifying your code.\n",
    "\n",
    "Recall, your features are loaded in the DataFrame **X** and your target is loaded in **y**.\n"
   ]
  },
  {
   "cell_type": "code",
   "execution_count": 2,
   "id": "4a598cb4",
   "metadata": {
    "execution": {
     "iopub.execute_input": "2024-11-05T12:34:28.303990Z",
     "iopub.status.busy": "2024-11-05T12:34:28.303576Z",
     "iopub.status.idle": "2024-11-05T12:34:28.322464Z",
     "shell.execute_reply": "2024-11-05T12:34:28.321352Z"
    },
    "papermill": {
     "duration": 0.029326,
     "end_time": "2024-11-05T12:34:28.324864",
     "exception": false,
     "start_time": "2024-11-05T12:34:28.295538",
     "status": "completed"
    },
    "tags": []
   },
   "outputs": [
    {
     "data": {
      "application/javascript": [
       "parent.postMessage({\"jupyterEvent\": \"custom.exercise_interaction\", \"data\": {\"outcomeType\": 1, \"valueTowardsCompletion\": 0.25, \"interactionType\": 1, \"questionType\": 2, \"questionId\": \"1_SplitData\", \"learnToolsVersion\": \"0.3.4\", \"failureMessage\": \"\", \"exceptionClass\": \"\", \"trace\": \"\"}}, \"*\")"
      ],
      "text/plain": [
       "<IPython.core.display.Javascript object>"
      ]
     },
     "metadata": {},
     "output_type": "display_data"
    },
    {
     "data": {
      "text/markdown": [
       "<span style=\"color:#33cc33\">Correct</span>"
      ],
      "text/plain": [
       "Correct"
      ]
     },
     "metadata": {},
     "output_type": "display_data"
    }
   ],
   "source": [
    "# Import the train_test_split function and uncomment\n",
    "from sklearn.model_selection import train_test_split\n",
    "\n",
    "\n",
    "# fill in and uncomment\n",
    "train_X, val_X, train_y, val_y = train_test_split(X, y, random_state=1)\n",
    "\n",
    "# Check your answer\n",
    "step_1.check()"
   ]
  },
  {
   "cell_type": "code",
   "execution_count": 3,
   "id": "a8a1c897",
   "metadata": {
    "execution": {
     "iopub.execute_input": "2024-11-05T12:34:28.340199Z",
     "iopub.status.busy": "2024-11-05T12:34:28.339714Z",
     "iopub.status.idle": "2024-11-05T12:34:28.344906Z",
     "shell.execute_reply": "2024-11-05T12:34:28.343692Z"
    },
    "papermill": {
     "duration": 0.016159,
     "end_time": "2024-11-05T12:34:28.347716",
     "exception": false,
     "start_time": "2024-11-05T12:34:28.331557",
     "status": "completed"
    },
    "tags": []
   },
   "outputs": [],
   "source": [
    "# The lines below will show you a hint or the solution.\n",
    "# step_1.hint() \n",
    "# step_1.solution()\n"
   ]
  },
  {
   "cell_type": "markdown",
   "id": "27e9eb22",
   "metadata": {
    "papermill": {
     "duration": 0.006452,
     "end_time": "2024-11-05T12:34:28.361176",
     "exception": false,
     "start_time": "2024-11-05T12:34:28.354724",
     "status": "completed"
    },
    "tags": []
   },
   "source": [
    "## Step 2: Specify and Fit the Model\n",
    "\n",
    "Create a `DecisionTreeRegressor` model and fit it to the relevant data.\n",
    "Set `random_state` to 1 again when creating the model."
   ]
  },
  {
   "cell_type": "code",
   "execution_count": 4,
   "id": "9dfc6ea8",
   "metadata": {
    "execution": {
     "iopub.execute_input": "2024-11-05T12:34:28.377831Z",
     "iopub.status.busy": "2024-11-05T12:34:28.377416Z",
     "iopub.status.idle": "2024-11-05T12:34:28.406903Z",
     "shell.execute_reply": "2024-11-05T12:34:28.405665Z"
    },
    "papermill": {
     "duration": 0.041087,
     "end_time": "2024-11-05T12:34:28.409331",
     "exception": false,
     "start_time": "2024-11-05T12:34:28.368244",
     "status": "completed"
    },
    "tags": []
   },
   "outputs": [
    {
     "name": "stdout",
     "output_type": "stream",
     "text": [
      "[186500. 184000. 130000.  92000. 164500. 220000. 335000. 144152. 215000.\n",
      " 262000.]\n",
      "[186500. 184000. 130000.  92000. 164500. 220000. 335000. 144152. 215000.\n",
      " 262000.]\n"
     ]
    },
    {
     "data": {
      "application/javascript": [
       "parent.postMessage({\"jupyterEvent\": \"custom.exercise_interaction\", \"data\": {\"outcomeType\": 1, \"valueTowardsCompletion\": 0.25, \"interactionType\": 1, \"questionType\": 2, \"questionId\": \"2_FitModelWithTrain\", \"learnToolsVersion\": \"0.3.4\", \"failureMessage\": \"\", \"exceptionClass\": \"\", \"trace\": \"\"}}, \"*\")"
      ],
      "text/plain": [
       "<IPython.core.display.Javascript object>"
      ]
     },
     "metadata": {},
     "output_type": "display_data"
    },
    {
     "data": {
      "text/markdown": [
       "<span style=\"color:#33cc33\">Correct</span>"
      ],
      "text/plain": [
       "Correct"
      ]
     },
     "metadata": {},
     "output_type": "display_data"
    }
   ],
   "source": [
    "# You imported DecisionTreeRegressor in your last exercise\n",
    "# and that code has been copied to the setup code above. So, no need to\n",
    "# import it again\n",
    "\n",
    "# Specify the model\n",
    "iowa_model = DecisionTreeRegressor(random_state = 1)\n",
    "\n",
    "# Fit iowa_model with the training data.\n",
    "iowa_model.fit(train_X, train_y)\n",
    "\n",
    "# Check your answer\n",
    "step_2.check()"
   ]
  },
  {
   "cell_type": "code",
   "execution_count": 5,
   "id": "0502d99b",
   "metadata": {
    "execution": {
     "iopub.execute_input": "2024-11-05T12:34:28.425673Z",
     "iopub.status.busy": "2024-11-05T12:34:28.425244Z",
     "iopub.status.idle": "2024-11-05T12:34:28.430335Z",
     "shell.execute_reply": "2024-11-05T12:34:28.429232Z"
    },
    "papermill": {
     "duration": 0.016019,
     "end_time": "2024-11-05T12:34:28.432783",
     "exception": false,
     "start_time": "2024-11-05T12:34:28.416764",
     "status": "completed"
    },
    "tags": []
   },
   "outputs": [],
   "source": [
    "# step_2.hint()\n",
    "# step_2.solution()"
   ]
  },
  {
   "cell_type": "markdown",
   "id": "bc5a37b4",
   "metadata": {
    "papermill": {
     "duration": 0.006807,
     "end_time": "2024-11-05T12:34:28.446842",
     "exception": false,
     "start_time": "2024-11-05T12:34:28.440035",
     "status": "completed"
    },
    "tags": []
   },
   "source": [
    "## Step 3: Make Predictions with Validation data\n"
   ]
  },
  {
   "cell_type": "code",
   "execution_count": 6,
   "id": "3cd7a521",
   "metadata": {
    "execution": {
     "iopub.execute_input": "2024-11-05T12:34:28.463102Z",
     "iopub.status.busy": "2024-11-05T12:34:28.462613Z",
     "iopub.status.idle": "2024-11-05T12:34:28.476635Z",
     "shell.execute_reply": "2024-11-05T12:34:28.475460Z"
    },
    "papermill": {
     "duration": 0.024938,
     "end_time": "2024-11-05T12:34:28.479010",
     "exception": false,
     "start_time": "2024-11-05T12:34:28.454072",
     "status": "completed"
    },
    "tags": []
   },
   "outputs": [
    {
     "data": {
      "application/javascript": [
       "parent.postMessage({\"jupyterEvent\": \"custom.exercise_interaction\", \"data\": {\"outcomeType\": 1, \"valueTowardsCompletion\": 0.25, \"interactionType\": 1, \"questionType\": 2, \"questionId\": \"3_ValPreds\", \"learnToolsVersion\": \"0.3.4\", \"failureMessage\": \"\", \"exceptionClass\": \"\", \"trace\": \"\"}}, \"*\")"
      ],
      "text/plain": [
       "<IPython.core.display.Javascript object>"
      ]
     },
     "metadata": {},
     "output_type": "display_data"
    },
    {
     "data": {
      "text/markdown": [
       "<span style=\"color:#33cc33\">Correct</span>"
      ],
      "text/plain": [
       "Correct"
      ]
     },
     "metadata": {},
     "output_type": "display_data"
    }
   ],
   "source": [
    "# Predict with all validation observations\n",
    "val_predictions = iowa_model.predict(val_X)\n",
    "\n",
    "# Check your answer\n",
    "step_3.check()"
   ]
  },
  {
   "cell_type": "code",
   "execution_count": 7,
   "id": "6b37009b",
   "metadata": {
    "execution": {
     "iopub.execute_input": "2024-11-05T12:34:28.497011Z",
     "iopub.status.busy": "2024-11-05T12:34:28.496552Z",
     "iopub.status.idle": "2024-11-05T12:34:28.501447Z",
     "shell.execute_reply": "2024-11-05T12:34:28.500361Z"
    },
    "papermill": {
     "duration": 0.017398,
     "end_time": "2024-11-05T12:34:28.503880",
     "exception": false,
     "start_time": "2024-11-05T12:34:28.486482",
     "status": "completed"
    },
    "tags": []
   },
   "outputs": [],
   "source": [
    "# step_3.hint()\n",
    "# step_3.solution()"
   ]
  },
  {
   "cell_type": "markdown",
   "id": "c18e558d",
   "metadata": {
    "papermill": {
     "duration": 0.007894,
     "end_time": "2024-11-05T12:34:28.520034",
     "exception": false,
     "start_time": "2024-11-05T12:34:28.512140",
     "status": "completed"
    },
    "tags": []
   },
   "source": [
    "Inspect your predictions and actual values from validation data."
   ]
  },
  {
   "cell_type": "code",
   "execution_count": 8,
   "id": "9681ce66",
   "metadata": {
    "execution": {
     "iopub.execute_input": "2024-11-05T12:34:28.536858Z",
     "iopub.status.busy": "2024-11-05T12:34:28.536458Z",
     "iopub.status.idle": "2024-11-05T12:34:28.543882Z",
     "shell.execute_reply": "2024-11-05T12:34:28.542637Z"
    },
    "papermill": {
     "duration": 0.019598,
     "end_time": "2024-11-05T12:34:28.547208",
     "exception": false,
     "start_time": "2024-11-05T12:34:28.527610",
     "status": "completed"
    },
    "tags": []
   },
   "outputs": [
    {
     "name": "stdout",
     "output_type": "stream",
     "text": [
      "[186500. 184000. 130000.  92000. 164500.]\n",
      "258     231500\n",
      "267     179500\n",
      "288     122000\n",
      "649      84500\n",
      "1233    142000\n",
      "Name: SalePrice, dtype: int64\n"
     ]
    }
   ],
   "source": [
    "# print the top few validation predictions\n",
    "print(val_predictions[0:5])\n",
    "# print the top few actual prices from validation data\n",
    "print(val_y.head())"
   ]
  },
  {
   "cell_type": "markdown",
   "id": "65aa8a68",
   "metadata": {
    "papermill": {
     "duration": 0.00728,
     "end_time": "2024-11-05T12:34:28.562066",
     "exception": false,
     "start_time": "2024-11-05T12:34:28.554786",
     "status": "completed"
    },
    "tags": []
   },
   "source": [
    "What do you notice that is different from what you saw with in-sample predictions (which are printed after the top code cell in this page).\n",
    "\n",
    "Do you remember why validation predictions differ from in-sample (or training) predictions? This is an important idea from the last lesson.\n",
    "\n",
    "## Step 4: Calculate the Mean Absolute Error in Validation Data\n"
   ]
  },
  {
   "cell_type": "code",
   "execution_count": 9,
   "id": "ed2f867e",
   "metadata": {
    "execution": {
     "iopub.execute_input": "2024-11-05T12:34:28.579137Z",
     "iopub.status.busy": "2024-11-05T12:34:28.578686Z",
     "iopub.status.idle": "2024-11-05T12:34:28.591123Z",
     "shell.execute_reply": "2024-11-05T12:34:28.589871Z"
    },
    "papermill": {
     "duration": 0.024632,
     "end_time": "2024-11-05T12:34:28.594223",
     "exception": false,
     "start_time": "2024-11-05T12:34:28.569591",
     "status": "completed"
    },
    "tags": []
   },
   "outputs": [
    {
     "name": "stdout",
     "output_type": "stream",
     "text": [
      "29652.931506849316\n"
     ]
    },
    {
     "data": {
      "application/javascript": [
       "parent.postMessage({\"jupyterEvent\": \"custom.exercise_interaction\", \"data\": {\"outcomeType\": 1, \"valueTowardsCompletion\": 0.25, \"interactionType\": 1, \"questionType\": 1, \"questionId\": \"4_MAE\", \"learnToolsVersion\": \"0.3.4\", \"failureMessage\": \"\", \"exceptionClass\": \"\", \"trace\": \"\"}}, \"*\")"
      ],
      "text/plain": [
       "<IPython.core.display.Javascript object>"
      ]
     },
     "metadata": {},
     "output_type": "display_data"
    },
    {
     "data": {
      "text/markdown": [
       "<span style=\"color:#33cc33\">Correct</span>"
      ],
      "text/plain": [
       "Correct"
      ]
     },
     "metadata": {},
     "output_type": "display_data"
    }
   ],
   "source": [
    "from sklearn.metrics import mean_absolute_error\n",
    "val_mae = mean_absolute_error(val_y, val_predictions)\n",
    "\n",
    "# uncomment following line to see the validation_mae\n",
    "print(val_mae)\n",
    "\n",
    "# Check your answer\n",
    "step_4.check()"
   ]
  },
  {
   "cell_type": "code",
   "execution_count": 10,
   "id": "7213f2ce",
   "metadata": {
    "execution": {
     "iopub.execute_input": "2024-11-05T12:34:28.613171Z",
     "iopub.status.busy": "2024-11-05T12:34:28.612692Z",
     "iopub.status.idle": "2024-11-05T12:34:28.617737Z",
     "shell.execute_reply": "2024-11-05T12:34:28.616478Z"
    },
    "papermill": {
     "duration": 0.018165,
     "end_time": "2024-11-05T12:34:28.620336",
     "exception": false,
     "start_time": "2024-11-05T12:34:28.602171",
     "status": "completed"
    },
    "tags": []
   },
   "outputs": [],
   "source": [
    "# step_4.hint()\n",
    "# step_4.solution()"
   ]
  },
  {
   "cell_type": "markdown",
   "id": "3a40bbf5",
   "metadata": {
    "papermill": {
     "duration": 0.007734,
     "end_time": "2024-11-05T12:34:28.636181",
     "exception": false,
     "start_time": "2024-11-05T12:34:28.628447",
     "status": "completed"
    },
    "tags": []
   },
   "source": [
    "Is that MAE good?  There isn't a general rule for what values are good that applies across applications. But you'll see how to use (and improve) this number in the next step.\n",
    "\n",
    "# Keep Going\n",
    "\n",
    "You are ready for **[Underfitting and Overfitting](https://www.kaggle.com/dansbecker/underfitting-and-overfitting).**\n"
   ]
  },
  {
   "cell_type": "markdown",
   "id": "0e5eea2d",
   "metadata": {
    "papermill": {
     "duration": 0.008005,
     "end_time": "2024-11-05T12:34:28.653076",
     "exception": false,
     "start_time": "2024-11-05T12:34:28.645071",
     "status": "completed"
    },
    "tags": []
   },
   "source": [
    "---\n",
    "\n",
    "\n",
    "\n",
    "\n",
    "*Have questions or comments? Visit the [course discussion forum](https://www.kaggle.com/learn/intro-to-machine-learning/discussion) to chat with other learners.*"
   ]
  }
 ],
 "metadata": {
  "kaggle": {
   "accelerator": "none",
   "dataSources": [
    {
     "databundleVersionId": 111096,
     "sourceId": 10211,
     "sourceType": "competition"
    },
    {
     "datasetId": 11167,
     "sourceId": 15520,
     "sourceType": "datasetVersion"
    },
    {
     "datasetId": 2709,
     "sourceId": 38454,
     "sourceType": "datasetVersion"
    }
   ],
   "isGpuEnabled": false,
   "isInternetEnabled": false,
   "language": "python",
   "sourceType": "notebook"
  },
  "kernelspec": {
   "display_name": "Python 3",
   "language": "python",
   "name": "python3"
  },
  "language_info": {
   "codemirror_mode": {
    "name": "ipython",
    "version": 3
   },
   "file_extension": ".py",
   "mimetype": "text/x-python",
   "name": "python",
   "nbconvert_exporter": "python",
   "pygments_lexer": "ipython3",
   "version": "3.10.14"
  },
  "papermill": {
   "default_parameters": {},
   "duration": 6.970488,
   "end_time": "2024-11-05T12:34:29.283629",
   "environment_variables": {},
   "exception": null,
   "input_path": "__notebook__.ipynb",
   "output_path": "__notebook__.ipynb",
   "parameters": {},
   "start_time": "2024-11-05T12:34:22.313141",
   "version": "2.6.0"
  }
 },
 "nbformat": 4,
 "nbformat_minor": 5
}
