{
 "cells": [
  {
   "cell_type": "code",
   "execution_count": 1,
   "id": "0b4e4a49",
   "metadata": {
    "_cell_guid": "b1076dfc-b9ad-4769-8c92-a6c4dae69d19",
    "_uuid": "8f2839f25d086af736a60e9eeb907d3b93b6e0e5",
    "execution": {
     "iopub.execute_input": "2025-05-19T07:17:21.759101Z",
     "iopub.status.busy": "2025-05-19T07:17:21.758662Z",
     "iopub.status.idle": "2025-05-19T07:17:37.275425Z",
     "shell.execute_reply": "2025-05-19T07:17:37.274263Z"
    },
    "papermill": {
     "duration": 15.525191,
     "end_time": "2025-05-19T07:17:37.278195",
     "exception": false,
     "start_time": "2025-05-19T07:17:21.753004",
     "status": "completed"
    },
    "tags": []
   },
   "outputs": [
    {
     "name": "stdout",
     "output_type": "stream",
     "text": [
      "/kaggle/input/titanic/train.csv\n",
      "/kaggle/input/titanic/test.csv\n",
      "/kaggle/input/titanic/gender_submission.csv\n"
     ]
    },
    {
     "name": "stderr",
     "output_type": "stream",
     "text": [
      "/tmp/ipykernel_17/2798787890.py:15: MatplotlibDeprecationWarning: The seaborn styles shipped by Matplotlib are deprecated since 3.6, as they no longer correspond to the styles shipped by seaborn. However, they will remain available as 'seaborn-v0_8-<style>'. Alternatively, directly use the seaborn API instead.\n",
      "  plt.style.use('seaborn')\n"
     ]
    }
   ],
   "source": [
    "import os\n",
    "import numpy as np\n",
    "import pandas as pd\n",
    "import matplotlib.pyplot as plt\n",
    "import seaborn as sns\n",
    "import keras\n",
    "import sklearn\n",
    "for dirname, _, filenames in os.walk('/kaggle/input'):\n",
    "    for filename in filenames:\n",
    "        print(os.path.join(dirname, filename))\n",
    "\n",
    "# You can write up to 20GB to the current directory (/kaggle/working/) that gets preserved as output when you create a version using \"Save & Run All\" \n",
    "# You can also write temporary files to /kaggle/temp/, but they won't be saved outside of the current session\n",
    "\n",
    "plt.style.use('seaborn')\n",
    "sns.set(font_scale=2.5) \n",
    "# matplotlib 의 기본 scheme 말고 seaborn scheme 을 세팅하고, 일일이 graph 의 font size 를 지정할 필요 없이 seaborn 의 font_scale 을 사용하면 편합니다.\n",
    "\n",
    "import missingno as msno\n",
    "\n",
    "#ignore warnings\n",
    "import warnings\n",
    "warnings.filterwarnings('ignore') # 워닝 메세지를 생략해 줍니다. 차후 버전관리를 위해 필요한 정보라고 생각하시면 주석처리 하시면 됩니다.\n",
    "\n",
    "%matplotlib inline"
   ]
  },
  {
   "cell_type": "code",
   "execution_count": 2,
   "id": "99364771",
   "metadata": {
    "execution": {
     "iopub.execute_input": "2025-05-19T07:17:37.287665Z",
     "iopub.status.busy": "2025-05-19T07:17:37.287021Z",
     "iopub.status.idle": "2025-05-19T07:17:37.314376Z",
     "shell.execute_reply": "2025-05-19T07:17:37.313427Z"
    },
    "papermill": {
     "duration": 0.034456,
     "end_time": "2025-05-19T07:17:37.316683",
     "exception": false,
     "start_time": "2025-05-19T07:17:37.282227",
     "status": "completed"
    },
    "tags": []
   },
   "outputs": [],
   "source": [
    "train_data_path = \"/kaggle/input/titanic/train.csv\"\n",
    "train_data = pd.read_csv(train_data_path)\n",
    "\n",
    "test_data_path = \"/kaggle/input/titanic/test.csv\"\n",
    "test_data = pd.read_csv(test_data_path)\n",
    "\n",
    "gender_submission_path = \"/kaggle/input/titanic/gender_submission.csv\"\n",
    "gender_submission = pd.read_csv(gender_submission_path)"
   ]
  },
  {
   "cell_type": "code",
   "execution_count": 3,
   "id": "98518d1d",
   "metadata": {
    "execution": {
     "iopub.execute_input": "2025-05-19T07:17:37.326317Z",
     "iopub.status.busy": "2025-05-19T07:17:37.325548Z",
     "iopub.status.idle": "2025-05-19T07:17:37.333144Z",
     "shell.execute_reply": "2025-05-19T07:17:37.332131Z"
    },
    "papermill": {
     "duration": 0.014541,
     "end_time": "2025-05-19T07:17:37.335192",
     "exception": false,
     "start_time": "2025-05-19T07:17:37.320651",
     "status": "completed"
    },
    "tags": []
   },
   "outputs": [
    {
     "data": {
      "text/plain": [
       "((891, 12), (418, 11), (418, 2))"
      ]
     },
     "execution_count": 3,
     "metadata": {},
     "output_type": "execute_result"
    }
   ],
   "source": [
    "train_data.shape, test_data.shape, gender_submission.shape"
   ]
  },
  {
   "cell_type": "code",
   "execution_count": 4,
   "id": "d41ecea0",
   "metadata": {
    "execution": {
     "iopub.execute_input": "2025-05-19T07:17:37.345183Z",
     "iopub.status.busy": "2025-05-19T07:17:37.344601Z",
     "iopub.status.idle": "2025-05-19T07:17:37.351011Z",
     "shell.execute_reply": "2025-05-19T07:17:37.350059Z"
    },
    "papermill": {
     "duration": 0.014022,
     "end_time": "2025-05-19T07:17:37.353094",
     "exception": false,
     "start_time": "2025-05-19T07:17:37.339072",
     "status": "completed"
    },
    "tags": []
   },
   "outputs": [
    {
     "data": {
      "text/plain": [
       "Index(['PassengerId', 'Survived', 'Pclass', 'Name', 'Sex', 'Age', 'SibSp',\n",
       "       'Parch', 'Ticket', 'Fare', 'Cabin', 'Embarked'],\n",
       "      dtype='object')"
      ]
     },
     "execution_count": 4,
     "metadata": {},
     "output_type": "execute_result"
    }
   ],
   "source": [
    "train_data.columns"
   ]
  },
  {
   "cell_type": "code",
   "execution_count": 5,
   "id": "3c7c0fa4",
   "metadata": {
    "execution": {
     "iopub.execute_input": "2025-05-19T07:17:37.363002Z",
     "iopub.status.busy": "2025-05-19T07:17:37.362233Z",
     "iopub.status.idle": "2025-05-19T07:17:37.368888Z",
     "shell.execute_reply": "2025-05-19T07:17:37.367909Z"
    },
    "papermill": {
     "duration": 0.013882,
     "end_time": "2025-05-19T07:17:37.371038",
     "exception": false,
     "start_time": "2025-05-19T07:17:37.357156",
     "status": "completed"
    },
    "tags": []
   },
   "outputs": [
    {
     "data": {
      "text/plain": [
       "Index(['PassengerId', 'Survived'], dtype='object')"
      ]
     },
     "execution_count": 5,
     "metadata": {},
     "output_type": "execute_result"
    }
   ],
   "source": [
    "gender_submission.columns"
   ]
  },
  {
   "cell_type": "code",
   "execution_count": 6,
   "id": "9ef8068a",
   "metadata": {
    "execution": {
     "iopub.execute_input": "2025-05-19T07:17:37.380807Z",
     "iopub.status.busy": "2025-05-19T07:17:37.380441Z",
     "iopub.status.idle": "2025-05-19T07:17:37.417510Z",
     "shell.execute_reply": "2025-05-19T07:17:37.416444Z"
    },
    "papermill": {
     "duration": 0.044459,
     "end_time": "2025-05-19T07:17:37.419674",
     "exception": false,
     "start_time": "2025-05-19T07:17:37.375215",
     "status": "completed"
    },
    "tags": []
   },
   "outputs": [
    {
     "data": {
      "text/html": [
       "<div>\n",
       "<style scoped>\n",
       "    .dataframe tbody tr th:only-of-type {\n",
       "        vertical-align: middle;\n",
       "    }\n",
       "\n",
       "    .dataframe tbody tr th {\n",
       "        vertical-align: top;\n",
       "    }\n",
       "\n",
       "    .dataframe thead th {\n",
       "        text-align: right;\n",
       "    }\n",
       "</style>\n",
       "<table border=\"1\" class=\"dataframe\">\n",
       "  <thead>\n",
       "    <tr style=\"text-align: right;\">\n",
       "      <th></th>\n",
       "      <th>PassengerId</th>\n",
       "      <th>Survived</th>\n",
       "      <th>Pclass</th>\n",
       "      <th>Age</th>\n",
       "      <th>SibSp</th>\n",
       "      <th>Parch</th>\n",
       "      <th>Fare</th>\n",
       "    </tr>\n",
       "  </thead>\n",
       "  <tbody>\n",
       "    <tr>\n",
       "      <th>count</th>\n",
       "      <td>891.000000</td>\n",
       "      <td>891.000000</td>\n",
       "      <td>891.000000</td>\n",
       "      <td>714.000000</td>\n",
       "      <td>891.000000</td>\n",
       "      <td>891.000000</td>\n",
       "      <td>891.000000</td>\n",
       "    </tr>\n",
       "    <tr>\n",
       "      <th>mean</th>\n",
       "      <td>446.000000</td>\n",
       "      <td>0.383838</td>\n",
       "      <td>2.308642</td>\n",
       "      <td>29.699118</td>\n",
       "      <td>0.523008</td>\n",
       "      <td>0.381594</td>\n",
       "      <td>32.204208</td>\n",
       "    </tr>\n",
       "    <tr>\n",
       "      <th>std</th>\n",
       "      <td>257.353842</td>\n",
       "      <td>0.486592</td>\n",
       "      <td>0.836071</td>\n",
       "      <td>14.526497</td>\n",
       "      <td>1.102743</td>\n",
       "      <td>0.806057</td>\n",
       "      <td>49.693429</td>\n",
       "    </tr>\n",
       "    <tr>\n",
       "      <th>min</th>\n",
       "      <td>1.000000</td>\n",
       "      <td>0.000000</td>\n",
       "      <td>1.000000</td>\n",
       "      <td>0.420000</td>\n",
       "      <td>0.000000</td>\n",
       "      <td>0.000000</td>\n",
       "      <td>0.000000</td>\n",
       "    </tr>\n",
       "    <tr>\n",
       "      <th>25%</th>\n",
       "      <td>223.500000</td>\n",
       "      <td>0.000000</td>\n",
       "      <td>2.000000</td>\n",
       "      <td>20.125000</td>\n",
       "      <td>0.000000</td>\n",
       "      <td>0.000000</td>\n",
       "      <td>7.910400</td>\n",
       "    </tr>\n",
       "    <tr>\n",
       "      <th>50%</th>\n",
       "      <td>446.000000</td>\n",
       "      <td>0.000000</td>\n",
       "      <td>3.000000</td>\n",
       "      <td>28.000000</td>\n",
       "      <td>0.000000</td>\n",
       "      <td>0.000000</td>\n",
       "      <td>14.454200</td>\n",
       "    </tr>\n",
       "    <tr>\n",
       "      <th>75%</th>\n",
       "      <td>668.500000</td>\n",
       "      <td>1.000000</td>\n",
       "      <td>3.000000</td>\n",
       "      <td>38.000000</td>\n",
       "      <td>1.000000</td>\n",
       "      <td>0.000000</td>\n",
       "      <td>31.000000</td>\n",
       "    </tr>\n",
       "    <tr>\n",
       "      <th>max</th>\n",
       "      <td>891.000000</td>\n",
       "      <td>1.000000</td>\n",
       "      <td>3.000000</td>\n",
       "      <td>80.000000</td>\n",
       "      <td>8.000000</td>\n",
       "      <td>6.000000</td>\n",
       "      <td>512.329200</td>\n",
       "    </tr>\n",
       "  </tbody>\n",
       "</table>\n",
       "</div>"
      ],
      "text/plain": [
       "       PassengerId    Survived      Pclass         Age       SibSp  \\\n",
       "count   891.000000  891.000000  891.000000  714.000000  891.000000   \n",
       "mean    446.000000    0.383838    2.308642   29.699118    0.523008   \n",
       "std     257.353842    0.486592    0.836071   14.526497    1.102743   \n",
       "min       1.000000    0.000000    1.000000    0.420000    0.000000   \n",
       "25%     223.500000    0.000000    2.000000   20.125000    0.000000   \n",
       "50%     446.000000    0.000000    3.000000   28.000000    0.000000   \n",
       "75%     668.500000    1.000000    3.000000   38.000000    1.000000   \n",
       "max     891.000000    1.000000    3.000000   80.000000    8.000000   \n",
       "\n",
       "            Parch        Fare  \n",
       "count  891.000000  891.000000  \n",
       "mean     0.381594   32.204208  \n",
       "std      0.806057   49.693429  \n",
       "min      0.000000    0.000000  \n",
       "25%      0.000000    7.910400  \n",
       "50%      0.000000   14.454200  \n",
       "75%      0.000000   31.000000  \n",
       "max      6.000000  512.329200  "
      ]
     },
     "execution_count": 6,
     "metadata": {},
     "output_type": "execute_result"
    }
   ],
   "source": [
    "train_data.describe()"
   ]
  },
  {
   "cell_type": "code",
   "execution_count": 7,
   "id": "561d091a",
   "metadata": {
    "execution": {
     "iopub.execute_input": "2025-05-19T07:17:37.430263Z",
     "iopub.status.busy": "2025-05-19T07:17:37.429839Z",
     "iopub.status.idle": "2025-05-19T07:17:37.453685Z",
     "shell.execute_reply": "2025-05-19T07:17:37.452605Z"
    },
    "papermill": {
     "duration": 0.031397,
     "end_time": "2025-05-19T07:17:37.455670",
     "exception": false,
     "start_time": "2025-05-19T07:17:37.424273",
     "status": "completed"
    },
    "tags": []
   },
   "outputs": [
    {
     "data": {
      "text/html": [
       "<div>\n",
       "<style scoped>\n",
       "    .dataframe tbody tr th:only-of-type {\n",
       "        vertical-align: middle;\n",
       "    }\n",
       "\n",
       "    .dataframe tbody tr th {\n",
       "        vertical-align: top;\n",
       "    }\n",
       "\n",
       "    .dataframe thead th {\n",
       "        text-align: right;\n",
       "    }\n",
       "</style>\n",
       "<table border=\"1\" class=\"dataframe\">\n",
       "  <thead>\n",
       "    <tr style=\"text-align: right;\">\n",
       "      <th></th>\n",
       "      <th>PassengerId</th>\n",
       "      <th>Pclass</th>\n",
       "      <th>Age</th>\n",
       "      <th>SibSp</th>\n",
       "      <th>Parch</th>\n",
       "      <th>Fare</th>\n",
       "    </tr>\n",
       "  </thead>\n",
       "  <tbody>\n",
       "    <tr>\n",
       "      <th>count</th>\n",
       "      <td>418.000000</td>\n",
       "      <td>418.000000</td>\n",
       "      <td>332.000000</td>\n",
       "      <td>418.000000</td>\n",
       "      <td>418.000000</td>\n",
       "      <td>417.000000</td>\n",
       "    </tr>\n",
       "    <tr>\n",
       "      <th>mean</th>\n",
       "      <td>1100.500000</td>\n",
       "      <td>2.265550</td>\n",
       "      <td>30.272590</td>\n",
       "      <td>0.447368</td>\n",
       "      <td>0.392344</td>\n",
       "      <td>35.627188</td>\n",
       "    </tr>\n",
       "    <tr>\n",
       "      <th>std</th>\n",
       "      <td>120.810458</td>\n",
       "      <td>0.841838</td>\n",
       "      <td>14.181209</td>\n",
       "      <td>0.896760</td>\n",
       "      <td>0.981429</td>\n",
       "      <td>55.907576</td>\n",
       "    </tr>\n",
       "    <tr>\n",
       "      <th>min</th>\n",
       "      <td>892.000000</td>\n",
       "      <td>1.000000</td>\n",
       "      <td>0.170000</td>\n",
       "      <td>0.000000</td>\n",
       "      <td>0.000000</td>\n",
       "      <td>0.000000</td>\n",
       "    </tr>\n",
       "    <tr>\n",
       "      <th>25%</th>\n",
       "      <td>996.250000</td>\n",
       "      <td>1.000000</td>\n",
       "      <td>21.000000</td>\n",
       "      <td>0.000000</td>\n",
       "      <td>0.000000</td>\n",
       "      <td>7.895800</td>\n",
       "    </tr>\n",
       "    <tr>\n",
       "      <th>50%</th>\n",
       "      <td>1100.500000</td>\n",
       "      <td>3.000000</td>\n",
       "      <td>27.000000</td>\n",
       "      <td>0.000000</td>\n",
       "      <td>0.000000</td>\n",
       "      <td>14.454200</td>\n",
       "    </tr>\n",
       "    <tr>\n",
       "      <th>75%</th>\n",
       "      <td>1204.750000</td>\n",
       "      <td>3.000000</td>\n",
       "      <td>39.000000</td>\n",
       "      <td>1.000000</td>\n",
       "      <td>0.000000</td>\n",
       "      <td>31.500000</td>\n",
       "    </tr>\n",
       "    <tr>\n",
       "      <th>max</th>\n",
       "      <td>1309.000000</td>\n",
       "      <td>3.000000</td>\n",
       "      <td>76.000000</td>\n",
       "      <td>8.000000</td>\n",
       "      <td>9.000000</td>\n",
       "      <td>512.329200</td>\n",
       "    </tr>\n",
       "  </tbody>\n",
       "</table>\n",
       "</div>"
      ],
      "text/plain": [
       "       PassengerId      Pclass         Age       SibSp       Parch        Fare\n",
       "count   418.000000  418.000000  332.000000  418.000000  418.000000  417.000000\n",
       "mean   1100.500000    2.265550   30.272590    0.447368    0.392344   35.627188\n",
       "std     120.810458    0.841838   14.181209    0.896760    0.981429   55.907576\n",
       "min     892.000000    1.000000    0.170000    0.000000    0.000000    0.000000\n",
       "25%     996.250000    1.000000   21.000000    0.000000    0.000000    7.895800\n",
       "50%    1100.500000    3.000000   27.000000    0.000000    0.000000   14.454200\n",
       "75%    1204.750000    3.000000   39.000000    1.000000    0.000000   31.500000\n",
       "max    1309.000000    3.000000   76.000000    8.000000    9.000000  512.329200"
      ]
     },
     "execution_count": 7,
     "metadata": {},
     "output_type": "execute_result"
    }
   ],
   "source": [
    "test_data.describe()"
   ]
  },
  {
   "cell_type": "code",
   "execution_count": 8,
   "id": "c1b92c44",
   "metadata": {
    "execution": {
     "iopub.execute_input": "2025-05-19T07:17:37.466674Z",
     "iopub.status.busy": "2025-05-19T07:17:37.466263Z",
     "iopub.status.idle": "2025-05-19T07:17:37.475737Z",
     "shell.execute_reply": "2025-05-19T07:17:37.474696Z"
    },
    "papermill": {
     "duration": 0.017619,
     "end_time": "2025-05-19T07:17:37.477880",
     "exception": false,
     "start_time": "2025-05-19T07:17:37.460261",
     "status": "completed"
    },
    "tags": []
   },
   "outputs": [
    {
     "data": {
      "text/plain": [
       "PassengerId    0.000000\n",
       "Survived       0.000000\n",
       "Pclass         0.000000\n",
       "Name           0.000000\n",
       "Sex            0.000000\n",
       "Age            0.198653\n",
       "SibSp          0.000000\n",
       "Parch          0.000000\n",
       "Ticket         0.000000\n",
       "Fare           0.000000\n",
       "Cabin          0.771044\n",
       "Embarked       0.002245\n",
       "dtype: float64"
      ]
     },
     "execution_count": 8,
     "metadata": {},
     "output_type": "execute_result"
    }
   ],
   "source": [
    "train_data.isnull().sum() / train_data.shape[0]"
   ]
  },
  {
   "cell_type": "code",
   "execution_count": 9,
   "id": "423a8f17",
   "metadata": {
    "execution": {
     "iopub.execute_input": "2025-05-19T07:17:37.489454Z",
     "iopub.status.busy": "2025-05-19T07:17:37.489079Z",
     "iopub.status.idle": "2025-05-19T07:17:37.498107Z",
     "shell.execute_reply": "2025-05-19T07:17:37.497028Z"
    },
    "papermill": {
     "duration": 0.016573,
     "end_time": "2025-05-19T07:17:37.500026",
     "exception": false,
     "start_time": "2025-05-19T07:17:37.483453",
     "status": "completed"
    },
    "tags": []
   },
   "outputs": [
    {
     "data": {
      "text/plain": [
       "PassengerId    0.000000\n",
       "Pclass         0.000000\n",
       "Name           0.000000\n",
       "Sex            0.000000\n",
       "Age            0.205742\n",
       "SibSp          0.000000\n",
       "Parch          0.000000\n",
       "Ticket         0.000000\n",
       "Fare           0.002392\n",
       "Cabin          0.782297\n",
       "Embarked       0.000000\n",
       "dtype: float64"
      ]
     },
     "execution_count": 9,
     "metadata": {},
     "output_type": "execute_result"
    }
   ],
   "source": [
    "test_data.isnull().sum() / test_data.shape[0]"
   ]
  },
  {
   "cell_type": "code",
   "execution_count": 10,
   "id": "23bd4c69",
   "metadata": {
    "execution": {
     "iopub.execute_input": "2025-05-19T07:17:37.510920Z",
     "iopub.status.busy": "2025-05-19T07:17:37.510544Z",
     "iopub.status.idle": "2025-05-19T07:17:37.521236Z",
     "shell.execute_reply": "2025-05-19T07:17:37.520085Z"
    },
    "papermill": {
     "duration": 0.018785,
     "end_time": "2025-05-19T07:17:37.523436",
     "exception": false,
     "start_time": "2025-05-19T07:17:37.504651",
     "status": "completed"
    },
    "tags": []
   },
   "outputs": [
    {
     "name": "stdout",
     "output_type": "stream",
     "text": [
      "0.7420382165605095 % of women survived\n"
     ]
    }
   ],
   "source": [
    "women = train_data.loc[train_data.Sex == 'female']['Survived']\n",
    "rate_women = sum(women)/len(women)\n",
    "\n",
    "print(\"{} % of women survived\".format(rate_women))"
   ]
  },
  {
   "cell_type": "code",
   "execution_count": 11,
   "id": "aad0adbd",
   "metadata": {
    "execution": {
     "iopub.execute_input": "2025-05-19T07:17:37.535098Z",
     "iopub.status.busy": "2025-05-19T07:17:37.534168Z",
     "iopub.status.idle": "2025-05-19T07:17:37.541588Z",
     "shell.execute_reply": "2025-05-19T07:17:37.540353Z"
    },
    "papermill": {
     "duration": 0.015411,
     "end_time": "2025-05-19T07:17:37.543624",
     "exception": false,
     "start_time": "2025-05-19T07:17:37.528213",
     "status": "completed"
    },
    "tags": []
   },
   "outputs": [
    {
     "name": "stdout",
     "output_type": "stream",
     "text": [
      "0.18890814558058924 % of men survived\n"
     ]
    }
   ],
   "source": [
    "men = train_data.loc[train_data.Sex == 'male']['Survived']\n",
    "rate_men = sum(men)/len(men)\n",
    "\n",
    "print(\"{} % of men survived\".format(rate_men))"
   ]
  },
  {
   "cell_type": "code",
   "execution_count": 12,
   "id": "1ec5e80b",
   "metadata": {
    "execution": {
     "iopub.execute_input": "2025-05-19T07:17:37.555460Z",
     "iopub.status.busy": "2025-05-19T07:17:37.555086Z",
     "iopub.status.idle": "2025-05-19T07:17:38.112305Z",
     "shell.execute_reply": "2025-05-19T07:17:38.111492Z"
    },
    "papermill": {
     "duration": 0.565701,
     "end_time": "2025-05-19T07:17:38.114679",
     "exception": false,
     "start_time": "2025-05-19T07:17:37.548978",
     "status": "completed"
    },
    "tags": []
   },
   "outputs": [],
   "source": [
    "from sklearn.ensemble import RandomForestClassifier\n",
    "\n",
    "y = train_data['Survived']\n",
    "\n",
    "features = ['Pclass', 'Sex', 'SibSp', 'Parch']\n",
    "X = pd.get_dummies(train_data[features])\n",
    "X_test = pd.get_dummies(test_data[features])\n",
    "\n",
    "model = RandomForestClassifier(n_estimators=100, max_depth = 5, random_state = 1)\n",
    "model.fit(X, y)\n",
    "predictions = model.predict(X_test)"
   ]
  },
  {
   "cell_type": "markdown",
   "id": "21d49034",
   "metadata": {
    "papermill": {
     "duration": 0.004588,
     "end_time": "2025-05-19T07:17:38.124120",
     "exception": false,
     "start_time": "2025-05-19T07:17:38.119532",
     "status": "completed"
    },
    "tags": []
   },
   "source": [
    "**Target Label인 Survived 확인**   \n",
    "\n",
    "\n",
    "어떤 distribution을 가지고 있는지 확인\n",
    "지금 같은 binary classification 문제의 경우,\n",
    "모델의 평가 방법이 달라질 수 있음"
   ]
  },
  {
   "cell_type": "code",
   "execution_count": 13,
   "id": "a6aa950c",
   "metadata": {
    "execution": {
     "iopub.execute_input": "2025-05-19T07:17:38.135545Z",
     "iopub.status.busy": "2025-05-19T07:17:38.134808Z",
     "iopub.status.idle": "2025-05-19T07:17:38.607110Z",
     "shell.execute_reply": "2025-05-19T07:17:38.605928Z"
    },
    "papermill": {
     "duration": 0.481471,
     "end_time": "2025-05-19T07:17:38.610256",
     "exception": false,
     "start_time": "2025-05-19T07:17:38.128785",
     "status": "completed"
    },
    "tags": []
   },
   "outputs": [
    {
     "data": {
      "text/plain": [
       "<function matplotlib.pyplot.show(close=None, block=None)>"
      ]
     },
     "execution_count": 13,
     "metadata": {},
     "output_type": "execute_result"
    },
    {
     "data": {
      "image/png": "[encoded data removed]",
      "text/plain": [
       "<Figure size 1800x800 with 2 Axes>"
      ]
     },
     "metadata": {},
     "output_type": "display_data"
    }
   ],
   "source": [
    "f, ax = plt.subplots(1, 2, figsize = (18, 8))\n",
    "\n",
    "train_data['Survived'].value_counts().plot.pie(explode = [0, 0.1],\n",
    "                                            autopct = '%1.1f%%', ax=ax[0], shadow=True)\n",
    "ax[0].set_title('Pie plot - Survived')\n",
    "ax[0].set_ylabel('')\n",
    "sns.countplot(x = 'Survived', data = train_data, ax=ax[1])\n",
    "ax[1].set_title('Count plot - Survived')\n",
    "\n",
    "plt.show"
   ]
  },
  {
   "cell_type": "code",
   "execution_count": 14,
   "id": "e1854136",
   "metadata": {
    "execution": {
     "iopub.execute_input": "2025-05-19T07:17:38.626509Z",
     "iopub.status.busy": "2025-05-19T07:17:38.625876Z",
     "iopub.status.idle": "2025-05-19T07:17:38.644864Z",
     "shell.execute_reply": "2025-05-19T07:17:38.643809Z"
    },
    "papermill": {
     "duration": 0.028768,
     "end_time": "2025-05-19T07:17:38.646809",
     "exception": false,
     "start_time": "2025-05-19T07:17:38.618041",
     "status": "completed"
    },
    "tags": []
   },
   "outputs": [
    {
     "data": {
      "text/html": [
       "<div>\n",
       "<style scoped>\n",
       "    .dataframe tbody tr th:only-of-type {\n",
       "        vertical-align: middle;\n",
       "    }\n",
       "\n",
       "    .dataframe tbody tr th {\n",
       "        vertical-align: top;\n",
       "    }\n",
       "\n",
       "    .dataframe thead th {\n",
       "        text-align: right;\n",
       "    }\n",
       "</style>\n",
       "<table border=\"1\" class=\"dataframe\">\n",
       "  <thead>\n",
       "    <tr style=\"text-align: right;\">\n",
       "      <th></th>\n",
       "      <th>Survived</th>\n",
       "    </tr>\n",
       "    <tr>\n",
       "      <th>Pclass</th>\n",
       "      <th></th>\n",
       "    </tr>\n",
       "  </thead>\n",
       "  <tbody>\n",
       "    <tr>\n",
       "      <th>1</th>\n",
       "      <td>0.629630</td>\n",
       "    </tr>\n",
       "    <tr>\n",
       "      <th>2</th>\n",
       "      <td>0.472826</td>\n",
       "    </tr>\n",
       "    <tr>\n",
       "      <th>3</th>\n",
       "      <td>0.242363</td>\n",
       "    </tr>\n",
       "  </tbody>\n",
       "</table>\n",
       "</div>"
      ],
      "text/plain": [
       "        Survived\n",
       "Pclass          \n",
       "1       0.629630\n",
       "2       0.472826\n",
       "3       0.242363"
      ]
     },
     "execution_count": 14,
     "metadata": {},
     "output_type": "execute_result"
    }
   ],
   "source": [
    "train_data[['Pclass', 'Survived']].groupby(['Pclass'], as_index = True).sum() / train_data[['Pclass', 'Survived']].groupby(['Pclass'], as_index = True).count()"
   ]
  },
  {
   "cell_type": "code",
   "execution_count": null,
   "id": "b4f94c89",
   "metadata": {
    "papermill": {
     "duration": 0.005944,
     "end_time": "2025-05-19T07:17:38.659330",
     "exception": false,
     "start_time": "2025-05-19T07:17:38.653386",
     "status": "completed"
    },
    "tags": []
   },
   "outputs": [],
   "source": []
  }
 ],
 "metadata": {
  "kaggle": {
   "accelerator": "none",
   "dataSources": [
    {
     "databundleVersionId": 26502,
     "sourceId": 3136,
     "sourceType": "competition"
    }
   ],
   "dockerImageVersionId": 30786,
   "isGpuEnabled": false,
   "isInternetEnabled": true,
   "language": "python",
   "sourceType": "notebook"
  },
  "kernelspec": {
   "display_name": "Python 3",
   "language": "python",
   "name": "python3"
  },
  "language_info": {
   "codemirror_mode": {
    "name": "ipython",
    "version": 3
   },
   "file_extension": ".py",
   "mimetype": "text/x-python",
   "name": "python",
   "nbconvert_exporter": "python",
   "pygments_lexer": "ipython3",
   "version": "3.10.14"
  },
  "papermill": {
   "default_parameters": {},
   "duration": 21.506607,
   "end_time": "2025-05-19T07:17:40.188864",
   "environment_variables": {},
   "exception": null,
   "input_path": "__notebook__.ipynb",
   "output_path": "__notebook__.ipynb",
   "parameters": {},
   "start_time": "2025-05-19T07:17:18.682257",
   "version": "2.6.0"
  }
 },
 "nbformat": 4,
 "nbformat_minor": 5
}
