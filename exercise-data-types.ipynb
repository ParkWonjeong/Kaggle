{
 "cells": [
  {
   "cell_type": "markdown",
   "id": "14371dac",
   "metadata": {
    "papermill": {
     "duration": 0.006706,
     "end_time": "2024-03-05T08:15:39.078302",
     "exception": false,
     "start_time": "2024-03-05T08:15:39.071596",
     "status": "completed"
    },
    "tags": []
   },
   "source": [
    "**This notebook is an exercise in the [Intro to Programming](https://www.kaggle.com/learn/intro-to-programming) course.  You can reference the tutorial at [this link](https://www.kaggle.com/alexisbcook/data-types).**\n",
    "\n",
    "---\n"
   ]
  },
  {
   "cell_type": "markdown",
   "id": "8dfed435",
   "metadata": {
    "papermill": {
     "duration": 0.00581,
     "end_time": "2024-03-05T08:15:39.090415",
     "exception": false,
     "start_time": "2024-03-05T08:15:39.084605",
     "status": "completed"
    },
    "tags": []
   },
   "source": [
    "In the tutorial, you learned about four different data types: floats, integers, strings, and booleans.  In this exercise, you'll experiment with them.\n",
    "\n",
    "# Set up the notebook\n",
    "\n",
    "Run the next code cell without changes to set up the notebook."
   ]
  },
  {
   "cell_type": "code",
   "execution_count": 1,
   "id": "3890d007",
   "metadata": {
    "execution": {
     "iopub.execute_input": "2024-03-05T08:15:39.104787Z",
     "iopub.status.busy": "2024-03-05T08:15:39.104057Z",
     "iopub.status.idle": "2024-03-05T08:15:40.123548Z",
     "shell.execute_reply": "2024-03-05T08:15:40.122403Z"
    },
    "papermill": {
     "duration": 1.02991,
     "end_time": "2024-03-05T08:15:40.126438",
     "exception": false,
     "start_time": "2024-03-05T08:15:39.096528",
     "status": "completed"
    },
    "tags": []
   },
   "outputs": [
    {
     "name": "stdout",
     "output_type": "stream",
     "text": [
      "Setup complete.\n"
     ]
    }
   ],
   "source": [
    "# Set up the exercise\n",
    "from learntools.core import binder\n",
    "binder.bind(globals())\n",
    "from learntools.intro_to_programming.ex3 import *\n",
    "print('Setup complete.')"
   ]
  },
  {
   "cell_type": "markdown",
   "id": "c2666077",
   "metadata": {
    "papermill": {
     "duration": 0.006212,
     "end_time": "2024-03-05T08:15:40.139478",
     "exception": false,
     "start_time": "2024-03-05T08:15:40.133266",
     "status": "completed"
    },
    "tags": []
   },
   "source": [
    "# Question 1\n",
    "\n",
    "You have seen how to convert a float to an integer with the `int` function.  Try this out yourself by running the code cell below."
   ]
  },
  {
   "cell_type": "code",
   "execution_count": 2,
   "id": "c8242c84",
   "metadata": {
    "execution": {
     "iopub.execute_input": "2024-03-05T08:15:40.154426Z",
     "iopub.status.busy": "2024-03-05T08:15:40.153612Z",
     "iopub.status.idle": "2024-03-05T08:15:40.159417Z",
     "shell.execute_reply": "2024-03-05T08:15:40.158356Z"
    },
    "papermill": {
     "duration": 0.01596,
     "end_time": "2024-03-05T08:15:40.161643",
     "exception": false,
     "start_time": "2024-03-05T08:15:40.145683",
     "status": "completed"
    },
    "tags": []
   },
   "outputs": [
    {
     "name": "stdout",
     "output_type": "stream",
     "text": [
      "1.0\n",
      "<class 'float'>\n",
      "1\n",
      "<class 'int'>\n"
     ]
    }
   ],
   "source": [
    "# Define a float\n",
    "y = 1.\n",
    "print(y)\n",
    "print(type(y))\n",
    "\n",
    "# Convert float to integer with the int function\n",
    "z = int(y)\n",
    "print(z)\n",
    "print(type(z))"
   ]
  },
  {
   "cell_type": "markdown",
   "id": "073aaac8",
   "metadata": {
    "papermill": {
     "duration": 0.005814,
     "end_time": "2024-03-05T08:15:40.173657",
     "exception": false,
     "start_time": "2024-03-05T08:15:40.167843",
     "status": "completed"
    },
    "tags": []
   },
   "source": [
    "In this case, the float you are using has no numbers after the decimal.  \n",
    "- But what happens when you try to convert a float with a fractional part to an integer?  \n",
    "- How does the outcome of the `int` function change for positive and negative numbers?\n",
    "\n",
    "Use the next code cell to investigate and answer these questions.  Feel free to add or remove any lines of code -- it is your workspace!"
   ]
  },
  {
   "cell_type": "code",
   "execution_count": 3,
   "id": "6bb7015e",
   "metadata": {
    "execution": {
     "iopub.execute_input": "2024-03-05T08:15:40.187845Z",
     "iopub.status.busy": "2024-03-05T08:15:40.187466Z",
     "iopub.status.idle": "2024-03-05T08:15:40.193255Z",
     "shell.execute_reply": "2024-03-05T08:15:40.192155Z"
    },
    "papermill": {
     "duration": 0.015672,
     "end_time": "2024-03-05T08:15:40.195698",
     "exception": false,
     "start_time": "2024-03-05T08:15:40.180026",
     "status": "completed"
    },
    "tags": []
   },
   "outputs": [
    {
     "name": "stdout",
     "output_type": "stream",
     "text": [
      "1\n",
      "1\n",
      "-3\n",
      "-2\n"
     ]
    }
   ],
   "source": [
    "# Uncomment and run this code to get started!\n",
    "print(int(1.2321))\n",
    "print(int(1.747))\n",
    "print(int(-3.94535))\n",
    "print(int(-2.19774))"
   ]
  },
  {
   "cell_type": "markdown",
   "id": "4d420241",
   "metadata": {
    "papermill": {
     "duration": 0.006081,
     "end_time": "2024-03-05T08:15:40.208099",
     "exception": false,
     "start_time": "2024-03-05T08:15:40.202018",
     "status": "completed"
    },
    "tags": []
   },
   "source": [
    "Once you have an answer, run the code cell below to see the solution.  Viewing the solution will give you credit for answering the problem."
   ]
  },
  {
   "cell_type": "code",
   "execution_count": 4,
   "id": "4654ee4b",
   "metadata": {
    "execution": {
     "iopub.execute_input": "2024-03-05T08:15:40.222568Z",
     "iopub.status.busy": "2024-03-05T08:15:40.222164Z",
     "iopub.status.idle": "2024-03-05T08:15:40.231414Z",
     "shell.execute_reply": "2024-03-05T08:15:40.230406Z"
    },
    "papermill": {
     "duration": 0.019137,
     "end_time": "2024-03-05T08:15:40.233475",
     "exception": false,
     "start_time": "2024-03-05T08:15:40.214338",
     "status": "completed"
    },
    "tags": []
   },
   "outputs": [
    {
     "data": {
      "application/javascript": [
       "parent.postMessage({\"jupyterEvent\": \"custom.exercise_interaction\", \"data\": {\"outcomeType\": 1, \"valueTowardsCompletion\": 0.2, \"interactionType\": 1, \"questionType\": 4, \"questionId\": \"1_FloatToInt\", \"learnToolsVersion\": \"0.3.4\", \"failureMessage\": \"\", \"exceptionClass\": \"\", \"trace\": \"\"}}, \"*\")"
      ],
      "text/plain": [
       "<IPython.core.display.Javascript object>"
      ]
     },
     "metadata": {},
     "output_type": "display_data"
    },
    {
     "data": {
      "text/markdown": [
       "<span style=\"color:#33cc33\">Correct:</span> \n",
       "\n",
       "Negative floats are always rounded UP to the closest integer (for instance, both -1.1 and -1.9 are rounded up to -1). Positive floats are always rounded DOWN to the closest integer (for instance, 2.1 and 2.9 are rounded down to 2)."
      ],
      "text/plain": [
       "Correct: \n",
       "\n",
       "Negative floats are always rounded UP to the closest integer (for instance, both -1.1 and -1.9 are rounded up to -1). Positive floats are always rounded DOWN to the closest integer (for instance, 2.1 and 2.9 are rounded down to 2)."
      ]
     },
     "metadata": {},
     "output_type": "display_data"
    }
   ],
   "source": [
    "# Check your answer (Run this code cell to receive credit!)\n",
    "q1.check()"
   ]
  },
  {
   "cell_type": "markdown",
   "id": "c207311b",
   "metadata": {
    "papermill": {
     "duration": 0.00624,
     "end_time": "2024-03-05T08:15:40.246342",
     "exception": false,
     "start_time": "2024-03-05T08:15:40.240102",
     "status": "completed"
    },
    "tags": []
   },
   "source": [
    "# Question 2\n",
    "\n",
    "In the tutorial, you learned about booleans (which can take a value of `True` or `False`), in addition to integers, floats, and strings.  For this question, your goal is to determine what happens when you multiply a boolean by any of these data types.  Specifically, \n",
    "- What happens when you multiply an integer or float by `True`?  What happens when you multiply them by `False`?  How does the answer change if the numbers are positive or negative?\n",
    "- What happens when you multiply a string by `True`?  By `False`?\n",
    "\n",
    "Use the next code cell for your investigation. "
   ]
  },
  {
   "cell_type": "code",
   "execution_count": 5,
   "id": "95393ef8",
   "metadata": {
    "execution": {
     "iopub.execute_input": "2024-03-05T08:15:40.262053Z",
     "iopub.status.busy": "2024-03-05T08:15:40.261283Z",
     "iopub.status.idle": "2024-03-05T08:15:40.267205Z",
     "shell.execute_reply": "2024-03-05T08:15:40.266172Z"
    },
    "papermill": {
     "duration": 0.016419,
     "end_time": "2024-03-05T08:15:40.269654",
     "exception": false,
     "start_time": "2024-03-05T08:15:40.253235",
     "status": "completed"
    },
    "tags": []
   },
   "outputs": [
    {
     "name": "stdout",
     "output_type": "stream",
     "text": [
      "3\n",
      "-3.1\n",
      "<class 'str'>\n",
      "0\n"
     ]
    }
   ],
   "source": [
    "# Uncomment and run this code to get started!\n",
    "print(3 * True)\n",
    "print(-3.1 * True)\n",
    "print(type(\"abc\" * False))\n",
    "print(len(\"abc\" * False))"
   ]
  },
  {
   "cell_type": "markdown",
   "id": "c2a4144f",
   "metadata": {
    "papermill": {
     "duration": 0.006723,
     "end_time": "2024-03-05T08:15:40.284287",
     "exception": false,
     "start_time": "2024-03-05T08:15:40.277564",
     "status": "completed"
    },
    "tags": []
   },
   "source": [
    "Once you have an answer, run the code cell below to see the solution.  Viewing the solution will give you credit for answering the problem."
   ]
  },
  {
   "cell_type": "code",
   "execution_count": 6,
   "id": "288bc3f6",
   "metadata": {
    "execution": {
     "iopub.execute_input": "2024-03-05T08:15:40.299744Z",
     "iopub.status.busy": "2024-03-05T08:15:40.299041Z",
     "iopub.status.idle": "2024-03-05T08:15:40.305873Z",
     "shell.execute_reply": "2024-03-05T08:15:40.305165Z"
    },
    "papermill": {
     "duration": 0.016834,
     "end_time": "2024-03-05T08:15:40.307757",
     "exception": false,
     "start_time": "2024-03-05T08:15:40.290923",
     "status": "completed"
    },
    "tags": []
   },
   "outputs": [
    {
     "data": {
      "application/javascript": [
       "parent.postMessage({\"jupyterEvent\": \"custom.exercise_interaction\", \"data\": {\"outcomeType\": 1, \"valueTowardsCompletion\": 0.2, \"interactionType\": 1, \"questionType\": 4, \"questionId\": \"2_MultiplyBooleans\", \"learnToolsVersion\": \"0.3.4\", \"failureMessage\": \"\", \"exceptionClass\": \"\", \"trace\": \"\"}}, \"*\")"
      ],
      "text/plain": [
       "<IPython.core.display.Javascript object>"
      ]
     },
     "metadata": {},
     "output_type": "display_data"
    },
    {
     "data": {
      "text/markdown": [
       "<span style=\"color:#33cc33\">Correct:</span> \n",
       "\n",
       "When you multiple an integer or float by a boolean with value `True`, it just returns that same integer or float (and is equivalent to multiplying by 1).  If you multiply an integer or float by a boolean with value `False`, it always returns 0.  This is true for both positive and negative numbers.  If you multiply a string by a boolean with value `True`, it just returns that same string.  And if you multiply a string by a boolean with value `False`, it returns an empty string (or a string with length zero)."
      ],
      "text/plain": [
       "Correct: \n",
       "\n",
       "When you multiple an integer or float by a boolean with value `True`, it just returns that same integer or float (and is equivalent to multiplying by 1).  If you multiply an integer or float by a boolean with value `False`, it always returns 0.  This is true for both positive and negative numbers.  If you multiply a string by a boolean with value `True`, it just returns that same string.  And if you multiply a string by a boolean with value `False`, it returns an empty string (or a string with length zero)."
      ]
     },
     "metadata": {},
     "output_type": "display_data"
    }
   ],
   "source": [
    "# Check your answer (Run this code cell to receive credit!)\n",
    "q2.check()"
   ]
  },
  {
   "cell_type": "markdown",
   "id": "37a65f5f",
   "metadata": {
    "papermill": {
     "duration": 0.006758,
     "end_time": "2024-03-05T08:15:40.321523",
     "exception": false,
     "start_time": "2024-03-05T08:15:40.314765",
     "status": "completed"
    },
    "tags": []
   },
   "source": [
    "# Question 3\n",
    "\n",
    "In this question, you will build off your work from the previous exercise to write a function that estimates the value of a house.\n",
    "\n",
    "Use the next code cell to create a function `get_expected_cost` that takes as input three variables:\n",
    "- `beds` - number of bedrooms (data type float)\n",
    "- `baths` - number of bathrooms (data type float)\n",
    "- `has_basement` - whether or not the house has a basement (data type boolean)\n",
    "\n",
    "It should return the expected cost of a house with those characteristics. Assume that:\n",
    "- the expected cost for a house with 0 bedrooms and 0 bathrooms, and no basement is 80000, \n",
    "- each bedroom adds 30000 to the expected cost,\n",
    "- each bathroom adds 10000 to the expected cost, and\n",
    "- a basement adds 40000 to the expected cost.\n",
    "\n",
    "For instance,\n",
    "- a house with 1 bedroom, 1 bathroom, and no basement has an expected cost of 80000 + 30000 + 10000 = 120000.  This value will be calculated with `get_expected_cost(1, 1, False)`.\n",
    "- a house with 2 bedrooms, 1 bathroom, and a basement has an expected cost of 80000 + 2*30000 + 10000 + 40000 = 190000.  This value will be calculated with `get_expected_cost(2, 1, True)`.\n",
    "\n",
    "Remember you can always get a hint by uncommenting `q3.hint()` in the code cell following the next!"
   ]
  },
  {
   "cell_type": "code",
   "execution_count": 7,
   "id": "427888b4",
   "metadata": {
    "execution": {
     "iopub.execute_input": "2024-03-05T08:15:40.337383Z",
     "iopub.status.busy": "2024-03-05T08:15:40.336638Z",
     "iopub.status.idle": "2024-03-05T08:15:40.345398Z",
     "shell.execute_reply": "2024-03-05T08:15:40.344401Z"
    },
    "papermill": {
     "duration": 0.019125,
     "end_time": "2024-03-05T08:15:40.347444",
     "exception": false,
     "start_time": "2024-03-05T08:15:40.328319",
     "status": "completed"
    },
    "tags": []
   },
   "outputs": [
    {
     "data": {
      "application/javascript": [
       "parent.postMessage({\"jupyterEvent\": \"custom.exercise_interaction\", \"data\": {\"outcomeType\": 1, \"valueTowardsCompletion\": 0.2, \"interactionType\": 1, \"questionType\": 2, \"questionId\": \"3_EstimateHouseValueBool\", \"learnToolsVersion\": \"0.3.4\", \"failureMessage\": \"\", \"exceptionClass\": \"\", \"trace\": \"\"}}, \"*\")"
      ],
      "text/plain": [
       "<IPython.core.display.Javascript object>"
      ]
     },
     "metadata": {},
     "output_type": "display_data"
    },
    {
     "data": {
      "text/markdown": [
       "<span style=\"color:#33cc33\">Correct</span>"
      ],
      "text/plain": [
       "Correct"
      ]
     },
     "metadata": {},
     "output_type": "display_data"
    }
   ],
   "source": [
    "# TODO: Complete the function\n",
    "def get_expected_cost(beds, baths, has_basement):\n",
    "    value = 80000 + beds * 30000 + baths * 10000 + 40000 * has_basement\n",
    "    return value\n",
    "\n",
    "# Check your answer \n",
    "q3.check()"
   ]
  },
  {
   "cell_type": "code",
   "execution_count": 8,
   "id": "5730cda9",
   "metadata": {
    "execution": {
     "iopub.execute_input": "2024-03-05T08:15:40.363692Z",
     "iopub.status.busy": "2024-03-05T08:15:40.363294Z",
     "iopub.status.idle": "2024-03-05T08:15:40.367325Z",
     "shell.execute_reply": "2024-03-05T08:15:40.366540Z"
    },
    "papermill": {
     "duration": 0.014515,
     "end_time": "2024-03-05T08:15:40.369332",
     "exception": false,
     "start_time": "2024-03-05T08:15:40.354817",
     "status": "completed"
    },
    "tags": []
   },
   "outputs": [],
   "source": [
    "# Uncomment to see a hint\n",
    "#q3.hint()\n",
    "\n",
    "# Uncomment to view the solution\n",
    "#q3.solution()"
   ]
  },
  {
   "cell_type": "markdown",
   "id": "e80388cf",
   "metadata": {
    "papermill": {
     "duration": 0.006921,
     "end_time": "2024-03-05T08:15:40.383652",
     "exception": false,
     "start_time": "2024-03-05T08:15:40.376731",
     "status": "completed"
    },
    "tags": []
   },
   "source": [
    "# Question 4\n",
    "\n",
    "We'll continue our study of boolean arithmetic.  For this question, your task is to provide a description of what happpens when you add booleans. \n",
    "\n",
    "Use the next code cell for your investigation.  Feel free to add or remove any lines of code - use it as your workspace!"
   ]
  },
  {
   "cell_type": "code",
   "execution_count": 9,
   "id": "b9362c16",
   "metadata": {
    "execution": {
     "iopub.execute_input": "2024-03-05T08:15:40.400436Z",
     "iopub.status.busy": "2024-03-05T08:15:40.399756Z",
     "iopub.status.idle": "2024-03-05T08:15:40.405671Z",
     "shell.execute_reply": "2024-03-05T08:15:40.404530Z"
    },
    "papermill": {
     "duration": 0.016749,
     "end_time": "2024-03-05T08:15:40.407678",
     "exception": false,
     "start_time": "2024-03-05T08:15:40.390929",
     "status": "completed"
    },
    "tags": []
   },
   "outputs": [
    {
     "name": "stdout",
     "output_type": "stream",
     "text": [
      "0\n",
      "1\n",
      "1\n",
      "2\n",
      "3\n"
     ]
    }
   ],
   "source": [
    "print(False + False)\n",
    "print(True + False)\n",
    "print(False + True)\n",
    "print(True + True)\n",
    "print(False + True + True + True)"
   ]
  },
  {
   "cell_type": "markdown",
   "id": "cd9ce8b5",
   "metadata": {
    "papermill": {
     "duration": 0.006911,
     "end_time": "2024-03-05T08:15:40.422002",
     "exception": false,
     "start_time": "2024-03-05T08:15:40.415091",
     "status": "completed"
    },
    "tags": []
   },
   "source": [
    "Once you have an answer, run the code cell below to see the solution.  Viewing the solution will give you credit for answering the problem."
   ]
  },
  {
   "cell_type": "markdown",
   "id": "873115a7",
   "metadata": {
    "execution": {
     "iopub.execute_input": "2024-03-05T08:12:47.279871Z",
     "iopub.status.busy": "2024-03-05T08:12:47.279373Z",
     "iopub.status.idle": "2024-03-05T08:12:47.291547Z",
     "shell.execute_reply": "2024-03-05T08:12:47.289808Z",
     "shell.execute_reply.started": "2024-03-05T08:12:47.279829Z"
    },
    "papermill": {
     "duration": 0.007088,
     "end_time": "2024-03-05T08:15:40.436451",
     "exception": false,
     "start_time": "2024-03-05T08:15:40.429363",
     "status": "completed"
    },
    "tags": []
   },
   "source": [
    "##### Check your answer (Run this code cell to receive credit!)\n",
    "q4.check()"
   ]
  },
  {
   "cell_type": "markdown",
   "id": "16420942",
   "metadata": {
    "papermill": {
     "duration": 0.008537,
     "end_time": "2024-03-05T08:15:40.452220",
     "exception": false,
     "start_time": "2024-03-05T08:15:40.443683",
     "status": "completed"
    },
    "tags": []
   },
   "source": [
    "# 🌶️ Question 5\n",
    "\n",
    "You own an online shop where you sell rings with custom engravings.  You offer both gold plated and solid gold rings.\n",
    "- Gold plated rings have a base cost of \\\\$50, and you charge \\\\$7 per engraved unit.  \n",
    "- Solid gold rings have a base cost of \\\\$100, and you charge \\\\$10 per engraved unit.\n",
    "- Spaces and punctuation are counted as engraved units.\n",
    "\n",
    "Write a function `cost_of_project()` that takes two arguments:\n",
    "- `engraving` - a Python string with the text of the engraving\n",
    "- `solid_gold` - a Boolean that indicates whether the ring is solid gold\n",
    "\n",
    "It should return the cost of the project.  This question should be fairly challenging, and you may need a hint."
   ]
  },
  {
   "cell_type": "code",
   "execution_count": 10,
   "id": "4184bc25",
   "metadata": {
    "execution": {
     "iopub.execute_input": "2024-03-05T08:15:40.471754Z",
     "iopub.status.busy": "2024-03-05T08:15:40.471303Z",
     "iopub.status.idle": "2024-03-05T08:15:40.479996Z",
     "shell.execute_reply": "2024-03-05T08:15:40.478838Z"
    },
    "papermill": {
     "duration": 0.019575,
     "end_time": "2024-03-05T08:15:40.482123",
     "exception": false,
     "start_time": "2024-03-05T08:15:40.462548",
     "status": "completed"
    },
    "tags": []
   },
   "outputs": [
    {
     "data": {
      "application/javascript": [
       "parent.postMessage({\"jupyterEvent\": \"custom.exercise_interaction\", \"data\": {\"outcomeType\": 1, \"valueTowardsCompletion\": 0.2, \"interactionType\": 1, \"questionType\": 2, \"questionId\": \"5_CustomEngravings\", \"learnToolsVersion\": \"0.3.4\", \"failureMessage\": \"\", \"exceptionClass\": \"\", \"trace\": \"\"}}, \"*\")"
      ],
      "text/plain": [
       "<IPython.core.display.Javascript object>"
      ]
     },
     "metadata": {},
     "output_type": "display_data"
    },
    {
     "data": {
      "text/markdown": [
       "<span style=\"color:#33cc33\">Correct</span>"
      ],
      "text/plain": [
       "Correct"
      ]
     },
     "metadata": {},
     "output_type": "display_data"
    }
   ],
   "source": [
    "def cost_of_project(engraving, solid_gold):\n",
    "    cost = 50 * (1 + solid_gold) + (7 + 3 * solid_gold) * len(engraving)\n",
    "    return cost\n",
    "\n",
    "# Check your answer\n",
    "q5.check()"
   ]
  },
  {
   "cell_type": "code",
   "execution_count": 11,
   "id": "4dcb2a17",
   "metadata": {
    "execution": {
     "iopub.execute_input": "2024-03-05T08:15:40.499814Z",
     "iopub.status.busy": "2024-03-05T08:15:40.498660Z",
     "iopub.status.idle": "2024-03-05T08:15:40.503001Z",
     "shell.execute_reply": "2024-03-05T08:15:40.502255Z"
    },
    "papermill": {
     "duration": 0.015249,
     "end_time": "2024-03-05T08:15:40.505001",
     "exception": false,
     "start_time": "2024-03-05T08:15:40.489752",
     "status": "completed"
    },
    "tags": []
   },
   "outputs": [],
   "source": [
    "# Uncomment to see a hint\n",
    "#q5.hint()\n",
    "\n",
    "# Uncomment to view the solution\n",
    "#q5.solution()"
   ]
  },
  {
   "cell_type": "markdown",
   "id": "34e8d4fd",
   "metadata": {
    "papermill": {
     "duration": 0.007207,
     "end_time": "2024-03-05T08:15:40.519801",
     "exception": false,
     "start_time": "2024-03-05T08:15:40.512594",
     "status": "completed"
    },
    "tags": []
   },
   "source": [
    "Run the next code cell to calculate the cost of engraving `Charlie+Denver` on a solid gold ring."
   ]
  },
  {
   "cell_type": "code",
   "execution_count": 12,
   "id": "96bc1631",
   "metadata": {
    "execution": {
     "iopub.execute_input": "2024-03-05T08:15:40.538181Z",
     "iopub.status.busy": "2024-03-05T08:15:40.536853Z",
     "iopub.status.idle": "2024-03-05T08:15:40.543070Z",
     "shell.execute_reply": "2024-03-05T08:15:40.541805Z"
    },
    "papermill": {
     "duration": 0.017991,
     "end_time": "2024-03-05T08:15:40.545427",
     "exception": false,
     "start_time": "2024-03-05T08:15:40.527436",
     "status": "completed"
    },
    "tags": []
   },
   "outputs": [
    {
     "name": "stdout",
     "output_type": "stream",
     "text": [
      "240\n"
     ]
    }
   ],
   "source": [
    "project_one = cost_of_project(\"Charlie+Denver\", True)\n",
    "print(project_one)"
   ]
  },
  {
   "cell_type": "markdown",
   "id": "22512ecd",
   "metadata": {
    "papermill": {
     "duration": 0.007439,
     "end_time": "2024-03-05T08:15:40.560731",
     "exception": false,
     "start_time": "2024-03-05T08:15:40.553292",
     "status": "completed"
    },
    "tags": []
   },
   "source": [
    "Use the next code cell to calculate the cost of engraving `08/10/2000` on a gold plated ring."
   ]
  },
  {
   "cell_type": "code",
   "execution_count": 13,
   "id": "99cf530b",
   "metadata": {
    "execution": {
     "iopub.execute_input": "2024-03-05T08:15:40.577992Z",
     "iopub.status.busy": "2024-03-05T08:15:40.577292Z",
     "iopub.status.idle": "2024-03-05T08:15:40.583021Z",
     "shell.execute_reply": "2024-03-05T08:15:40.581954Z"
    },
    "papermill": {
     "duration": 0.016874,
     "end_time": "2024-03-05T08:15:40.585193",
     "exception": false,
     "start_time": "2024-03-05T08:15:40.568319",
     "status": "completed"
    },
    "tags": []
   },
   "outputs": [
    {
     "name": "stdout",
     "output_type": "stream",
     "text": [
      "120\n"
     ]
    }
   ],
   "source": [
    "project_two = cost_of_project(\"08/10/2000\", False)\n",
    "print(project_two)"
   ]
  },
  {
   "cell_type": "markdown",
   "id": "4f3c746b",
   "metadata": {
    "papermill": {
     "duration": 0.007236,
     "end_time": "2024-03-05T08:15:40.600228",
     "exception": false,
     "start_time": "2024-03-05T08:15:40.592992",
     "status": "completed"
    },
    "tags": []
   },
   "source": [
    "# Keep going\n",
    "\n",
    "Continue to the next lesson to **[learn about conditions and conditional statements](https://www.kaggle.com/alexisbcook/conditions-and-conditional-statements)**."
   ]
  },
  {
   "cell_type": "markdown",
   "id": "077673d2",
   "metadata": {
    "papermill": {
     "duration": 0.007825,
     "end_time": "2024-03-05T08:15:40.615859",
     "exception": false,
     "start_time": "2024-03-05T08:15:40.608034",
     "status": "completed"
    },
    "tags": []
   },
   "source": [
    "---\n",
    "\n",
    "\n",
    "\n",
    "\n",
    "*Have questions or comments? Visit the [course discussion forum](https://www.kaggle.com/learn/intro-to-programming/discussion) to chat with other learners.*"
   ]
  }
 ],
 "metadata": {
  "kaggle": {
   "accelerator": "none",
   "dataSources": [],
   "isGpuEnabled": false,
   "isInternetEnabled": false,
   "language": "python",
   "sourceType": "notebook"
  },
  "kernelspec": {
   "display_name": "Python 3",
   "language": "python",
   "name": "python3"
  },
  "language_info": {
   "codemirror_mode": {
    "name": "ipython",
    "version": 3
   },
   "file_extension": ".py",
   "mimetype": "text/x-python",
   "name": "python",
   "nbconvert_exporter": "python",
   "pygments_lexer": "ipython3",
   "version": "3.10.13"
  },
  "papermill": {
   "default_parameters": {},
   "duration": 5.111771,
   "end_time": "2024-03-05T08:15:41.245859",
   "environment_variables": {},
   "exception": null,
   "input_path": "__notebook__.ipynb",
   "output_path": "__notebook__.ipynb",
   "parameters": {},
   "start_time": "2024-03-05T08:15:36.134088",
   "version": "2.3.3"
  }
 },
 "nbformat": 4,
 "nbformat_minor": 5
}
