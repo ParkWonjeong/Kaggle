{
 "cells": [
  {
   "cell_type": "markdown",
   "id": "bd456e43",
   "metadata": {
    "papermill": {
     "duration": 0.007882,
     "end_time": "2024-04-08T13:38:17.719252",
     "exception": false,
     "start_time": "2024-04-08T13:38:17.711370",
     "status": "completed"
    },
    "tags": []
   },
   "source": [
    "**This notebook is an exercise in the [Introduction to Machine Learning](https://www.kaggle.com/learn/intro-to-machine-learning) course.  You can reference the tutorial at [this link](https://www.kaggle.com/dansbecker/your-first-machine-learning-model).**\n",
    "\n",
    "---\n"
   ]
  },
  {
   "cell_type": "markdown",
   "id": "69a2f9d9",
   "metadata": {
    "papermill": {
     "duration": 0.0069,
     "end_time": "2024-04-08T13:38:17.735203",
     "exception": false,
     "start_time": "2024-04-08T13:38:17.728303",
     "status": "completed"
    },
    "tags": []
   },
   "source": [
    "## Recap\n",
    "So far, you have loaded your data and reviewed it with the following code. Run this cell to set up your coding environment where the previous step left off."
   ]
  },
  {
   "cell_type": "code",
   "execution_count": 1,
   "id": "75980b91",
   "metadata": {
    "execution": {
     "iopub.execute_input": "2024-04-08T13:38:17.752754Z",
     "iopub.status.busy": "2024-04-08T13:38:17.751956Z",
     "iopub.status.idle": "2024-04-08T13:38:20.458972Z",
     "shell.execute_reply": "2024-04-08T13:38:20.457344Z"
    },
    "papermill": {
     "duration": 2.718946,
     "end_time": "2024-04-08T13:38:20.461985",
     "exception": false,
     "start_time": "2024-04-08T13:38:17.743039",
     "status": "completed"
    },
    "tags": []
   },
   "outputs": [
    {
     "name": "stdout",
     "output_type": "stream",
     "text": [
      "Setup Complete\n"
     ]
    }
   ],
   "source": [
    "# Code you have previously used to load data\n",
    "import pandas as pd\n",
    "\n",
    "# Path of the file to read\n",
    "iowa_file_path = '../input/home-data-for-ml-course/train.csv'\n",
    "\n",
    "home_data = pd.read_csv(iowa_file_path)\n",
    "\n",
    "# Set up code checking\n",
    "from learntools.core import binder\n",
    "binder.bind(globals())\n",
    "from learntools.machine_learning.ex3 import *\n",
    "\n",
    "print(\"Setup Complete\")"
   ]
  },
  {
   "cell_type": "markdown",
   "id": "9d1eae7e",
   "metadata": {
    "papermill": {
     "duration": 0.006928,
     "end_time": "2024-04-08T13:38:20.476735",
     "exception": false,
     "start_time": "2024-04-08T13:38:20.469807",
     "status": "completed"
    },
    "tags": []
   },
   "source": [
    "# Exercises\n",
    "\n",
    "## Step 1: Specify Prediction Target\n",
    "Select the target variable, which corresponds to the sales price. Save this to a new variable called `y`. You'll need to print a list of the columns to find the name of the column you need.\n"
   ]
  },
  {
   "cell_type": "code",
   "execution_count": 2,
   "id": "2cd9cbc8",
   "metadata": {
    "execution": {
     "iopub.execute_input": "2024-04-08T13:38:20.492889Z",
     "iopub.status.busy": "2024-04-08T13:38:20.492517Z",
     "iopub.status.idle": "2024-04-08T13:38:20.501516Z",
     "shell.execute_reply": "2024-04-08T13:38:20.500512Z"
    },
    "papermill": {
     "duration": 0.019911,
     "end_time": "2024-04-08T13:38:20.503734",
     "exception": false,
     "start_time": "2024-04-08T13:38:20.483823",
     "status": "completed"
    },
    "tags": []
   },
   "outputs": [
    {
     "data": {
      "text/plain": [
       "Index(['Id', 'MSSubClass', 'MSZoning', 'LotFrontage', 'LotArea', 'Street',\n",
       "       'Alley', 'LotShape', 'LandContour', 'Utilities', 'LotConfig',\n",
       "       'LandSlope', 'Neighborhood', 'Condition1', 'Condition2', 'BldgType',\n",
       "       'HouseStyle', 'OverallQual', 'OverallCond', 'YearBuilt', 'YearRemodAdd',\n",
       "       'RoofStyle', 'RoofMatl', 'Exterior1st', 'Exterior2nd', 'MasVnrType',\n",
       "       'MasVnrArea', 'ExterQual', 'ExterCond', 'Foundation', 'BsmtQual',\n",
       "       'BsmtCond', 'BsmtExposure', 'BsmtFinType1', 'BsmtFinSF1',\n",
       "       'BsmtFinType2', 'BsmtFinSF2', 'BsmtUnfSF', 'TotalBsmtSF', 'Heating',\n",
       "       'HeatingQC', 'CentralAir', 'Electrical', '1stFlrSF', '2ndFlrSF',\n",
       "       'LowQualFinSF', 'GrLivArea', 'BsmtFullBath', 'BsmtHalfBath', 'FullBath',\n",
       "       'HalfBath', 'BedroomAbvGr', 'KitchenAbvGr', 'KitchenQual',\n",
       "       'TotRmsAbvGrd', 'Functional', 'Fireplaces', 'FireplaceQu', 'GarageType',\n",
       "       'GarageYrBlt', 'GarageFinish', 'GarageCars', 'GarageArea', 'GarageQual',\n",
       "       'GarageCond', 'PavedDrive', 'WoodDeckSF', 'OpenPorchSF',\n",
       "       'EnclosedPorch', '3SsnPorch', 'ScreenPorch', 'PoolArea', 'PoolQC',\n",
       "       'Fence', 'MiscFeature', 'MiscVal', 'MoSold', 'YrSold', 'SaleType',\n",
       "       'SaleCondition', 'SalePrice'],\n",
       "      dtype='object')"
      ]
     },
     "execution_count": 2,
     "metadata": {},
     "output_type": "execute_result"
    }
   ],
   "source": [
    "# print the list of columns in the dataset to find the name of the prediction target\n",
    "home_data.columns"
   ]
  },
  {
   "cell_type": "code",
   "execution_count": 3,
   "id": "cf6e6501",
   "metadata": {
    "execution": {
     "iopub.execute_input": "2024-04-08T13:38:20.521020Z",
     "iopub.status.busy": "2024-04-08T13:38:20.519836Z",
     "iopub.status.idle": "2024-04-08T13:38:20.535347Z",
     "shell.execute_reply": "2024-04-08T13:38:20.534030Z"
    },
    "papermill": {
     "duration": 0.026812,
     "end_time": "2024-04-08T13:38:20.537870",
     "exception": false,
     "start_time": "2024-04-08T13:38:20.511058",
     "status": "completed"
    },
    "tags": []
   },
   "outputs": [
    {
     "data": {
      "application/javascript": [
       "parent.postMessage({\"jupyterEvent\": \"custom.exercise_interaction\", \"data\": {\"outcomeType\": 1, \"valueTowardsCompletion\": 0.25, \"interactionType\": 1, \"questionType\": 2, \"questionId\": \"1_SetTarget\", \"learnToolsVersion\": \"0.3.4\", \"failureMessage\": \"\", \"exceptionClass\": \"\", \"trace\": \"\"}}, \"*\")"
      ],
      "text/plain": [
       "<IPython.core.display.Javascript object>"
      ]
     },
     "metadata": {},
     "output_type": "display_data"
    },
    {
     "data": {
      "text/markdown": [
       "<span style=\"color:#33cc33\">Correct</span>"
      ],
      "text/plain": [
       "Correct"
      ]
     },
     "metadata": {},
     "output_type": "display_data"
    }
   ],
   "source": [
    "y = home_data['SalePrice']\n",
    "\n",
    "# Check your answer\n",
    "step_1.check()"
   ]
  },
  {
   "cell_type": "code",
   "execution_count": 4,
   "id": "629986d5",
   "metadata": {
    "collapsed": true,
    "execution": {
     "iopub.execute_input": "2024-04-08T13:38:20.555797Z",
     "iopub.status.busy": "2024-04-08T13:38:20.554920Z",
     "iopub.status.idle": "2024-04-08T13:38:20.560922Z",
     "shell.execute_reply": "2024-04-08T13:38:20.559484Z"
    },
    "jupyter": {
     "outputs_hidden": true
    },
    "papermill": {
     "duration": 0.017887,
     "end_time": "2024-04-08T13:38:20.563414",
     "exception": false,
     "start_time": "2024-04-08T13:38:20.545527",
     "status": "completed"
    },
    "tags": []
   },
   "outputs": [],
   "source": [
    "# The lines below will show you a hint or the solution.\n",
    "# step_1.hint() \n",
    "# step_1.solution()"
   ]
  },
  {
   "cell_type": "markdown",
   "id": "4e10ce59",
   "metadata": {
    "papermill": {
     "duration": 0.007328,
     "end_time": "2024-04-08T13:38:20.578477",
     "exception": false,
     "start_time": "2024-04-08T13:38:20.571149",
     "status": "completed"
    },
    "tags": []
   },
   "source": [
    "## Step 2: Create X\n",
    "Now you will create a DataFrame called `X` holding the predictive features.\n",
    "\n",
    "Since you want only some columns from the original data, you'll first create a list with the names of the columns you want in `X`.\n",
    "\n",
    "You'll use just the following columns in the list (you can copy and paste the whole list to save some typing, though you'll still need to add quotes):\n",
    "  * LotArea\n",
    "  * YearBuilt\n",
    "  * 1stFlrSF\n",
    "  * 2ndFlrSF\n",
    "  * FullBath\n",
    "  * BedroomAbvGr\n",
    "  * TotRmsAbvGrd\n",
    "\n",
    "After you've created that list of features, use it to create the DataFrame that you'll use to fit the model."
   ]
  },
  {
   "cell_type": "code",
   "execution_count": 5,
   "id": "c6368fae",
   "metadata": {
    "execution": {
     "iopub.execute_input": "2024-04-08T13:38:20.595875Z",
     "iopub.status.busy": "2024-04-08T13:38:20.595397Z",
     "iopub.status.idle": "2024-04-08T13:38:20.610144Z",
     "shell.execute_reply": "2024-04-08T13:38:20.608640Z"
    },
    "papermill": {
     "duration": 0.026489,
     "end_time": "2024-04-08T13:38:20.612668",
     "exception": false,
     "start_time": "2024-04-08T13:38:20.586179",
     "status": "completed"
    },
    "tags": []
   },
   "outputs": [
    {
     "data": {
      "application/javascript": [
       "parent.postMessage({\"jupyterEvent\": \"custom.exercise_interaction\", \"data\": {\"outcomeType\": 1, \"valueTowardsCompletion\": 0.25, \"interactionType\": 1, \"questionType\": 2, \"questionId\": \"2_SelectPredictionData\", \"learnToolsVersion\": \"0.3.4\", \"failureMessage\": \"\", \"exceptionClass\": \"\", \"trace\": \"\"}}, \"*\")"
      ],
      "text/plain": [
       "<IPython.core.display.Javascript object>"
      ]
     },
     "metadata": {},
     "output_type": "display_data"
    },
    {
     "data": {
      "text/markdown": [
       "<span style=\"color:#33cc33\">Correct</span>"
      ],
      "text/plain": [
       "Correct"
      ]
     },
     "metadata": {},
     "output_type": "display_data"
    }
   ],
   "source": [
    "# Create the list of features below\n",
    "feature_names = [\"LotArea\", \"YearBuilt\", \"1stFlrSF\", \"2ndFlrSF\", \"FullBath\", \"BedroomAbvGr\", \"TotRmsAbvGrd\"]\n",
    "\n",
    "# Select data corresponding to features in feature_names\n",
    "X = home_data[feature_names]\n",
    "\n",
    "# Check your answer\n",
    "step_2.check()"
   ]
  },
  {
   "cell_type": "code",
   "execution_count": 6,
   "id": "187709f9",
   "metadata": {
    "collapsed": true,
    "execution": {
     "iopub.execute_input": "2024-04-08T13:38:20.631021Z",
     "iopub.status.busy": "2024-04-08T13:38:20.630395Z",
     "iopub.status.idle": "2024-04-08T13:38:20.635416Z",
     "shell.execute_reply": "2024-04-08T13:38:20.634170Z"
    },
    "jupyter": {
     "outputs_hidden": true
    },
    "papermill": {
     "duration": 0.017466,
     "end_time": "2024-04-08T13:38:20.638026",
     "exception": false,
     "start_time": "2024-04-08T13:38:20.620560",
     "status": "completed"
    },
    "tags": []
   },
   "outputs": [],
   "source": [
    "# step_2.hint()\n",
    "# step_2.solution()"
   ]
  },
  {
   "cell_type": "markdown",
   "id": "902363ad",
   "metadata": {
    "papermill": {
     "duration": 0.007893,
     "end_time": "2024-04-08T13:38:20.654224",
     "exception": false,
     "start_time": "2024-04-08T13:38:20.646331",
     "status": "completed"
    },
    "tags": []
   },
   "source": [
    "## Review Data\n",
    "Before building a model, take a quick look at **X** to verify it looks sensible"
   ]
  },
  {
   "cell_type": "code",
   "execution_count": 7,
   "id": "07d44ca6",
   "metadata": {
    "execution": {
     "iopub.execute_input": "2024-04-08T13:38:20.673760Z",
     "iopub.status.busy": "2024-04-08T13:38:20.673388Z",
     "iopub.status.idle": "2024-04-08T13:38:20.792873Z",
     "shell.execute_reply": "2024-04-08T13:38:20.791325Z"
    },
    "papermill": {
     "duration": 0.133176,
     "end_time": "2024-04-08T13:38:20.795763",
     "exception": false,
     "start_time": "2024-04-08T13:38:20.662587",
     "status": "completed"
    },
    "tags": []
   },
   "outputs": [
    {
     "name": "stdout",
     "output_type": "stream",
     "text": [
      "             LotArea    YearBuilt     1stFlrSF     2ndFlrSF     FullBath  \\\n",
      "count    1460.000000  1460.000000  1460.000000  1460.000000  1460.000000   \n",
      "mean    10516.828082  1971.267808  1162.626712   346.992466     1.565068   \n",
      "std      9981.264932    30.202904   386.587738   436.528436     0.550916   \n",
      "min      1300.000000  1872.000000   334.000000     0.000000     0.000000   \n",
      "25%      7553.500000  1954.000000   882.000000     0.000000     1.000000   \n",
      "50%      9478.500000  1973.000000  1087.000000     0.000000     2.000000   \n",
      "75%     11601.500000  2000.000000  1391.250000   728.000000     2.000000   \n",
      "max    215245.000000  2010.000000  4692.000000  2065.000000     3.000000   \n",
      "\n",
      "       BedroomAbvGr  TotRmsAbvGrd  \n",
      "count   1460.000000   1460.000000  \n",
      "mean       2.866438      6.517808  \n",
      "std        0.815778      1.625393  \n",
      "min        0.000000      2.000000  \n",
      "25%        2.000000      5.000000  \n",
      "50%        3.000000      6.000000  \n",
      "75%        3.000000      7.000000  \n",
      "max        8.000000     14.000000  \n",
      "   LotArea  YearBuilt  1stFlrSF  2ndFlrSF  FullBath  BedroomAbvGr  \\\n",
      "0     8450       2003       856       854         2             3   \n",
      "1     9600       1976      1262         0         2             3   \n",
      "2    11250       2001       920       866         2             3   \n",
      "3     9550       1915       961       756         1             3   \n",
      "4    14260       2000      1145      1053         2             4   \n",
      "\n",
      "   TotRmsAbvGrd  \n",
      "0             8  \n",
      "1             6  \n",
      "2             6  \n",
      "3             7  \n",
      "4             9  \n"
     ]
    }
   ],
   "source": [
    "# Review data\n",
    "# print description or statistics from X\n",
    "print(X.describe())\n",
    "\n",
    "# print the top few lines\n",
    "print(X.head())"
   ]
  },
  {
   "cell_type": "markdown",
   "id": "618f14f8",
   "metadata": {
    "papermill": {
     "duration": 0.008256,
     "end_time": "2024-04-08T13:38:20.812683",
     "exception": false,
     "start_time": "2024-04-08T13:38:20.804427",
     "status": "completed"
    },
    "tags": []
   },
   "source": [
    "## Step 3: Specify and Fit Model\n",
    "Create a `DecisionTreeRegressor` and save it iowa_model. Ensure you've done the relevant import from sklearn to run this command.\n",
    "\n",
    "Then fit the model you just created using the data in `X` and `y` that you saved above."
   ]
  },
  {
   "cell_type": "code",
   "execution_count": 8,
   "id": "7faf361b",
   "metadata": {
    "execution": {
     "iopub.execute_input": "2024-04-08T13:38:20.831798Z",
     "iopub.status.busy": "2024-04-08T13:38:20.831285Z",
     "iopub.status.idle": "2024-04-08T13:38:20.854612Z",
     "shell.execute_reply": "2024-04-08T13:38:20.853091Z"
    },
    "papermill": {
     "duration": 0.0361,
     "end_time": "2024-04-08T13:38:20.857343",
     "exception": false,
     "start_time": "2024-04-08T13:38:20.821243",
     "status": "completed"
    },
    "tags": []
   },
   "outputs": [
    {
     "data": {
      "application/javascript": [
       "parent.postMessage({\"jupyterEvent\": \"custom.exercise_interaction\", \"data\": {\"outcomeType\": 1, \"valueTowardsCompletion\": 0.25, \"interactionType\": 1, \"questionType\": 2, \"questionId\": \"3_CreateModel\", \"learnToolsVersion\": \"0.3.4\", \"failureMessage\": \"\", \"exceptionClass\": \"\", \"trace\": \"\"}}, \"*\")"
      ],
      "text/plain": [
       "<IPython.core.display.Javascript object>"
      ]
     },
     "metadata": {},
     "output_type": "display_data"
    },
    {
     "data": {
      "text/markdown": [
       "<span style=\"color:#33cc33\">Correct</span>"
      ],
      "text/plain": [
       "Correct"
      ]
     },
     "metadata": {},
     "output_type": "display_data"
    }
   ],
   "source": [
    "from sklearn.tree import DecisionTreeRegressor\n",
    "#specify the model. \n",
    "#For model reproducibility, set a numeric value for random_state when specifying the model\n",
    "iowa_model = DecisionTreeRegressor(random_state = 1)\n",
    "\n",
    "# Fit the model\n",
    "iowa_model.fit(X, y)\n",
    "\n",
    "# Check your answer\n",
    "step_3.check()"
   ]
  },
  {
   "cell_type": "code",
   "execution_count": 9,
   "id": "487656e6",
   "metadata": {
    "collapsed": true,
    "execution": {
     "iopub.execute_input": "2024-04-08T13:38:20.877211Z",
     "iopub.status.busy": "2024-04-08T13:38:20.876801Z",
     "iopub.status.idle": "2024-04-08T13:38:20.881736Z",
     "shell.execute_reply": "2024-04-08T13:38:20.880509Z"
    },
    "jupyter": {
     "outputs_hidden": true
    },
    "papermill": {
     "duration": 0.01744,
     "end_time": "2024-04-08T13:38:20.883956",
     "exception": false,
     "start_time": "2024-04-08T13:38:20.866516",
     "status": "completed"
    },
    "tags": []
   },
   "outputs": [],
   "source": [
    "# step_3.hint()\n",
    "# step_3.solution()"
   ]
  },
  {
   "cell_type": "markdown",
   "id": "979fbdfe",
   "metadata": {
    "papermill": {
     "duration": 0.008297,
     "end_time": "2024-04-08T13:38:20.900795",
     "exception": false,
     "start_time": "2024-04-08T13:38:20.892498",
     "status": "completed"
    },
    "tags": []
   },
   "source": [
    "## Step 4: Make Predictions\n",
    "Make predictions with the model's `predict` command using `X` as the data. Save the results to a variable called `predictions`."
   ]
  },
  {
   "cell_type": "code",
   "execution_count": 10,
   "id": "229da105",
   "metadata": {
    "execution": {
     "iopub.execute_input": "2024-04-08T13:38:20.920783Z",
     "iopub.status.busy": "2024-04-08T13:38:20.919653Z",
     "iopub.status.idle": "2024-04-08T13:38:20.936232Z",
     "shell.execute_reply": "2024-04-08T13:38:20.934877Z"
    },
    "papermill": {
     "duration": 0.029304,
     "end_time": "2024-04-08T13:38:20.938663",
     "exception": false,
     "start_time": "2024-04-08T13:38:20.909359",
     "status": "completed"
    },
    "tags": []
   },
   "outputs": [
    {
     "name": "stdout",
     "output_type": "stream",
     "text": [
      "[208500. 181500. 223500. ... 266500. 142125. 147500.]\n"
     ]
    },
    {
     "data": {
      "application/javascript": [
       "parent.postMessage({\"jupyterEvent\": \"custom.exercise_interaction\", \"data\": {\"outcomeType\": 1, \"valueTowardsCompletion\": 0.25, \"interactionType\": 1, \"questionType\": 2, \"questionId\": \"4_MakePredictions\", \"learnToolsVersion\": \"0.3.4\", \"failureMessage\": \"\", \"exceptionClass\": \"\", \"trace\": \"\"}}, \"*\")"
      ],
      "text/plain": [
       "<IPython.core.display.Javascript object>"
      ]
     },
     "metadata": {},
     "output_type": "display_data"
    },
    {
     "data": {
      "text/markdown": [
       "<span style=\"color:#33cc33\">Correct</span>"
      ],
      "text/plain": [
       "Correct"
      ]
     },
     "metadata": {},
     "output_type": "display_data"
    }
   ],
   "source": [
    "predictions = iowa_model.predict(X)\n",
    "print(predictions)\n",
    "\n",
    "# Check your answer\n",
    "step_4.check()"
   ]
  },
  {
   "cell_type": "code",
   "execution_count": 11,
   "id": "aa3bcec9",
   "metadata": {
    "collapsed": true,
    "execution": {
     "iopub.execute_input": "2024-04-08T13:38:20.959248Z",
     "iopub.status.busy": "2024-04-08T13:38:20.958768Z",
     "iopub.status.idle": "2024-04-08T13:38:20.964623Z",
     "shell.execute_reply": "2024-04-08T13:38:20.963214Z"
    },
    "jupyter": {
     "outputs_hidden": true
    },
    "papermill": {
     "duration": 0.019559,
     "end_time": "2024-04-08T13:38:20.967249",
     "exception": false,
     "start_time": "2024-04-08T13:38:20.947690",
     "status": "completed"
    },
    "tags": []
   },
   "outputs": [],
   "source": [
    "# step_4.hint()\n",
    "# step_4.solution()"
   ]
  },
  {
   "cell_type": "markdown",
   "id": "7ac4c102",
   "metadata": {
    "papermill": {
     "duration": 0.00918,
     "end_time": "2024-04-08T13:38:20.985608",
     "exception": false,
     "start_time": "2024-04-08T13:38:20.976428",
     "status": "completed"
    },
    "tags": []
   },
   "source": [
    "## Think About Your Results\n",
    "\n",
    "Use the `head` method to compare the top few predictions to the actual home values (in `y`) for those same homes. Anything surprising?\n"
   ]
  },
  {
   "cell_type": "code",
   "execution_count": 12,
   "id": "cd898c92",
   "metadata": {
    "execution": {
     "iopub.execute_input": "2024-04-08T13:38:21.006888Z",
     "iopub.status.busy": "2024-04-08T13:38:21.006444Z",
     "iopub.status.idle": "2024-04-08T13:38:21.019741Z",
     "shell.execute_reply": "2024-04-08T13:38:21.017877Z"
    },
    "papermill": {
     "duration": 0.027669,
     "end_time": "2024-04-08T13:38:21.022481",
     "exception": false,
     "start_time": "2024-04-08T13:38:20.994812",
     "status": "completed"
    },
    "tags": []
   },
   "outputs": [
    {
     "name": "stdout",
     "output_type": "stream",
     "text": [
      "   LotArea  YearBuilt  1stFlrSF  2ndFlrSF  FullBath  BedroomAbvGr  \\\n",
      "0     8450       2003       856       854         2             3   \n",
      "1     9600       1976      1262         0         2             3   \n",
      "2    11250       2001       920       866         2             3   \n",
      "3     9550       1915       961       756         1             3   \n",
      "4    14260       2000      1145      1053         2             4   \n",
      "\n",
      "   TotRmsAbvGrd  \n",
      "0             8  \n",
      "1             6  \n",
      "2             6  \n",
      "3             7  \n",
      "4             9  \n",
      "[208500. 181500. 223500. 140000. 250000.]\n"
     ]
    }
   ],
   "source": [
    "# You can write code in this cell\n",
    "print(X.head())\n",
    "print(iowa_model.predict(X.head()))"
   ]
  },
  {
   "cell_type": "markdown",
   "id": "cd69f691",
   "metadata": {
    "papermill": {
     "duration": 0.008925,
     "end_time": "2024-04-08T13:38:21.040589",
     "exception": false,
     "start_time": "2024-04-08T13:38:21.031664",
     "status": "completed"
    },
    "tags": []
   },
   "source": [
    "It's natural to ask how accurate the model's predictions will be and how you can improve that. That will be you're next step.\n",
    "\n",
    "# Keep Going\n",
    "\n",
    "You are ready for **[Model Validation](https://www.kaggle.com/dansbecker/model-validation).**\n"
   ]
  },
  {
   "cell_type": "markdown",
   "id": "e52aa30f",
   "metadata": {
    "papermill": {
     "duration": 0.01006,
     "end_time": "2024-04-08T13:38:21.059975",
     "exception": false,
     "start_time": "2024-04-08T13:38:21.049915",
     "status": "completed"
    },
    "tags": []
   },
   "source": [
    "---\n",
    "\n",
    "\n",
    "\n",
    "\n",
    "*Have questions or comments? Visit the [course discussion forum](https://www.kaggle.com/learn/intro-to-machine-learning/discussion) to chat with other learners.*"
   ]
  }
 ],
 "metadata": {
  "kaggle": {
   "accelerator": "none",
   "dataSources": [
    {
     "databundleVersionId": 111096,
     "sourceId": 10211,
     "sourceType": "competition"
    },
    {
     "datasetId": 11167,
     "sourceId": 15520,
     "sourceType": "datasetVersion"
    },
    {
     "datasetId": 2709,
     "sourceId": 38454,
     "sourceType": "datasetVersion"
    }
   ],
   "isGpuEnabled": false,
   "isInternetEnabled": false,
   "language": "python",
   "sourceType": "notebook"
  },
  "kernelspec": {
   "display_name": "Python 3",
   "language": "python",
   "name": "python3"
  },
  "language_info": {
   "codemirror_mode": {
    "name": "ipython",
    "version": 3
   },
   "file_extension": ".py",
   "mimetype": "text/x-python",
   "name": "python",
   "nbconvert_exporter": "python",
   "pygments_lexer": "ipython3",
   "version": "3.10.13"
  },
  "papermill": {
   "default_parameters": {},
   "duration": 7.525075,
   "end_time": "2024-04-08T13:38:21.894310",
   "environment_variables": {},
   "exception": null,
   "input_path": "__notebook__.ipynb",
   "output_path": "__notebook__.ipynb",
   "parameters": {},
   "start_time": "2024-04-08T13:38:14.369235",
   "version": "2.5.0"
  }
 },
 "nbformat": 4,
 "nbformat_minor": 5
}
