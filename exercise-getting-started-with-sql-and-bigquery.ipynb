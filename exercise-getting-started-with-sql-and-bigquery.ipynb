{
 "cells": [
  {
   "cell_type": "markdown",
   "id": "698a909b",
   "metadata": {
    "papermill": {
     "duration": 0.00447,
     "end_time": "2025-05-19T06:25:50.084166",
     "exception": false,
     "start_time": "2025-05-19T06:25:50.079696",
     "status": "completed"
    },
    "tags": []
   },
   "source": [
    "**This notebook is an exercise in the [SQL](https://www.kaggle.com/learn/intro-to-sql) course.  You can reference the tutorial at [this link](https://www.kaggle.com/dansbecker/getting-started-with-sql-and-bigquery).**\n",
    "\n",
    "---\n"
   ]
  },
  {
   "cell_type": "markdown",
   "id": "c6d404de",
   "metadata": {
    "papermill": {
     "duration": 0.00339,
     "end_time": "2025-05-19T06:25:50.091609",
     "exception": false,
     "start_time": "2025-05-19T06:25:50.088219",
     "status": "completed"
    },
    "tags": []
   },
   "source": [
    "# Introduction\n",
    "\n",
    "The first test of your new data exploration skills uses data describing crime in the city of Chicago.\n",
    "\n",
    "Before you get started, run the following cell. It sets up the automated feedback system to review your answers."
   ]
  },
  {
   "cell_type": "code",
   "execution_count": 1,
   "id": "bb9afbe2",
   "metadata": {
    "execution": {
     "iopub.execute_input": "2025-05-19T06:25:50.100219Z",
     "iopub.status.busy": "2025-05-19T06:25:50.099852Z",
     "iopub.status.idle": "2025-05-19T06:26:10.138744Z",
     "shell.execute_reply": "2025-05-19T06:26:10.137697Z"
    },
    "papermill": {
     "duration": 20.045119,
     "end_time": "2025-05-19T06:26:10.140457",
     "exception": false,
     "start_time": "2025-05-19T06:25:50.095338",
     "status": "completed"
    },
    "tags": []
   },
   "outputs": [
    {
     "name": "stderr",
     "output_type": "stream",
     "text": [
      "/usr/local/lib/python3.11/dist-packages/learntools/sql/ex1.py:64: SyntaxWarning: assertion is always true, perhaps remove parentheses?\n",
      "  assert (type(fields_for_plotting[0] == str), \"The first item in `fields_for_plotting` should be a string.\")\n",
      "/usr/local/lib/python3.11/dist-packages/learntools/sql/ex1.py:65: SyntaxWarning: assertion is always true, perhaps remove parentheses?\n",
      "  assert (type(fields_for_plotting[1] == str), \"The second item in `fields_for_plotting` should be a string.\")\n"
     ]
    },
    {
     "name": "stdout",
     "output_type": "stream",
     "text": [
      "Using Kaggle's public dataset BigQuery integration.\n",
      "Setup Complete\n"
     ]
    }
   ],
   "source": [
    "# Set up feedack system\n",
    "from learntools.core import binder\n",
    "binder.bind(globals())\n",
    "from learntools.sql.ex1 import *\n",
    "print(\"Setup Complete\")"
   ]
  },
  {
   "cell_type": "markdown",
   "id": "65934c8e",
   "metadata": {
    "papermill": {
     "duration": 0.003725,
     "end_time": "2025-05-19T06:26:10.148385",
     "exception": false,
     "start_time": "2025-05-19T06:26:10.144660",
     "status": "completed"
    },
    "tags": []
   },
   "source": [
    "Use the next code cell to fetch the dataset."
   ]
  },
  {
   "cell_type": "code",
   "execution_count": 2,
   "id": "3531dade",
   "metadata": {
    "execution": {
     "iopub.execute_input": "2025-05-19T06:26:10.157447Z",
     "iopub.status.busy": "2025-05-19T06:26:10.156926Z",
     "iopub.status.idle": "2025-05-19T06:26:10.341996Z",
     "shell.execute_reply": "2025-05-19T06:26:10.341211Z"
    },
    "papermill": {
     "duration": 0.191365,
     "end_time": "2025-05-19T06:26:10.343528",
     "exception": false,
     "start_time": "2025-05-19T06:26:10.152163",
     "status": "completed"
    },
    "tags": []
   },
   "outputs": [
    {
     "name": "stdout",
     "output_type": "stream",
     "text": [
      "Using Kaggle's public dataset BigQuery integration.\n"
     ]
    }
   ],
   "source": [
    "from google.cloud import bigquery\n",
    "\n",
    "# Create a \"Client\" object\n",
    "client = bigquery.Client()\n",
    "\n",
    "# Construct a reference to the \"chicago_crime\" dataset\n",
    "dataset_ref = client.dataset(\"chicago_crime\", project=\"bigquery-public-data\")\n",
    "\n",
    "# API request - fetch the dataset\n",
    "dataset = client.get_dataset(dataset_ref)"
   ]
  },
  {
   "cell_type": "markdown",
   "id": "ec790f71",
   "metadata": {
    "papermill": {
     "duration": 0.003711,
     "end_time": "2025-05-19T06:26:10.351080",
     "exception": false,
     "start_time": "2025-05-19T06:26:10.347369",
     "status": "completed"
    },
    "tags": []
   },
   "source": [
    "# Exercises\n",
    "\n",
    "### 1) Count tables in the dataset\n",
    "\n",
    "How many tables are in the Chicago Crime dataset?"
   ]
  },
  {
   "cell_type": "code",
   "execution_count": 3,
   "id": "11bdad2c",
   "metadata": {
    "execution": {
     "iopub.execute_input": "2025-05-19T06:26:10.359671Z",
     "iopub.status.busy": "2025-05-19T06:26:10.359356Z",
     "iopub.status.idle": "2025-05-19T06:26:10.520360Z",
     "shell.execute_reply": "2025-05-19T06:26:10.519352Z"
    },
    "papermill": {
     "duration": 0.167208,
     "end_time": "2025-05-19T06:26:10.522006",
     "exception": false,
     "start_time": "2025-05-19T06:26:10.354798",
     "status": "completed"
    },
    "tags": []
   },
   "outputs": [],
   "source": [
    "# Write the code you need here to figure out the answer\n",
    "tables = list(client.list_tables(dataset))"
   ]
  },
  {
   "cell_type": "code",
   "execution_count": 4,
   "id": "66203d86",
   "metadata": {
    "execution": {
     "iopub.execute_input": "2025-05-19T06:26:10.531362Z",
     "iopub.status.busy": "2025-05-19T06:26:10.531072Z",
     "iopub.status.idle": "2025-05-19T06:26:10.539257Z",
     "shell.execute_reply": "2025-05-19T06:26:10.538289Z"
    },
    "papermill": {
     "duration": 0.014551,
     "end_time": "2025-05-19T06:26:10.540744",
     "exception": false,
     "start_time": "2025-05-19T06:26:10.526193",
     "status": "completed"
    },
    "tags": []
   },
   "outputs": [
    {
     "data": {
      "application/javascript": [
       "parent.postMessage({\"jupyterEvent\": \"custom.exercise_interaction\", \"data\": {\"outcomeType\": 1, \"valueTowardsCompletion\": 0.3333333333333333, \"interactionType\": 1, \"questionType\": 1, \"questionId\": \"1_CountTables\", \"learnToolsVersion\": \"0.3.5\", \"failureMessage\": \"\", \"exceptionClass\": \"\", \"trace\": \"\"}}, \"*\")"
      ],
      "text/plain": [
       "<IPython.core.display.Javascript object>"
      ]
     },
     "metadata": {},
     "output_type": "display_data"
    },
    {
     "data": {
      "text/markdown": [
       "<span style=\"color:#33cc33\">Correct</span>"
      ],
      "text/plain": [
       "Correct"
      ]
     },
     "metadata": {},
     "output_type": "display_data"
    }
   ],
   "source": [
    "num_tables = len(tables)  # Store the answer as num_tables and then run this cell\n",
    "\n",
    "# Check your answer\n",
    "q_1.check()"
   ]
  },
  {
   "cell_type": "markdown",
   "id": "e523b2a0",
   "metadata": {
    "papermill": {
     "duration": 0.003972,
     "end_time": "2025-05-19T06:26:10.549264",
     "exception": false,
     "start_time": "2025-05-19T06:26:10.545292",
     "status": "completed"
    },
    "tags": []
   },
   "source": [
    "For a hint or the solution, uncomment the appropriate line below."
   ]
  },
  {
   "cell_type": "code",
   "execution_count": 5,
   "id": "3073887c",
   "metadata": {
    "execution": {
     "iopub.execute_input": "2025-05-19T06:26:10.558298Z",
     "iopub.status.busy": "2025-05-19T06:26:10.558035Z",
     "iopub.status.idle": "2025-05-19T06:26:10.562068Z",
     "shell.execute_reply": "2025-05-19T06:26:10.561306Z"
    },
    "papermill": {
     "duration": 0.010173,
     "end_time": "2025-05-19T06:26:10.563415",
     "exception": false,
     "start_time": "2025-05-19T06:26:10.553242",
     "status": "completed"
    },
    "tags": []
   },
   "outputs": [],
   "source": [
    "#q_1.hint()\n",
    "#q_1.solution()"
   ]
  },
  {
   "cell_type": "markdown",
   "id": "35f06cee",
   "metadata": {
    "papermill": {
     "duration": 0.003857,
     "end_time": "2025-05-19T06:26:10.571346",
     "exception": false,
     "start_time": "2025-05-19T06:26:10.567489",
     "status": "completed"
    },
    "tags": []
   },
   "source": [
    "### 2) Explore the table schema\n",
    "\n",
    "How many columns in the `crime` table have `TIMESTAMP` data?"
   ]
  },
  {
   "cell_type": "code",
   "execution_count": 6,
   "id": "6db070c2",
   "metadata": {
    "execution": {
     "iopub.execute_input": "2025-05-19T06:26:10.580686Z",
     "iopub.status.busy": "2025-05-19T06:26:10.580330Z",
     "iopub.status.idle": "2025-05-19T06:26:10.800647Z",
     "shell.execute_reply": "2025-05-19T06:26:10.799715Z"
    },
    "papermill": {
     "duration": 0.226712,
     "end_time": "2025-05-19T06:26:10.802092",
     "exception": false,
     "start_time": "2025-05-19T06:26:10.575380",
     "status": "completed"
    },
    "tags": []
   },
   "outputs": [
    {
     "data": {
      "text/plain": [
       "[SchemaField('unique_key', 'INTEGER', 'REQUIRED', None, None, (), None),\n",
       " SchemaField('case_number', 'STRING', 'NULLABLE', None, None, (), None),\n",
       " SchemaField('date', 'TIMESTAMP', 'NULLABLE', None, None, (), None),\n",
       " SchemaField('block', 'STRING', 'NULLABLE', None, None, (), None),\n",
       " SchemaField('iucr', 'STRING', 'NULLABLE', None, None, (), None),\n",
       " SchemaField('primary_type', 'STRING', 'NULLABLE', None, None, (), None),\n",
       " SchemaField('description', 'STRING', 'NULLABLE', None, None, (), None),\n",
       " SchemaField('location_description', 'STRING', 'NULLABLE', None, None, (), None),\n",
       " SchemaField('arrest', 'BOOLEAN', 'NULLABLE', None, None, (), None),\n",
       " SchemaField('domestic', 'BOOLEAN', 'NULLABLE', None, None, (), None),\n",
       " SchemaField('beat', 'INTEGER', 'NULLABLE', None, None, (), None),\n",
       " SchemaField('district', 'INTEGER', 'NULLABLE', None, None, (), None),\n",
       " SchemaField('ward', 'INTEGER', 'NULLABLE', None, None, (), None),\n",
       " SchemaField('community_area', 'INTEGER', 'NULLABLE', None, None, (), None),\n",
       " SchemaField('fbi_code', 'STRING', 'NULLABLE', None, None, (), None),\n",
       " SchemaField('x_coordinate', 'FLOAT', 'NULLABLE', None, None, (), None),\n",
       " SchemaField('y_coordinate', 'FLOAT', 'NULLABLE', None, None, (), None),\n",
       " SchemaField('year', 'INTEGER', 'NULLABLE', None, None, (), None),\n",
       " SchemaField('updated_on', 'TIMESTAMP', 'NULLABLE', None, None, (), None),\n",
       " SchemaField('latitude', 'FLOAT', 'NULLABLE', None, None, (), None),\n",
       " SchemaField('longitude', 'FLOAT', 'NULLABLE', None, None, (), None),\n",
       " SchemaField('location', 'STRING', 'NULLABLE', None, None, (), None)]"
      ]
     },
     "execution_count": 6,
     "metadata": {},
     "output_type": "execute_result"
    }
   ],
   "source": [
    "# Write the code to figure out the answer\n",
    "crime_ref = dataset_ref.table(\"crime\")\n",
    "crime = client.get_table(crime_ref)\n",
    "\n",
    "crime.schema"
   ]
  },
  {
   "cell_type": "code",
   "execution_count": 7,
   "id": "17e7fb26",
   "metadata": {
    "execution": {
     "iopub.execute_input": "2025-05-19T06:26:10.811885Z",
     "iopub.status.busy": "2025-05-19T06:26:10.811565Z",
     "iopub.status.idle": "2025-05-19T06:26:10.818608Z",
     "shell.execute_reply": "2025-05-19T06:26:10.817700Z"
    },
    "papermill": {
     "duration": 0.01363,
     "end_time": "2025-05-19T06:26:10.820047",
     "exception": false,
     "start_time": "2025-05-19T06:26:10.806417",
     "status": "completed"
    },
    "tags": []
   },
   "outputs": [
    {
     "data": {
      "application/javascript": [
       "parent.postMessage({\"jupyterEvent\": \"custom.exercise_interaction\", \"data\": {\"outcomeType\": 1, \"valueTowardsCompletion\": 0.3333333333333333, \"interactionType\": 1, \"questionType\": 1, \"questionId\": \"2_CountTimestampFields\", \"learnToolsVersion\": \"0.3.5\", \"failureMessage\": \"\", \"exceptionClass\": \"\", \"trace\": \"\"}}, \"*\")"
      ],
      "text/plain": [
       "<IPython.core.display.Javascript object>"
      ]
     },
     "metadata": {},
     "output_type": "display_data"
    },
    {
     "data": {
      "text/markdown": [
       "<span style=\"color:#33cc33\">Correct</span>"
      ],
      "text/plain": [
       "Correct"
      ]
     },
     "metadata": {},
     "output_type": "display_data"
    }
   ],
   "source": [
    "num_timestamp_fields = 2 # Put your answer here\n",
    "\n",
    "# Check your answer\n",
    "q_2.check()"
   ]
  },
  {
   "cell_type": "markdown",
   "id": "7022a60f",
   "metadata": {
    "papermill": {
     "duration": 0.004059,
     "end_time": "2025-05-19T06:26:10.829194",
     "exception": false,
     "start_time": "2025-05-19T06:26:10.825135",
     "status": "completed"
    },
    "tags": []
   },
   "source": [
    "For a hint or the solution, uncomment the appropriate line below."
   ]
  },
  {
   "cell_type": "code",
   "execution_count": 8,
   "id": "04d42b65",
   "metadata": {
    "execution": {
     "iopub.execute_input": "2025-05-19T06:26:10.838755Z",
     "iopub.status.busy": "2025-05-19T06:26:10.838453Z",
     "iopub.status.idle": "2025-05-19T06:26:10.842488Z",
     "shell.execute_reply": "2025-05-19T06:26:10.841527Z"
    },
    "papermill": {
     "duration": 0.010427,
     "end_time": "2025-05-19T06:26:10.843803",
     "exception": false,
     "start_time": "2025-05-19T06:26:10.833376",
     "status": "completed"
    },
    "tags": []
   },
   "outputs": [],
   "source": [
    "#q_2.hint()\n",
    "#q_2.solution()"
   ]
  },
  {
   "cell_type": "markdown",
   "id": "476179aa",
   "metadata": {
    "papermill": {
     "duration": 0.00411,
     "end_time": "2025-05-19T06:26:10.852339",
     "exception": false,
     "start_time": "2025-05-19T06:26:10.848229",
     "status": "completed"
    },
    "tags": []
   },
   "source": [
    "### 3) Create a crime map\n",
    "\n",
    "If you wanted to create a map with a dot at the location of each crime, what are the names of the two fields you likely need to pull out of the `crime` table to plot the crimes on a map?"
   ]
  },
  {
   "cell_type": "code",
   "execution_count": 9,
   "id": "490caa6c",
   "metadata": {
    "execution": {
     "iopub.execute_input": "2025-05-19T06:26:10.861922Z",
     "iopub.status.busy": "2025-05-19T06:26:10.861648Z",
     "iopub.status.idle": "2025-05-19T06:26:10.867628Z",
     "shell.execute_reply": "2025-05-19T06:26:10.866739Z"
    },
    "papermill": {
     "duration": 0.01259,
     "end_time": "2025-05-19T06:26:10.869064",
     "exception": false,
     "start_time": "2025-05-19T06:26:10.856474",
     "status": "completed"
    },
    "tags": []
   },
   "outputs": [
    {
     "data": {
      "text/plain": [
       "[SchemaField('unique_key', 'INTEGER', 'REQUIRED', None, None, (), None),\n",
       " SchemaField('case_number', 'STRING', 'NULLABLE', None, None, (), None),\n",
       " SchemaField('date', 'TIMESTAMP', 'NULLABLE', None, None, (), None),\n",
       " SchemaField('block', 'STRING', 'NULLABLE', None, None, (), None),\n",
       " SchemaField('iucr', 'STRING', 'NULLABLE', None, None, (), None),\n",
       " SchemaField('primary_type', 'STRING', 'NULLABLE', None, None, (), None),\n",
       " SchemaField('description', 'STRING', 'NULLABLE', None, None, (), None),\n",
       " SchemaField('location_description', 'STRING', 'NULLABLE', None, None, (), None),\n",
       " SchemaField('arrest', 'BOOLEAN', 'NULLABLE', None, None, (), None),\n",
       " SchemaField('domestic', 'BOOLEAN', 'NULLABLE', None, None, (), None),\n",
       " SchemaField('beat', 'INTEGER', 'NULLABLE', None, None, (), None),\n",
       " SchemaField('district', 'INTEGER', 'NULLABLE', None, None, (), None),\n",
       " SchemaField('ward', 'INTEGER', 'NULLABLE', None, None, (), None),\n",
       " SchemaField('community_area', 'INTEGER', 'NULLABLE', None, None, (), None),\n",
       " SchemaField('fbi_code', 'STRING', 'NULLABLE', None, None, (), None),\n",
       " SchemaField('x_coordinate', 'FLOAT', 'NULLABLE', None, None, (), None),\n",
       " SchemaField('y_coordinate', 'FLOAT', 'NULLABLE', None, None, (), None),\n",
       " SchemaField('year', 'INTEGER', 'NULLABLE', None, None, (), None),\n",
       " SchemaField('updated_on', 'TIMESTAMP', 'NULLABLE', None, None, (), None),\n",
       " SchemaField('latitude', 'FLOAT', 'NULLABLE', None, None, (), None),\n",
       " SchemaField('longitude', 'FLOAT', 'NULLABLE', None, None, (), None),\n",
       " SchemaField('location', 'STRING', 'NULLABLE', None, None, (), None)]"
      ]
     },
     "execution_count": 9,
     "metadata": {},
     "output_type": "execute_result"
    }
   ],
   "source": [
    "# Write the code here to explore the data so you can find the answer\n",
    "crime.schema"
   ]
  },
  {
   "cell_type": "code",
   "execution_count": 10,
   "id": "d490af47",
   "metadata": {
    "execution": {
     "iopub.execute_input": "2025-05-19T06:26:10.879739Z",
     "iopub.status.busy": "2025-05-19T06:26:10.879423Z",
     "iopub.status.idle": "2025-05-19T06:26:10.886851Z",
     "shell.execute_reply": "2025-05-19T06:26:10.886025Z"
    },
    "papermill": {
     "duration": 0.014574,
     "end_time": "2025-05-19T06:26:10.888344",
     "exception": false,
     "start_time": "2025-05-19T06:26:10.873770",
     "status": "completed"
    },
    "tags": []
   },
   "outputs": [
    {
     "data": {
      "application/javascript": [
       "parent.postMessage({\"jupyterEvent\": \"custom.exercise_interaction\", \"data\": {\"outcomeType\": 1, \"valueTowardsCompletion\": 0.3333333333333333, \"interactionType\": 1, \"questionType\": 2, \"questionId\": \"3_IdentifyFieldsForPlotting\", \"learnToolsVersion\": \"0.3.5\", \"failureMessage\": \"\", \"exceptionClass\": \"\", \"trace\": \"\"}}, \"*\")"
      ],
      "text/plain": [
       "<IPython.core.display.Javascript object>"
      ]
     },
     "metadata": {},
     "output_type": "display_data"
    },
    {
     "data": {
      "text/markdown": [
       "<span style=\"color:#33cc33\">Correct</span>"
      ],
      "text/plain": [
       "Correct"
      ]
     },
     "metadata": {},
     "output_type": "display_data"
    }
   ],
   "source": [
    "fields_for_plotting = ['latitude', 'longitude'] # Put your answers here\n",
    "\n",
    "# Check your answer\n",
    "q_3.check()"
   ]
  },
  {
   "cell_type": "markdown",
   "id": "6f6968c7",
   "metadata": {
    "papermill": {
     "duration": 0.004328,
     "end_time": "2025-05-19T06:26:10.897430",
     "exception": false,
     "start_time": "2025-05-19T06:26:10.893102",
     "status": "completed"
    },
    "tags": []
   },
   "source": [
    "For a hint or the solution, uncomment the appropriate line below."
   ]
  },
  {
   "cell_type": "code",
   "execution_count": 11,
   "id": "c3b9c419",
   "metadata": {
    "execution": {
     "iopub.execute_input": "2025-05-19T06:26:10.908339Z",
     "iopub.status.busy": "2025-05-19T06:26:10.908025Z",
     "iopub.status.idle": "2025-05-19T06:26:10.911608Z",
     "shell.execute_reply": "2025-05-19T06:26:10.910962Z"
    },
    "papermill": {
     "duration": 0.011234,
     "end_time": "2025-05-19T06:26:10.913181",
     "exception": false,
     "start_time": "2025-05-19T06:26:10.901947",
     "status": "completed"
    },
    "tags": []
   },
   "outputs": [],
   "source": [
    "#q_3.hint()\n",
    "#q_3.solution()"
   ]
  },
  {
   "cell_type": "markdown",
   "id": "16f28226",
   "metadata": {
    "papermill": {
     "duration": 0.004482,
     "end_time": "2025-05-19T06:26:10.922560",
     "exception": false,
     "start_time": "2025-05-19T06:26:10.918078",
     "status": "completed"
    },
    "tags": []
   },
   "source": [
    "Thinking about the question above, there are a few columns that appear to have geographic data. Look at a few values (with the `list_rows()` command) to see if you can determine their relationship.  Two columns will still be hard to interpret. But it should be obvious how the `location` column relates to `latitude` and `longitude`."
   ]
  },
  {
   "cell_type": "code",
   "execution_count": 12,
   "id": "cfc56476",
   "metadata": {
    "execution": {
     "iopub.execute_input": "2025-05-19T06:26:10.933078Z",
     "iopub.status.busy": "2025-05-19T06:26:10.932744Z",
     "iopub.status.idle": "2025-05-19T06:26:10.936650Z",
     "shell.execute_reply": "2025-05-19T06:26:10.935885Z"
    },
    "papermill": {
     "duration": 0.010905,
     "end_time": "2025-05-19T06:26:10.938060",
     "exception": false,
     "start_time": "2025-05-19T06:26:10.927155",
     "status": "completed"
    },
    "tags": []
   },
   "outputs": [],
   "source": [
    "# Scratch space for your code"
   ]
  },
  {
   "cell_type": "markdown",
   "id": "a8a33df6",
   "metadata": {
    "papermill": {
     "duration": 0.004457,
     "end_time": "2025-05-19T06:26:10.947352",
     "exception": false,
     "start_time": "2025-05-19T06:26:10.942895",
     "status": "completed"
    },
    "tags": []
   },
   "source": [
    "# Keep going\n",
    "\n",
    "You've looked at the schema, but you haven't yet done anything exciting with the data itself. Things get more interesting when you get to the data, so keep going to **[write your first SQL query](https://www.kaggle.com/dansbecker/select-from-where).**"
   ]
  },
  {
   "cell_type": "markdown",
   "id": "80e450d0",
   "metadata": {
    "papermill": {
     "duration": 0.00443,
     "end_time": "2025-05-19T06:26:10.956326",
     "exception": false,
     "start_time": "2025-05-19T06:26:10.951896",
     "status": "completed"
    },
    "tags": []
   },
   "source": [
    "---\n",
    "\n",
    "\n",
    "\n",
    "\n",
    "*Have questions or comments? Visit the [course discussion forum](https://www.kaggle.com/learn/intro-to-sql/discussion) to chat with other learners.*"
   ]
  }
 ],
 "metadata": {
  "kaggle": {
   "accelerator": "none",
   "dataSources": [
    {
     "datasetId": 22090,
     "sourceId": 28376,
     "sourceType": "datasetVersion"
    },
    {
     "datasetId": 6057,
     "sourceId": 285982,
     "sourceType": "datasetVersion"
    }
   ],
   "isGpuEnabled": false,
   "isInternetEnabled": false,
   "language": "python",
   "sourceType": "notebook"
  },
  "kernelspec": {
   "display_name": "Python 3",
   "language": "python",
   "name": "python3"
  },
  "language_info": {
   "codemirror_mode": {
    "name": "ipython",
    "version": 3
   },
   "file_extension": ".py",
   "mimetype": "text/x-python",
   "name": "python",
   "nbconvert_exporter": "python",
   "pygments_lexer": "ipython3",
   "version": "3.11.11"
  },
  "papermill": {
   "default_parameters": {},
   "duration": 29.158127,
   "end_time": "2025-05-19T06:26:14.375999",
   "environment_variables": {},
   "exception": null,
   "input_path": "__notebook__.ipynb",
   "output_path": "__notebook__.ipynb",
   "parameters": {},
   "start_time": "2025-05-19T06:25:45.217872",
   "version": "2.6.0"
  }
 },
 "nbformat": 4,
 "nbformat_minor": 5
}
