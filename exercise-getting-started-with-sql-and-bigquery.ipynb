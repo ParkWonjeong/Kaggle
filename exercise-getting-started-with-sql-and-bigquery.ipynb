{
 "cells": [
  {
   "cell_type": "markdown",
   "id": "fba75edd",
   "metadata": {
    "papermill": {
     "duration": 0.004573,
     "end_time": "2025-05-19T06:26:35.070802",
     "exception": false,
     "start_time": "2025-05-19T06:26:35.066229",
     "status": "completed"
    },
    "tags": []
   },
   "source": [
    "**This notebook is an exercise in the [SQL](https://www.kaggle.com/learn/intro-to-sql) course.  You can reference the tutorial at [this link](https://www.kaggle.com/dansbecker/getting-started-with-sql-and-bigquery).**\n",
    "\n",
    "---\n"
   ]
  },
  {
   "cell_type": "markdown",
   "id": "143a4269",
   "metadata": {
    "papermill": {
     "duration": 0.003372,
     "end_time": "2025-05-19T06:26:35.078052",
     "exception": false,
     "start_time": "2025-05-19T06:26:35.074680",
     "status": "completed"
    },
    "tags": []
   },
   "source": [
    "# Introduction\n",
    "\n",
    "The first test of your new data exploration skills uses data describing crime in the city of Chicago.\n",
    "\n",
    "Before you get started, run the following cell. It sets up the automated feedback system to review your answers."
   ]
  },
  {
   "cell_type": "code",
   "execution_count": 1,
   "id": "ec1f1e2b",
   "metadata": {
    "execution": {
     "iopub.execute_input": "2025-05-19T06:26:35.088006Z",
     "iopub.status.busy": "2025-05-19T06:26:35.086601Z",
     "iopub.status.idle": "2025-05-19T06:26:54.630928Z",
     "shell.execute_reply": "2025-05-19T06:26:54.630036Z"
    },
    "papermill": {
     "duration": 19.550897,
     "end_time": "2025-05-19T06:26:54.632600",
     "exception": false,
     "start_time": "2025-05-19T06:26:35.081703",
     "status": "completed"
    },
    "tags": []
   },
   "outputs": [
    {
     "name": "stderr",
     "output_type": "stream",
     "text": [
      "/usr/local/lib/python3.11/dist-packages/learntools/sql/ex1.py:64: SyntaxWarning: assertion is always true, perhaps remove parentheses?\n",
      "  assert (type(fields_for_plotting[0] == str), \"The first item in `fields_for_plotting` should be a string.\")\n",
      "/usr/local/lib/python3.11/dist-packages/learntools/sql/ex1.py:65: SyntaxWarning: assertion is always true, perhaps remove parentheses?\n",
      "  assert (type(fields_for_plotting[1] == str), \"The second item in `fields_for_plotting` should be a string.\")\n"
     ]
    },
    {
     "name": "stdout",
     "output_type": "stream",
     "text": [
      "Using Kaggle's public dataset BigQuery integration.\n",
      "Setup Complete\n"
     ]
    }
   ],
   "source": [
    "# Set up feedack system\n",
    "from learntools.core import binder\n",
    "binder.bind(globals())\n",
    "from learntools.sql.ex1 import *\n",
    "print(\"Setup Complete\")"
   ]
  },
  {
   "cell_type": "markdown",
   "id": "344ff5c1",
   "metadata": {
    "papermill": {
     "duration": 0.003649,
     "end_time": "2025-05-19T06:26:54.640604",
     "exception": false,
     "start_time": "2025-05-19T06:26:54.636955",
     "status": "completed"
    },
    "tags": []
   },
   "source": [
    "Use the next code cell to fetch the dataset."
   ]
  },
  {
   "cell_type": "code",
   "execution_count": 2,
   "id": "fe4936b0",
   "metadata": {
    "execution": {
     "iopub.execute_input": "2025-05-19T06:26:54.650361Z",
     "iopub.status.busy": "2025-05-19T06:26:54.649506Z",
     "iopub.status.idle": "2025-05-19T06:26:54.839680Z",
     "shell.execute_reply": "2025-05-19T06:26:54.838760Z"
    },
    "papermill": {
     "duration": 0.197246,
     "end_time": "2025-05-19T06:26:54.841744",
     "exception": false,
     "start_time": "2025-05-19T06:26:54.644498",
     "status": "completed"
    },
    "tags": []
   },
   "outputs": [
    {
     "name": "stdout",
     "output_type": "stream",
     "text": [
      "Using Kaggle's public dataset BigQuery integration.\n"
     ]
    }
   ],
   "source": [
    "from google.cloud import bigquery\n",
    "\n",
    "# Create a \"Client\" object\n",
    "client = bigquery.Client()\n",
    "\n",
    "# Construct a reference to the \"chicago_crime\" dataset\n",
    "dataset_ref = client.dataset(\"chicago_crime\", project=\"bigquery-public-data\")\n",
    "\n",
    "# API request - fetch the dataset\n",
    "dataset = client.get_dataset(dataset_ref)"
   ]
  },
  {
   "cell_type": "markdown",
   "id": "9544d23e",
   "metadata": {
    "papermill": {
     "duration": 0.00367,
     "end_time": "2025-05-19T06:26:54.849706",
     "exception": false,
     "start_time": "2025-05-19T06:26:54.846036",
     "status": "completed"
    },
    "tags": []
   },
   "source": [
    "# Exercises\n",
    "\n",
    "### 1) Count tables in the dataset\n",
    "\n",
    "How many tables are in the Chicago Crime dataset?"
   ]
  },
  {
   "cell_type": "code",
   "execution_count": 3,
   "id": "bc0df984",
   "metadata": {
    "execution": {
     "iopub.execute_input": "2025-05-19T06:26:54.859209Z",
     "iopub.status.busy": "2025-05-19T06:26:54.858248Z",
     "iopub.status.idle": "2025-05-19T06:26:55.050072Z",
     "shell.execute_reply": "2025-05-19T06:26:55.049175Z"
    },
    "papermill": {
     "duration": 0.198185,
     "end_time": "2025-05-19T06:26:55.051772",
     "exception": false,
     "start_time": "2025-05-19T06:26:54.853587",
     "status": "completed"
    },
    "tags": []
   },
   "outputs": [],
   "source": [
    "# Write the code you need here to figure out the answer\n",
    "tables = list(client.list_tables(dataset))"
   ]
  },
  {
   "cell_type": "code",
   "execution_count": 4,
   "id": "11fc85c3",
   "metadata": {
    "execution": {
     "iopub.execute_input": "2025-05-19T06:26:55.061300Z",
     "iopub.status.busy": "2025-05-19T06:26:55.060881Z",
     "iopub.status.idle": "2025-05-19T06:26:55.069066Z",
     "shell.execute_reply": "2025-05-19T06:26:55.068221Z"
    },
    "papermill": {
     "duration": 0.014691,
     "end_time": "2025-05-19T06:26:55.070523",
     "exception": false,
     "start_time": "2025-05-19T06:26:55.055832",
     "status": "completed"
    },
    "tags": []
   },
   "outputs": [
    {
     "data": {
      "application/javascript": [
       "parent.postMessage({\"jupyterEvent\": \"custom.exercise_interaction\", \"data\": {\"outcomeType\": 1, \"valueTowardsCompletion\": 0.3333333333333333, \"interactionType\": 1, \"questionType\": 1, \"questionId\": \"1_CountTables\", \"learnToolsVersion\": \"0.3.5\", \"failureMessage\": \"\", \"exceptionClass\": \"\", \"trace\": \"\"}}, \"*\")"
      ],
      "text/plain": [
       "<IPython.core.display.Javascript object>"
      ]
     },
     "metadata": {},
     "output_type": "display_data"
    },
    {
     "data": {
      "text/markdown": [
       "<span style=\"color:#33cc33\">Correct</span>"
      ],
      "text/plain": [
       "Correct"
      ]
     },
     "metadata": {},
     "output_type": "display_data"
    }
   ],
   "source": [
    "num_tables = len(tables)  # Store the answer as num_tables and then run this cell\n",
    "\n",
    "# Check your answer\n",
    "q_1.check()"
   ]
  },
  {
   "cell_type": "markdown",
   "id": "05e59555",
   "metadata": {
    "papermill": {
     "duration": 0.003981,
     "end_time": "2025-05-19T06:26:55.079044",
     "exception": false,
     "start_time": "2025-05-19T06:26:55.075063",
     "status": "completed"
    },
    "tags": []
   },
   "source": [
    "For a hint or the solution, uncomment the appropriate line below."
   ]
  },
  {
   "cell_type": "code",
   "execution_count": 5,
   "id": "124e12a5",
   "metadata": {
    "execution": {
     "iopub.execute_input": "2025-05-19T06:26:55.088862Z",
     "iopub.status.busy": "2025-05-19T06:26:55.088527Z",
     "iopub.status.idle": "2025-05-19T06:26:55.092558Z",
     "shell.execute_reply": "2025-05-19T06:26:55.091690Z"
    },
    "papermill": {
     "duration": 0.010782,
     "end_time": "2025-05-19T06:26:55.094059",
     "exception": false,
     "start_time": "2025-05-19T06:26:55.083277",
     "status": "completed"
    },
    "tags": []
   },
   "outputs": [],
   "source": [
    "#q_1.hint()\n",
    "#q_1.solution()"
   ]
  },
  {
   "cell_type": "markdown",
   "id": "3a736225",
   "metadata": {
    "papermill": {
     "duration": 0.003865,
     "end_time": "2025-05-19T06:26:55.102097",
     "exception": false,
     "start_time": "2025-05-19T06:26:55.098232",
     "status": "completed"
    },
    "tags": []
   },
   "source": [
    "### 2) Explore the table schema\n",
    "\n",
    "How many columns in the `crime` table have `TIMESTAMP` data?"
   ]
  },
  {
   "cell_type": "code",
   "execution_count": 6,
   "id": "16d628b3",
   "metadata": {
    "execution": {
     "iopub.execute_input": "2025-05-19T06:26:55.111424Z",
     "iopub.status.busy": "2025-05-19T06:26:55.110814Z",
     "iopub.status.idle": "2025-05-19T06:26:55.306281Z",
     "shell.execute_reply": "2025-05-19T06:26:55.305306Z"
    },
    "papermill": {
     "duration": 0.201878,
     "end_time": "2025-05-19T06:26:55.307922",
     "exception": false,
     "start_time": "2025-05-19T06:26:55.106044",
     "status": "completed"
    },
    "tags": []
   },
   "outputs": [
    {
     "data": {
      "text/plain": [
       "[SchemaField('unique_key', 'INTEGER', 'REQUIRED', None, None, (), None),\n",
       " SchemaField('case_number', 'STRING', 'NULLABLE', None, None, (), None),\n",
       " SchemaField('date', 'TIMESTAMP', 'NULLABLE', None, None, (), None),\n",
       " SchemaField('block', 'STRING', 'NULLABLE', None, None, (), None),\n",
       " SchemaField('iucr', 'STRING', 'NULLABLE', None, None, (), None),\n",
       " SchemaField('primary_type', 'STRING', 'NULLABLE', None, None, (), None),\n",
       " SchemaField('description', 'STRING', 'NULLABLE', None, None, (), None),\n",
       " SchemaField('location_description', 'STRING', 'NULLABLE', None, None, (), None),\n",
       " SchemaField('arrest', 'BOOLEAN', 'NULLABLE', None, None, (), None),\n",
       " SchemaField('domestic', 'BOOLEAN', 'NULLABLE', None, None, (), None),\n",
       " SchemaField('beat', 'INTEGER', 'NULLABLE', None, None, (), None),\n",
       " SchemaField('district', 'INTEGER', 'NULLABLE', None, None, (), None),\n",
       " SchemaField('ward', 'INTEGER', 'NULLABLE', None, None, (), None),\n",
       " SchemaField('community_area', 'INTEGER', 'NULLABLE', None, None, (), None),\n",
       " SchemaField('fbi_code', 'STRING', 'NULLABLE', None, None, (), None),\n",
       " SchemaField('x_coordinate', 'FLOAT', 'NULLABLE', None, None, (), None),\n",
       " SchemaField('y_coordinate', 'FLOAT', 'NULLABLE', None, None, (), None),\n",
       " SchemaField('year', 'INTEGER', 'NULLABLE', None, None, (), None),\n",
       " SchemaField('updated_on', 'TIMESTAMP', 'NULLABLE', None, None, (), None),\n",
       " SchemaField('latitude', 'FLOAT', 'NULLABLE', None, None, (), None),\n",
       " SchemaField('longitude', 'FLOAT', 'NULLABLE', None, None, (), None),\n",
       " SchemaField('location', 'STRING', 'NULLABLE', None, None, (), None)]"
      ]
     },
     "execution_count": 6,
     "metadata": {},
     "output_type": "execute_result"
    }
   ],
   "source": [
    "# Write the code to figure out the answer\n",
    "crime_ref = dataset_ref.table(\"crime\")\n",
    "crime = client.get_table(crime_ref)\n",
    "\n",
    "crime.schema"
   ]
  },
  {
   "cell_type": "code",
   "execution_count": 7,
   "id": "a10a5bc6",
   "metadata": {
    "execution": {
     "iopub.execute_input": "2025-05-19T06:26:55.318215Z",
     "iopub.status.busy": "2025-05-19T06:26:55.317895Z",
     "iopub.status.idle": "2025-05-19T06:26:55.325054Z",
     "shell.execute_reply": "2025-05-19T06:26:55.324262Z"
    },
    "papermill": {
     "duration": 0.014053,
     "end_time": "2025-05-19T06:26:55.326531",
     "exception": false,
     "start_time": "2025-05-19T06:26:55.312478",
     "status": "completed"
    },
    "tags": []
   },
   "outputs": [
    {
     "data": {
      "application/javascript": [
       "parent.postMessage({\"jupyterEvent\": \"custom.exercise_interaction\", \"data\": {\"outcomeType\": 1, \"valueTowardsCompletion\": 0.3333333333333333, \"interactionType\": 1, \"questionType\": 1, \"questionId\": \"2_CountTimestampFields\", \"learnToolsVersion\": \"0.3.5\", \"failureMessage\": \"\", \"exceptionClass\": \"\", \"trace\": \"\"}}, \"*\")"
      ],
      "text/plain": [
       "<IPython.core.display.Javascript object>"
      ]
     },
     "metadata": {},
     "output_type": "display_data"
    },
    {
     "data": {
      "text/markdown": [
       "<span style=\"color:#33cc33\">Correct</span>"
      ],
      "text/plain": [
       "Correct"
      ]
     },
     "metadata": {},
     "output_type": "display_data"
    }
   ],
   "source": [
    "num_timestamp_fields = 2 # Put your answer here\n",
    "\n",
    "# Check your answer\n",
    "q_2.check()"
   ]
  },
  {
   "cell_type": "markdown",
   "id": "623f33a7",
   "metadata": {
    "papermill": {
     "duration": 0.004039,
     "end_time": "2025-05-19T06:26:55.335787",
     "exception": false,
     "start_time": "2025-05-19T06:26:55.331748",
     "status": "completed"
    },
    "tags": []
   },
   "source": [
    "For a hint or the solution, uncomment the appropriate line below."
   ]
  },
  {
   "cell_type": "code",
   "execution_count": 8,
   "id": "0be6c18a",
   "metadata": {
    "execution": {
     "iopub.execute_input": "2025-05-19T06:26:55.345715Z",
     "iopub.status.busy": "2025-05-19T06:26:55.345364Z",
     "iopub.status.idle": "2025-05-19T06:26:55.349096Z",
     "shell.execute_reply": "2025-05-19T06:26:55.348334Z"
    },
    "papermill": {
     "duration": 0.010657,
     "end_time": "2025-05-19T06:26:55.350760",
     "exception": false,
     "start_time": "2025-05-19T06:26:55.340103",
     "status": "completed"
    },
    "tags": []
   },
   "outputs": [],
   "source": [
    "#q_2.hint()\n",
    "#q_2.solution()"
   ]
  },
  {
   "cell_type": "markdown",
   "id": "aa8e4fa6",
   "metadata": {
    "papermill": {
     "duration": 0.004674,
     "end_time": "2025-05-19T06:26:55.360496",
     "exception": false,
     "start_time": "2025-05-19T06:26:55.355822",
     "status": "completed"
    },
    "tags": []
   },
   "source": [
    "### 3) Create a crime map\n",
    "\n",
    "If you wanted to create a map with a dot at the location of each crime, what are the names of the two fields you likely need to pull out of the `crime` table to plot the crimes on a map?"
   ]
  },
  {
   "cell_type": "code",
   "execution_count": 9,
   "id": "2a946c36",
   "metadata": {
    "execution": {
     "iopub.execute_input": "2025-05-19T06:26:55.370716Z",
     "iopub.status.busy": "2025-05-19T06:26:55.370362Z",
     "iopub.status.idle": "2025-05-19T06:26:55.376807Z",
     "shell.execute_reply": "2025-05-19T06:26:55.375802Z"
    },
    "papermill": {
     "duration": 0.013381,
     "end_time": "2025-05-19T06:26:55.378376",
     "exception": false,
     "start_time": "2025-05-19T06:26:55.364995",
     "status": "completed"
    },
    "tags": []
   },
   "outputs": [
    {
     "data": {
      "text/plain": [
       "[SchemaField('unique_key', 'INTEGER', 'REQUIRED', None, None, (), None),\n",
       " SchemaField('case_number', 'STRING', 'NULLABLE', None, None, (), None),\n",
       " SchemaField('date', 'TIMESTAMP', 'NULLABLE', None, None, (), None),\n",
       " SchemaField('block', 'STRING', 'NULLABLE', None, None, (), None),\n",
       " SchemaField('iucr', 'STRING', 'NULLABLE', None, None, (), None),\n",
       " SchemaField('primary_type', 'STRING', 'NULLABLE', None, None, (), None),\n",
       " SchemaField('description', 'STRING', 'NULLABLE', None, None, (), None),\n",
       " SchemaField('location_description', 'STRING', 'NULLABLE', None, None, (), None),\n",
       " SchemaField('arrest', 'BOOLEAN', 'NULLABLE', None, None, (), None),\n",
       " SchemaField('domestic', 'BOOLEAN', 'NULLABLE', None, None, (), None),\n",
       " SchemaField('beat', 'INTEGER', 'NULLABLE', None, None, (), None),\n",
       " SchemaField('district', 'INTEGER', 'NULLABLE', None, None, (), None),\n",
       " SchemaField('ward', 'INTEGER', 'NULLABLE', None, None, (), None),\n",
       " SchemaField('community_area', 'INTEGER', 'NULLABLE', None, None, (), None),\n",
       " SchemaField('fbi_code', 'STRING', 'NULLABLE', None, None, (), None),\n",
       " SchemaField('x_coordinate', 'FLOAT', 'NULLABLE', None, None, (), None),\n",
       " SchemaField('y_coordinate', 'FLOAT', 'NULLABLE', None, None, (), None),\n",
       " SchemaField('year', 'INTEGER', 'NULLABLE', None, None, (), None),\n",
       " SchemaField('updated_on', 'TIMESTAMP', 'NULLABLE', None, None, (), None),\n",
       " SchemaField('latitude', 'FLOAT', 'NULLABLE', None, None, (), None),\n",
       " SchemaField('longitude', 'FLOAT', 'NULLABLE', None, None, (), None),\n",
       " SchemaField('location', 'STRING', 'NULLABLE', None, None, (), None)]"
      ]
     },
     "execution_count": 9,
     "metadata": {},
     "output_type": "execute_result"
    }
   ],
   "source": [
    "# Write the code here to explore the data so you can find the answer\n",
    "crime.schema"
   ]
  },
  {
   "cell_type": "code",
   "execution_count": 10,
   "id": "88481044",
   "metadata": {
    "execution": {
     "iopub.execute_input": "2025-05-19T06:26:55.389170Z",
     "iopub.status.busy": "2025-05-19T06:26:55.388859Z",
     "iopub.status.idle": "2025-05-19T06:26:55.396432Z",
     "shell.execute_reply": "2025-05-19T06:26:55.395558Z"
    },
    "papermill": {
     "duration": 0.014601,
     "end_time": "2025-05-19T06:26:55.397849",
     "exception": false,
     "start_time": "2025-05-19T06:26:55.383248",
     "status": "completed"
    },
    "tags": []
   },
   "outputs": [
    {
     "data": {
      "application/javascript": [
       "parent.postMessage({\"jupyterEvent\": \"custom.exercise_interaction\", \"data\": {\"outcomeType\": 1, \"valueTowardsCompletion\": 0.3333333333333333, \"interactionType\": 1, \"questionType\": 2, \"questionId\": \"3_IdentifyFieldsForPlotting\", \"learnToolsVersion\": \"0.3.5\", \"failureMessage\": \"\", \"exceptionClass\": \"\", \"trace\": \"\"}}, \"*\")"
      ],
      "text/plain": [
       "<IPython.core.display.Javascript object>"
      ]
     },
     "metadata": {},
     "output_type": "display_data"
    },
    {
     "data": {
      "text/markdown": [
       "<span style=\"color:#33cc33\">Correct</span>"
      ],
      "text/plain": [
       "Correct"
      ]
     },
     "metadata": {},
     "output_type": "display_data"
    }
   ],
   "source": [
    "fields_for_plotting = ['latitude', 'longitude'] # Put your answers here\n",
    "\n",
    "# Check your answer\n",
    "q_3.check()"
   ]
  },
  {
   "cell_type": "markdown",
   "id": "94bfe3cc",
   "metadata": {
    "papermill": {
     "duration": 0.004434,
     "end_time": "2025-05-19T06:26:55.407186",
     "exception": false,
     "start_time": "2025-05-19T06:26:55.402752",
     "status": "completed"
    },
    "tags": []
   },
   "source": [
    "For a hint or the solution, uncomment the appropriate line below."
   ]
  },
  {
   "cell_type": "code",
   "execution_count": 11,
   "id": "dc091293",
   "metadata": {
    "execution": {
     "iopub.execute_input": "2025-05-19T06:26:55.418858Z",
     "iopub.status.busy": "2025-05-19T06:26:55.417688Z",
     "iopub.status.idle": "2025-05-19T06:26:55.422143Z",
     "shell.execute_reply": "2025-05-19T06:26:55.421272Z"
    },
    "papermill": {
     "duration": 0.011816,
     "end_time": "2025-05-19T06:26:55.423610",
     "exception": false,
     "start_time": "2025-05-19T06:26:55.411794",
     "status": "completed"
    },
    "tags": []
   },
   "outputs": [],
   "source": [
    "#q_3.hint()\n",
    "#q_3.solution()"
   ]
  },
  {
   "cell_type": "markdown",
   "id": "9238d9f9",
   "metadata": {
    "papermill": {
     "duration": 0.004636,
     "end_time": "2025-05-19T06:26:55.433323",
     "exception": false,
     "start_time": "2025-05-19T06:26:55.428687",
     "status": "completed"
    },
    "tags": []
   },
   "source": [
    "Thinking about the question above, there are a few columns that appear to have geographic data. Look at a few values (with the `list_rows()` command) to see if you can determine their relationship.  Two columns will still be hard to interpret. But it should be obvious how the `location` column relates to `latitude` and `longitude`."
   ]
  },
  {
   "cell_type": "code",
   "execution_count": 12,
   "id": "2e911f59",
   "metadata": {
    "execution": {
     "iopub.execute_input": "2025-05-19T06:26:55.444577Z",
     "iopub.status.busy": "2025-05-19T06:26:55.444228Z",
     "iopub.status.idle": "2025-05-19T06:26:55.448452Z",
     "shell.execute_reply": "2025-05-19T06:26:55.447572Z"
    },
    "papermill": {
     "duration": 0.011644,
     "end_time": "2025-05-19T06:26:55.449938",
     "exception": false,
     "start_time": "2025-05-19T06:26:55.438294",
     "status": "completed"
    },
    "tags": []
   },
   "outputs": [],
   "source": [
    "# Scratch space for your code"
   ]
  },
  {
   "cell_type": "markdown",
   "id": "be907993",
   "metadata": {
    "papermill": {
     "duration": 0.005166,
     "end_time": "2025-05-19T06:26:55.460031",
     "exception": false,
     "start_time": "2025-05-19T06:26:55.454865",
     "status": "completed"
    },
    "tags": []
   },
   "source": [
    "# Keep going\n",
    "\n",
    "You've looked at the schema, but you haven't yet done anything exciting with the data itself. Things get more interesting when you get to the data, so keep going to **[write your first SQL query](https://www.kaggle.com/dansbecker/select-from-where).**"
   ]
  },
  {
   "cell_type": "markdown",
   "id": "35caa2fc",
   "metadata": {
    "papermill": {
     "duration": 0.004617,
     "end_time": "2025-05-19T06:26:55.469937",
     "exception": false,
     "start_time": "2025-05-19T06:26:55.465320",
     "status": "completed"
    },
    "tags": []
   },
   "source": [
    "---\n",
    "\n",
    "\n",
    "\n",
    "\n",
    "*Have questions or comments? Visit the [course discussion forum](https://www.kaggle.com/learn/intro-to-sql/discussion) to chat with other learners.*"
   ]
  }
 ],
 "metadata": {
  "kaggle": {
   "accelerator": "none",
   "dataSources": [
    {
     "datasetId": 22090,
     "sourceId": 28376,
     "sourceType": "datasetVersion"
    },
    {
     "datasetId": 6057,
     "sourceId": 285982,
     "sourceType": "datasetVersion"
    }
   ],
   "isGpuEnabled": false,
   "isInternetEnabled": false,
   "language": "python",
   "sourceType": "notebook"
  },
  "kernelspec": {
   "display_name": "Python 3",
   "language": "python",
   "name": "python3"
  },
  "language_info": {
   "codemirror_mode": {
    "name": "ipython",
    "version": 3
   },
   "file_extension": ".py",
   "mimetype": "text/x-python",
   "name": "python",
   "nbconvert_exporter": "python",
   "pygments_lexer": "ipython3",
   "version": "3.11.11"
  },
  "papermill": {
   "default_parameters": {},
   "duration": 28.097923,
   "end_time": "2025-05-19T06:26:58.628943",
   "environment_variables": {},
   "exception": null,
   "input_path": "__notebook__.ipynb",
   "output_path": "__notebook__.ipynb",
   "parameters": {},
   "start_time": "2025-05-19T06:26:30.531020",
   "version": "2.6.0"
  }
 },
 "nbformat": 4,
 "nbformat_minor": 5
}
